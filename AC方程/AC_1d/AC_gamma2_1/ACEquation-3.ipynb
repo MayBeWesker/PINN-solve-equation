{
 "cells": [
  {
   "cell_type": "code",
   "execution_count": 1,
   "id": "33d2238a",
   "metadata": {},
   "outputs": [],
   "source": [
    "import torch\n",
    "import torch.nn as nn\n",
    "import torch.optim as optim\n",
    "\n",
    "import numpy as np\n",
    "import matplotlib.pyplot as plt\n",
    "import scipy.io\n",
    "import seaborn as sns\n",
    "# from pyDOE import lhs\n",
    "import random\n",
    "import os\n",
    "import time\n",
    "\n",
    "plt.rcParams.update({'font.size':18})"
   ]
  },
  {
   "cell_type": "code",
   "execution_count": 2,
   "id": "27f50a54",
   "metadata": {},
   "outputs": [],
   "source": [
    "def seed_torch(seed=1024):\n",
    "    #     random.seed(seed)\n",
    "    os.environ['PYTHONHASHSEED'] = str(seed)  # 为了禁止hash随机化，使得实验可复现\n",
    "    np.random.seed(seed)\n",
    "    torch.manual_seed(seed)\n",
    "    torch.cuda.manual_seed(seed)\n",
    "    torch.cuda.manual_seed_all(seed)  # if you are using multi-GPU.\n",
    "    torch.backends.cudnn.benchmark = False\n",
    "    torch.backends.cudnn.deterministic = True"
   ]
  },
  {
   "cell_type": "code",
   "execution_count": 3,
   "id": "ff9dccdc",
   "metadata": {},
   "outputs": [],
   "source": [
    "domain = (0, 1, -1, 1)\n",
    "tmin, tmax, xmin, xmax = domain\n",
    "mlp_layers = [2] + [50]*5 + [1]\n",
    "# adam_iters = 40000\n",
    "adam_iters = 20000\n",
    "device = torch.device('cuda' if torch.cuda.is_available() else 'cpu')\n",
    "model_path = r'./model'\n",
    "train_info_path = r'./'\n",
    "if not os.path.exists(model_path):\n",
    "    os.mkdir(model_path)"
   ]
  },
  {
   "cell_type": "code",
   "execution_count": 4,
   "id": "eb215911",
   "metadata": {},
   "outputs": [
    {
     "name": "stdout",
     "output_type": "stream",
     "text": [
      "(4000, 2) (50, 2) (50, 2) (100, 2) (100, 1)\n"
     ]
    }
   ],
   "source": [
    "class Dataset:\n",
    "    def __init__(self, domain):\n",
    "        self.domain = domain\n",
    "\n",
    "    def train_data(self, verbose=None):\n",
    "        tmin, tmax, xmin, xmax = self.domain\n",
    "        # 内部点采样\n",
    "        t_res = np.linspace(tmin, tmax, 50)\n",
    "        x_res = np.linspace(xmin, xmax, 80)\n",
    "        X_res = self.sample_xy(t_res, x_res)\n",
    "        \n",
    "        X_bcs = np.array([]).reshape((-1, 2))\n",
    "        X_bcs_l = np.concatenate([X_bcs, self.sample_xy(np.linspace(tmin, tmax, 50), np.array([xmin]))], axis=0)\n",
    "        X_bcs_u = np.concatenate([X_bcs, self.sample_xy(np.linspace(tmin, tmax, 50), np.array([xmax]))], axis=0)\n",
    "        \n",
    "        X_ics =self.sample_xy(np.array([tmin]), np.linspace(xmin, xmax, 100))\n",
    "        # X_ics = np.concatenate([X_ics, self.sample_xy(np.array([tmin]), np.linspace(xmin,xmax,100))], axis=0)\n",
    "        \n",
    "        u_ics = self.u_ics_sol(X_ics)\n",
    "\n",
    "        return X_res, X_bcs_l, X_bcs_u, X_ics, u_ics\n",
    "\n",
    "\n",
    "    def sample_xy(self, x, y):\n",
    "        xx, yy = np.meshgrid(x, y)\n",
    "        X = np.concatenate([xx.reshape((-1, 1)), yy.reshape((-1, 1))], axis=1)\n",
    "        return X\n",
    "    \n",
    "    def u_ics_sol(self, X):\n",
    "        return X[:, [1]]**2 * np.sin(2*np.pi * X[:, [1]])\n",
    "    \n",
    "dataset = Dataset(domain)\n",
    "# 内部点与边界点\n",
    "X_res, X_bcs_l, X_bcs_u, X_ics, u_ics = dataset.train_data()\n",
    "print(X_res.shape,X_bcs_l.shape, X_bcs_u.shape, X_ics.shape, u_ics.shape)"
   ]
  },
  {
   "cell_type": "markdown",
   "id": "a7353ecb",
   "metadata": {},
   "source": [
    "## DNN"
   ]
  },
  {
   "cell_type": "code",
   "execution_count": 5,
   "id": "7cafebda",
   "metadata": {},
   "outputs": [
    {
     "data": {
      "text/plain": [
       "MLP(\n",
       "  (model): Sequential(\n",
       "    (fc1): Linear(in_features=2, out_features=50, bias=True)\n",
       "    (act1): Tanh()\n",
       "    (fc2): Linear(in_features=50, out_features=50, bias=True)\n",
       "    (act2): Tanh()\n",
       "    (fc3): Linear(in_features=50, out_features=50, bias=True)\n",
       "    (act3): Tanh()\n",
       "    (fc4): Linear(in_features=50, out_features=50, bias=True)\n",
       "    (act4): Tanh()\n",
       "    (fc5): Linear(in_features=50, out_features=50, bias=True)\n",
       "    (act5): Tanh()\n",
       "    (fc6)): Linear(in_features=50, out_features=1, bias=False)\n",
       "  )\n",
       ")"
      ]
     },
     "execution_count": 5,
     "metadata": {},
     "output_type": "execute_result"
    }
   ],
   "source": [
    "class MLP(nn.Module):\n",
    "    def __init__(self, mlp_layers):\n",
    "        super(MLP, self).__init__()\n",
    "        self.model = nn.Sequential()\n",
    "        for i in range(len(mlp_layers) - 2):\n",
    "            self.model.add_module(f'fc{i + 1}', nn.Linear(mlp_layers[i], mlp_layers[i + 1], bias=True))\n",
    "            self.model.add_module(f'act{i + 1}', nn.Tanh())\n",
    "        self.model.add_module(f'fc{len(mlp_layers) - 1})', nn.Linear(mlp_layers[-2], mlp_layers[-1], bias=False))\n",
    "\n",
    "    def forward(self, X):\n",
    "        return self.model(X)\n",
    "\n",
    "mlp = MLP(mlp_layers)\n",
    "mlp"
   ]
  },
  {
   "cell_type": "markdown",
   "id": "12d19c76",
   "metadata": {},
   "source": [
    "## 主干网络"
   ]
  },
  {
   "cell_type": "code",
   "execution_count": 6,
   "id": "d2a0e982",
   "metadata": {},
   "outputs": [],
   "source": [
    "def grad(outputs, inputs):\n",
    "    return torch.autograd.grad(outputs, inputs,\n",
    "                               grad_outputs=torch.ones_like(outputs),\n",
    "                               create_graph=True)"
   ]
  },
  {
   "cell_type": "code",
   "execution_count": 7,
   "id": "fd43469f",
   "metadata": {},
   "outputs": [],
   "source": [
    "class PINN(nn.Module):\n",
    "    def __init__(self, backbone, mu=None, sigma=None):\n",
    "        super(PINN, self).__init__()\n",
    "        self.backbone = backbone\n",
    "\n",
    "    def forward(self, X_res, X_bcs_l, X_bcs_u, X_ics, u_ics):\n",
    "        \n",
    "        loss_res = torch.mean(self.net_f(X_res) ** 2)\n",
    "        loss_ics = torch.mean((self.net_u(X_ics)-u_ics) ** 2)\n",
    "        loss_bcs = torch.mean((self.net_u(X_bcs_l)-self.net_u(X_bcs_u)) ** 2)\n",
    "        loss_bcs_t = torch.mean((self.net_u_x(X_bcs_l)-self.net_u_x(X_bcs_u)) ** 2)\n",
    "\n",
    "        return loss_res, loss_ics,loss_bcs,loss_bcs_t\n",
    "\n",
    "    def net_u(self, X):\n",
    "        return self.backbone(X)\n",
    "    \n",
    "    def net_u_x(self,X):\n",
    "        X.requires_grad_(True)\n",
    "        u = self.net_u(X)\n",
    "        \n",
    "        # 求梯度\n",
    "        grad_u = grad(u, X)[0]\n",
    "        u_x = grad_u[:, [1]]\n",
    "        return u_x\n",
    "\n",
    "    def net_f(self, X):\n",
    "        X.requires_grad_(True)\n",
    "        u = self.net_u(X)\n",
    "#         print(u.shape)\n",
    "        # 求梯度\n",
    "        grad_u = grad(u, X)[0]\n",
    "        u_t = grad_u[:, [0]]\n",
    "        u_x = grad_u[:, [1]]\n",
    "        u_tt = grad(u_t, X)[0][:, [0]]\n",
    "        u_xx = grad(u_x, X)[0][:, [1]]\n",
    "        \n",
    "        gamma1 = 0.0001\n",
    "        gamma2 = 1\n",
    "        \n",
    "        f = u_t - gamma1*u_xx + gamma2*u**3 - gamma2*u\n",
    "        return f  \n",
    "\n",
    "pinn = PINN(mlp)"
   ]
  },
  {
   "cell_type": "markdown",
   "id": "95020ce5",
   "metadata": {},
   "source": [
    "## Adam"
   ]
  },
  {
   "cell_type": "code",
   "execution_count": 8,
   "id": "a73d1081",
   "metadata": {
    "scrolled": true
   },
   "outputs": [
    {
     "name": "stdout",
     "output_type": "stream",
     "text": [
      "Iter #    500/20000\tloss:7.69e+00, loss_r:8.19e-03, loss_i:6.86e-02 , loss_b:8.21e-03, loss_b_t:3.43e-03  Valid # loss:8.80e-02, loss_r:7.93e-03, loss_i:6.88e-02, loss_b:7.82e-03, loss_b_t:3.49e-03\n",
      "Iter #   1000/20000\tloss:7.63e+00, loss_r:6.88e-03, loss_i:6.93e-02 , loss_b:1.03e-02, loss_b_t:4.03e-03  Valid # loss:9.42e-02, loss_r:9.45e-03, loss_i:6.71e-02, loss_b:1.39e-02, loss_b_t:3.78e-03\n",
      "Iter #   1500/20000\tloss:7.33e+00, loss_r:1.05e-02, loss_i:6.18e-02 , loss_b:9.19e-02, loss_b_t:9.56e-03  Valid # loss:1.77e-01, loss_r:1.08e-02, loss_i:6.15e-02, loss_b:9.50e-02, loss_b_t:9.72e-03\n",
      "Iter #   2000/20000\tloss:6.88e+00, loss_r:1.06e-02, loss_i:5.54e-02 , loss_b:2.76e-01, loss_b_t:4.73e-03  Valid # loss:3.36e-01, loss_r:9.12e-03, loss_i:5.72e-02, loss_b:2.64e-01, loss_b_t:5.07e-03\n",
      "Iter #   2500/20000\tloss:5.22e+00, loss_r:6.92e-03, loss_i:3.82e-02 , loss_b:6.81e-01, loss_b_t:2.57e-02  Valid # loss:7.37e-01, loss_r:5.45e-03, loss_i:3.98e-02, loss_b:6.66e-01, loss_b_t:2.60e-02\n",
      "Iter #   3000/20000\tloss:4.81e+00, loss_r:5.85e-03, loss_i:3.60e-02 , loss_b:6.09e-01, loss_b_t:1.29e-02  Valid # loss:7.01e-01, loss_r:8.20e-03, loss_i:3.35e-02, loss_b:6.45e-01, loss_b_t:1.44e-02\n",
      "Iter #   3500/20000\tloss:4.62e+00, loss_r:7.42e-03, loss_i:3.32e-02 , loss_b:5.47e-01, loss_b_t:1.15e-02  Valid # loss:5.91e-01, loss_r:6.60e-03, loss_i:3.41e-02, loss_b:5.40e-01, loss_b_t:1.04e-02\n",
      "Iter #   4000/20000\tloss:4.61e+00, loss_r:5.95e-03, loss_i:3.54e-02 , loss_b:4.73e-01, loss_b_t:5.61e-03  Valid # loss:5.44e-01, loss_r:8.00e-03, loss_i:3.26e-02, loss_b:4.94e-01, loss_b_t:9.40e-03\n",
      "Iter #   4500/20000\tloss:4.45e+00, loss_r:6.50e-03, loss_i:3.33e-02 , loss_b:4.62e-01, loss_b_t:6.77e-03  Valid # loss:5.10e-01, loss_r:6.50e-03, loss_i:3.33e-02, loss_b:4.63e-01, loss_b_t:7.39e-03\n",
      "Iter #   5000/20000\tloss:4.39e+00, loss_r:6.71e-03, loss_i:3.25e-02 , loss_b:4.52e-01, loss_b_t:9.99e-03  Valid # loss:4.93e-01, loss_r:6.40e-03, loss_i:3.29e-02, loss_b:4.46e-01, loss_b_t:7.32e-03\n",
      "Iter #   5500/20000\tloss:4.30e+00, loss_r:6.13e-03, loss_i:3.24e-02 , loss_b:4.38e-01, loss_b_t:1.02e-02  Valid # loss:5.30e-01, loss_r:7.34e-03, loss_i:3.09e-02, loss_b:4.66e-01, loss_b_t:2.59e-02\n",
      "Iter #   6000/20000\tloss:3.91e+00, loss_r:8.10e-03, loss_i:2.40e-02 , loss_b:6.65e-01, loss_b_t:3.23e-02  Valid # loss:6.93e-01, loss_r:7.65e-03, loss_i:2.46e-02, loss_b:6.44e-01, loss_b_t:1.61e-02\n",
      "Iter #   6500/20000\tloss:4.88e+00, loss_r:7.92e-03, loss_i:3.58e-02 , loss_b:4.54e-01, loss_b_t:5.49e-02  Valid # loss:5.52e-01, loss_r:7.94e-03, loss_i:3.58e-02, loss_b:4.53e-01, loss_b_t:5.46e-02\n",
      "Iter #   7000/20000\tloss:4.35e+00, loss_r:7.29e-03, loss_i:3.26e-02 , loss_b:3.34e-01, loss_b_t:2.81e-02  Valid # loss:4.00e-01, loss_r:7.20e-03, loss_i:3.27e-02, loss_b:3.32e-01, loss_b_t:2.80e-02\n",
      "Iter #   7500/20000\tloss:1.49e+00, loss_r:3.07e-03, loss_i:4.86e-03 , loss_b:6.79e-01, loss_b_t:1.42e-02  Valid # loss:6.94e-01, loss_r:3.12e-03, loss_i:4.80e-03, loss_b:6.71e-01, loss_b_t:1.50e-02\n",
      "Iter #   8000/20000\tloss:7.96e-01, loss_r:1.81e-03, loss_i:3.64e-03 , loss_b:2.50e-01, loss_b_t:2.19e-03  Valid # loss:2.51e-01, loss_r:1.83e-03, loss_i:3.71e-03, loss_b:2.39e-01, loss_b_t:6.11e-03\n",
      "Iter #   8500/20000\tloss:6.20e-01, loss_r:1.57e-03, loss_i:3.03e-03 , loss_b:1.51e-01, loss_b_t:7.82e-03  Valid # loss:2.29e-01, loss_r:1.67e-03, loss_i:3.01e-03, loss_b:1.62e-01, loss_b_t:6.23e-02\n",
      "Iter #   9000/20000\tloss:5.61e-01, loss_r:1.54e-03, loss_i:3.04e-03 , loss_b:1.01e-01, loss_b_t:2.80e-03  Valid # loss:1.21e-01, loss_r:1.93e-03, loss_i:2.88e-03, loss_b:1.12e-01, loss_b_t:4.64e-03\n",
      "Iter #   9500/20000\tloss:5.24e-01, loss_r:1.27e-03, loss_i:2.39e-03 , loss_b:9.15e-02, loss_b_t:6.70e-02  Valid # loss:1.99e-01, loss_r:1.41e-03, loss_i:2.49e-03, loss_b:7.91e-02, loss_b_t:1.16e-01\n",
      "Iter #  10000/20000\tloss:4.02e-01, loss_r:1.04e-03, loss_i:2.22e-03 , loss_b:7.46e-02, loss_b_t:9.60e-04  Valid # loss:8.39e-02, loss_r:1.08e-03, loss_i:2.23e-03, loss_b:7.10e-02, loss_b_t:9.63e-03\n",
      "Iter #  10500/20000\tloss:3.62e-01, loss_r:9.46e-04, loss_i:2.04e-03 , loss_b:5.64e-02, loss_b_t:7.09e-03  Valid # loss:6.77e-02, loss_r:9.67e-04, loss_i:2.05e-03, loss_b:5.39e-02, loss_b_t:1.08e-02\n",
      "Iter #  11000/20000\tloss:3.22e-01, loss_r:8.30e-04, loss_i:1.91e-03 , loss_b:4.62e-02, loss_b_t:1.51e-03  Valid # loss:5.05e-02, loss_r:8.32e-04, loss_i:1.91e-03, loss_b:4.62e-02, loss_b_t:1.53e-03\n",
      "Iter #  11500/20000\tloss:3.08e-01, loss_r:7.40e-04, loss_i:1.83e-03 , loss_b:3.85e-02, loss_b_t:1.29e-02  Valid # loss:4.03e-02, loss_r:7.11e-04, loss_i:1.83e-03, loss_b:3.64e-02, loss_b_t:1.33e-03\n",
      "Iter #  12000/20000\tloss:3.09e-01, loss_r:7.28e-04, loss_i:1.71e-03 , loss_b:2.71e-02, loss_b_t:3.80e-02  Valid # loss:7.65e-02, loss_r:7.23e-04, loss_i:1.73e-03, loss_b:2.65e-02, loss_b_t:4.75e-02\n",
      "Iter #  12500/20000\tloss:2.53e-01, loss_r:5.99e-04, loss_i:1.69e-03 , loss_b:1.84e-02, loss_b_t:5.60e-03  Valid # loss:2.59e-02, loss_r:6.04e-04, loss_i:1.68e-03, loss_b:1.86e-02, loss_b_t:5.06e-03\n",
      "Iter #  13000/20000\tloss:2.32e-01, loss_r:5.10e-04, loss_i:1.61e-03 , loss_b:1.91e-02, loss_b_t:9.15e-04  Valid # loss:2.27e-02, loss_r:5.13e-04, loss_i:1.59e-03, loss_b:1.92e-02, loss_b_t:1.41e-03\n",
      "Iter #  13500/20000\tloss:2.15e-01, loss_r:4.74e-04, loss_i:1.54e-03 , loss_b:1.21e-02, loss_b_t:1.57e-03  Valid # loss:1.68e-02, loss_r:4.75e-04, loss_i:1.54e-03, loss_b:1.22e-02, loss_b_t:2.51e-03\n",
      "Iter #  14000/20000\tloss:2.17e-01, loss_r:4.39e-04, loss_i:1.50e-03 , loss_b:9.03e-03, loss_b_t:1.37e-02  Valid # loss:6.84e-02, loss_r:4.87e-04, loss_i:1.50e-03, loss_b:9.11e-03, loss_b_t:5.73e-02\n",
      "Iter #  14500/20000\tloss:1.46e+01, loss_r:1.16e-01, loss_i:2.07e-02 , loss_b:6.72e-01, loss_b_t:2.57e-01  Valid # loss:1.18e+00, loss_r:9.67e-02, loss_i:2.19e-02, loss_b:6.88e-01, loss_b_t:3.71e-01\n",
      "Iter #  15000/20000\tloss:1.56e+00, loss_r:4.46e-03, loss_i:6.61e-03 , loss_b:4.20e-01, loss_b_t:3.26e-02  Valid # loss:4.63e-01, loss_r:4.45e-03, loss_i:6.60e-03, loss_b:4.19e-01, loss_b_t:3.29e-02\n",
      "Iter #  15500/20000\tloss:6.59e-01, loss_r:2.02e-03, loss_i:3.10e-03 , loss_b:1.40e-01, loss_b_t:6.08e-03  Valid # loss:1.52e-01, loss_r:2.01e-03, loss_i:3.11e-03, loss_b:1.40e-01, loss_b_t:6.38e-03\n",
      "Iter #  16000/20000\tloss:4.17e-01, loss_r:1.13e-03, loss_i:2.20e-03 , loss_b:8.45e-02, loss_b_t:5.94e-04  Valid # loss:8.82e-02, loss_r:1.13e-03, loss_i:2.20e-03, loss_b:8.42e-02, loss_b_t:6.21e-04\n",
      "Iter #  16500/20000\tloss:3.35e-01, loss_r:8.22e-04, loss_i:1.94e-03 , loss_b:5.42e-02, loss_b_t:3.93e-03  Valid # loss:5.98e-02, loss_r:8.25e-04, loss_i:1.97e-03, loss_b:5.05e-02, loss_b_t:6.48e-03\n",
      "Iter #  17000/20000\tloss:2.81e-01, loss_r:6.69e-04, loss_i:1.84e-03 , loss_b:2.92e-02, loss_b_t:3.38e-04  Valid # loss:3.45e-02, loss_r:6.64e-04, loss_i:1.84e-03, loss_b:3.04e-02, loss_b_t:1.70e-03\n",
      "Iter #  17500/20000\tloss:2.53e-01, loss_r:5.91e-04, loss_i:1.74e-03 , loss_b:1.90e-02, loss_b_t:9.79e-04  Valid # loss:2.50e-02, loss_r:6.27e-04, loss_i:1.75e-03, loss_b:1.86e-02, loss_b_t:3.98e-03\n",
      "Iter #  18000/20000\tloss:2.42e-01, loss_r:5.21e-04, loss_i:1.67e-03 , loss_b:1.34e-02, loss_b_t:8.80e-03  Valid # loss:4.16e-02, loss_r:5.56e-04, loss_i:1.67e-03, loss_b:1.50e-02, loss_b_t:2.43e-02\n",
      "Iter #  18500/20000\tloss:2.32e-01, loss_r:4.59e-04, loss_i:1.60e-03 , loss_b:1.20e-02, loss_b_t:1.36e-02  Valid # loss:2.15e-02, loss_r:4.61e-04, loss_i:1.62e-03, loss_b:8.90e-03, loss_b_t:1.05e-02\n",
      "Iter #  19000/20000\tloss:2.15e-01, loss_r:4.28e-04, loss_i:1.56e-03 , loss_b:8.53e-03, loss_b_t:7.47e-03  Valid # loss:1.90e-02, loss_r:4.29e-04, loss_i:1.58e-03, loss_b:6.53e-03, loss_b_t:1.05e-02\n",
      "Iter #  19500/20000\tloss:2.01e-01, loss_r:4.01e-04, loss_i:1.54e-03 , loss_b:6.41e-03, loss_b_t:2.55e-04  Valid # loss:9.19e-03, loss_r:4.03e-04, loss_i:1.54e-03, loss_b:6.33e-03, loss_b_t:9.12e-04\n",
      "Iter #  20000/20000\tloss:1.97e-01, loss_r:3.90e-04, loss_i:1.51e-03 , loss_b:5.13e-03, loss_b_t:1.88e-03  Valid # loss:1.07e-02, loss_r:3.85e-04, loss_i:1.50e-03, loss_b:5.91e-03, loss_b_t:2.94e-03\n"
     ]
    }
   ],
   "source": [
    "dataset = Dataset(domain)\n",
    "X_res, X_bcs_l, X_bcs_u, X_ics, u_ics = dataset.train_data()\n",
    "\n",
    "X_res = torch.from_numpy(X_res).float().to(device)\n",
    "X_bcs_l = torch.from_numpy(X_bcs_l).float().to(device)\n",
    "X_bcs_u = torch.from_numpy(X_bcs_u).float().to(device)\n",
    "X_ics = torch.from_numpy(X_ics).float().to(device)\n",
    "u_ics = torch.from_numpy(u_ics).float().to(device)\n",
    "\n",
    "mu = X_res.mean(dim=0)\n",
    "sigma = X_res.std(dim=0)  # 求样本标准差\n",
    "\n",
    "backbone = MLP(mlp_layers)  # 主干网络\n",
    "pinn = PINN(backbone, mu, sigma).to(device)\n",
    "\n",
    "optimizer_adam = optim.Adam(pinn.backbone.parameters(), lr=1e-3)\n",
    "\n",
    "lr_sche = optim.lr_scheduler.ExponentialLR(optimizer_adam, gamma=0.8)  # 指数衰减学习率\n",
    "\n",
    "logger = {\n",
    "    \"loss\": [], \n",
    "    \"loss_res\": [],\n",
    "    \"loss_ics\": [],\n",
    "    \"loss_bcs\": [],\n",
    "    \"loss_bcs_t\": [],\n",
    "    \"iter\": [],\n",
    "    \"mu\": mu,\n",
    "    \"sigma\": sigma\n",
    "}\n",
    "best_loss = 1e9\n",
    "\n",
    "# 训练\n",
    "start_time = time.time()\n",
    "for it in range(adam_iters):\n",
    "    pinn.train()\n",
    "    pinn.zero_grad()\n",
    "    \n",
    "    loss_res, loss_ics, loss_bcs, loss_bcs_t = pinn(X_res, X_bcs_l, X_bcs_u, X_ics, u_ics)\n",
    "    loss = 100*loss_res + 100*loss_ics + loss_bcs + loss_bcs_t\n",
    "    \n",
    "    loss.backward()\n",
    "    optimizer_adam.step()\n",
    "    \n",
    "    if (it + 1) % 100 == 0:\n",
    "        # 保存loss信息\n",
    "        pinn.train(False)\n",
    "        loss_res_valid, loss_ics_valid, loss_bcs_valid, loss_bcs_t_valid = pinn(X_res, X_bcs_l, X_bcs_u, X_ics, u_ics)\n",
    "        loss_valid = loss_res_valid + loss_ics_valid + loss_bcs_valid + loss_bcs_t_valid\n",
    "        \n",
    "        logger[\"loss\"].append(loss_valid.item())\n",
    "        logger[\"loss_res\"].append(loss_res_valid.item())\n",
    "        logger[\"loss_ics\"].append(loss_ics_valid.item())\n",
    "        logger[\"loss_bcs\"].append(loss_bcs_valid.item())\n",
    "        logger[\"loss_bcs_t\"].append(loss_bcs_t_valid.item())\n",
    "        logger[\"iter\"].append(it+1)\n",
    "        \n",
    "        \n",
    "        # 保存训练loss最低的模型\n",
    "        if loss_valid.item() < best_loss:\n",
    "            model_state = {'iter': it+1, 'backbone_state': pinn.backbone.state_dict()}\n",
    "            torch.save(model_state, os.path.join(model_path, 'pinn_adam.pth'))\n",
    "            best_loss = loss_valid.item()\n",
    "        \n",
    "        if (it + 1) % 500 == 0:\n",
    "            # 保存并打印训练日志\n",
    "            info = f'Iter # {it+1:6d}/{adam_iters}\\t' + \\\n",
    "                f'loss:{loss.item():.2e}, loss_r:{loss_res.item():.2e}, loss_i:{loss_ics.item():.2e} , loss_b:{loss_bcs.item():.2e}, loss_b_t:{loss_bcs_t.item():.2e}  ' + \\\n",
    "                f'Valid # loss:{loss_valid.item():.2e}, loss_r:{loss_res_valid.item():.2e}, loss_i:{loss_ics_valid.item():.2e}, loss_b:{loss_bcs_valid.item():.2e}, loss_b_t:{loss_bcs_t_valid.item():.2e}'\n",
    "            with open(train_info_path + 'train_info.txt', 'a') as f:\n",
    "                f.write(info + '\\n')\n",
    "            print(info)\n",
    "            \n",
    "        # 衰减学习率\n",
    "        if (it + 1) % 4000 == 0:\n",
    "            lr_sche.step()\n",
    "        "
   ]
  },
  {
   "cell_type": "code",
   "execution_count": 9,
   "id": "01659246",
   "metadata": {},
   "outputs": [],
   "source": [
    "np.save(\"./logger.npy\", logger)"
   ]
  },
  {
   "cell_type": "code",
   "execution_count": 10,
   "id": "f85c4ab5",
   "metadata": {},
   "outputs": [
    {
     "ename": "UnpicklingError",
     "evalue": "STACK_GLOBAL requires str",
     "output_type": "error",
     "traceback": [
      "\u001b[1;31m---------------------------------------------------------------------------\u001b[0m",
      "\u001b[1;31mUnpicklingError\u001b[0m                           Traceback (most recent call last)",
      "\u001b[1;32m<ipython-input-10-f8425565cdf6>\u001b[0m in \u001b[0;36m<module>\u001b[1;34m\u001b[0m\n\u001b[1;32m----> 1\u001b[1;33m \u001b[0mlogger\u001b[0m \u001b[1;33m=\u001b[0m \u001b[0mtorch\u001b[0m\u001b[1;33m.\u001b[0m\u001b[0mload\u001b[0m\u001b[1;33m(\u001b[0m\u001b[1;34m\"./logger.npy\"\u001b[0m\u001b[1;33m,\u001b[0m \u001b[0mmap_location\u001b[0m\u001b[1;33m=\u001b[0m\u001b[1;34m'cpu'\u001b[0m\u001b[1;33m)\u001b[0m\u001b[1;33m.\u001b[0m\u001b[0mitem\u001b[0m\u001b[1;33m(\u001b[0m\u001b[1;33m)\u001b[0m\u001b[1;33m\u001b[0m\u001b[1;33m\u001b[0m\u001b[0m\n\u001b[0m\u001b[0;32m      2\u001b[0m \u001b[0mk\u001b[0m \u001b[1;33m=\u001b[0m \u001b[1;36m2\u001b[0m\u001b[1;33m\u001b[0m\u001b[1;33m\u001b[0m\u001b[0m\n\u001b[0;32m      3\u001b[0m \u001b[1;32mwith\u001b[0m \u001b[0msns\u001b[0m\u001b[1;33m.\u001b[0m\u001b[0maxes_style\u001b[0m\u001b[1;33m(\u001b[0m\u001b[1;34m\"darkgrid\"\u001b[0m\u001b[1;33m)\u001b[0m\u001b[1;33m:\u001b[0m\u001b[1;33m\u001b[0m\u001b[1;33m\u001b[0m\u001b[0m\n\u001b[0;32m      4\u001b[0m     \u001b[0mplt\u001b[0m\u001b[1;33m.\u001b[0m\u001b[0mfigure\u001b[0m\u001b[1;33m(\u001b[0m\u001b[0mfigsize\u001b[0m\u001b[1;33m=\u001b[0m\u001b[1;33m(\u001b[0m\u001b[1;36m9\u001b[0m\u001b[1;33m,\u001b[0m \u001b[1;36m7\u001b[0m\u001b[1;33m)\u001b[0m\u001b[1;33m)\u001b[0m\u001b[1;33m\u001b[0m\u001b[1;33m\u001b[0m\u001b[0m\n\u001b[0;32m      5\u001b[0m     \u001b[0mplt\u001b[0m\u001b[1;33m.\u001b[0m\u001b[0msubplot\u001b[0m\u001b[1;33m(\u001b[0m\u001b[1;36m111\u001b[0m\u001b[1;33m)\u001b[0m\u001b[1;33m\u001b[0m\u001b[1;33m\u001b[0m\u001b[0m\n",
      "\u001b[1;32mD:\\Program Files\\Anaconda\\lib\\site-packages\\torch\\serialization.py\u001b[0m in \u001b[0;36mload\u001b[1;34m(f, map_location, pickle_module, weights_only, **pickle_load_args)\u001b[0m\n\u001b[0;32m    793\u001b[0m             \u001b[1;32mexcept\u001b[0m \u001b[0mRuntimeError\u001b[0m \u001b[1;32mas\u001b[0m \u001b[0me\u001b[0m\u001b[1;33m:\u001b[0m\u001b[1;33m\u001b[0m\u001b[1;33m\u001b[0m\u001b[0m\n\u001b[0;32m    794\u001b[0m                 \u001b[1;32mraise\u001b[0m \u001b[0mpickle\u001b[0m\u001b[1;33m.\u001b[0m\u001b[0mUnpicklingError\u001b[0m\u001b[1;33m(\u001b[0m\u001b[0mUNSAFE_MESSAGE\u001b[0m \u001b[1;33m+\u001b[0m \u001b[0mstr\u001b[0m\u001b[1;33m(\u001b[0m\u001b[0me\u001b[0m\u001b[1;33m)\u001b[0m\u001b[1;33m)\u001b[0m \u001b[1;32mfrom\u001b[0m \u001b[1;32mNone\u001b[0m\u001b[1;33m\u001b[0m\u001b[1;33m\u001b[0m\u001b[0m\n\u001b[1;32m--> 795\u001b[1;33m         \u001b[1;32mreturn\u001b[0m \u001b[0m_legacy_load\u001b[0m\u001b[1;33m(\u001b[0m\u001b[0mopened_file\u001b[0m\u001b[1;33m,\u001b[0m \u001b[0mmap_location\u001b[0m\u001b[1;33m,\u001b[0m \u001b[0mpickle_module\u001b[0m\u001b[1;33m,\u001b[0m \u001b[1;33m**\u001b[0m\u001b[0mpickle_load_args\u001b[0m\u001b[1;33m)\u001b[0m\u001b[1;33m\u001b[0m\u001b[1;33m\u001b[0m\u001b[0m\n\u001b[0m\u001b[0;32m    796\u001b[0m \u001b[1;33m\u001b[0m\u001b[0m\n\u001b[0;32m    797\u001b[0m \u001b[1;33m\u001b[0m\u001b[0m\n",
      "\u001b[1;32mD:\\Program Files\\Anaconda\\lib\\site-packages\\torch\\serialization.py\u001b[0m in \u001b[0;36m_legacy_load\u001b[1;34m(f, map_location, pickle_module, **pickle_load_args)\u001b[0m\n\u001b[0;32m   1000\u001b[0m             \"functionality.\")\n\u001b[0;32m   1001\u001b[0m \u001b[1;33m\u001b[0m\u001b[0m\n\u001b[1;32m-> 1002\u001b[1;33m     \u001b[0mmagic_number\u001b[0m \u001b[1;33m=\u001b[0m \u001b[0mpickle_module\u001b[0m\u001b[1;33m.\u001b[0m\u001b[0mload\u001b[0m\u001b[1;33m(\u001b[0m\u001b[0mf\u001b[0m\u001b[1;33m,\u001b[0m \u001b[1;33m**\u001b[0m\u001b[0mpickle_load_args\u001b[0m\u001b[1;33m)\u001b[0m\u001b[1;33m\u001b[0m\u001b[1;33m\u001b[0m\u001b[0m\n\u001b[0m\u001b[0;32m   1003\u001b[0m     \u001b[1;32mif\u001b[0m \u001b[0mmagic_number\u001b[0m \u001b[1;33m!=\u001b[0m \u001b[0mMAGIC_NUMBER\u001b[0m\u001b[1;33m:\u001b[0m\u001b[1;33m\u001b[0m\u001b[1;33m\u001b[0m\u001b[0m\n\u001b[0;32m   1004\u001b[0m         \u001b[1;32mraise\u001b[0m \u001b[0mRuntimeError\u001b[0m\u001b[1;33m(\u001b[0m\u001b[1;34m\"Invalid magic number; corrupt file?\"\u001b[0m\u001b[1;33m)\u001b[0m\u001b[1;33m\u001b[0m\u001b[1;33m\u001b[0m\u001b[0m\n",
      "\u001b[1;31mUnpicklingError\u001b[0m: STACK_GLOBAL requires str"
     ]
    }
   ],
   "source": [
    "logger = np.load(\"./logger.npy\", allow_pickle=True).item()\n",
    "k = 2\n",
    "with sns.axes_style(\"darkgrid\"):\n",
    "    plt.figure(figsize=(9, 7))\n",
    "    plt.subplot(111)\n",
    "    # plt.plot(logger[\"iter\"][::k], logger[\"loss\"][::k], label=r\"$L$\")\n",
    "    plt.plot(logger[\"iter\"][::k], logger[\"loss_res\"][::k], label=r\"$\\mathcal{L}_{r}$\", linewidth=3)\n",
    "    plt.plot(logger[\"iter\"][::k], logger[\"loss_ics\"][::k], label=r\"$\\mathcal{L}_{ics}$\", linewidth=3)\n",
    "    plt.legend()\n",
    "    plt.xticks([0, 5000, 10000, 15000, 20000])\n",
    "    plt.xlabel('Iteration')\n",
    "    plt.ylabel('Loss')\n",
    "    plt.yscale('log')\n",
    "    plt.savefig('loss.png', dpi=100)\n",
    "    plt.show()"
   ]
  },
  {
   "cell_type": "code",
   "execution_count": 11,
   "id": "463cfdb2",
   "metadata": {},
   "outputs": [],
   "source": [
    "t = np.linspace(tmin, tmax, 100)\n",
    "x = np.linspace(xmin, xmax, 100)\n",
    "tt, xx = np.meshgrid(t, x)\n",
    "X = np.concatenate([tt.reshape((-1, 1)), xx.reshape((-1, 1))], axis=1)\n",
    "\n",
    "X = torch.from_numpy(X).float().to(device)\n",
    "\n",
    "u_pred = pinn.net_u(X).detach().cpu().numpy()"
   ]
  },
  {
   "cell_type": "code",
   "execution_count": 13,
   "id": "d437a992",
   "metadata": {},
   "outputs": [
    {
     "data": {
      "image/png": "[encoded data removed]",
      "text/plain": [
       "<Figure size 432x360 with 2 Axes>"
      ]
     },
     "metadata": {
      "needs_background": "light"
     },
     "output_type": "display_data"
    }
   ],
   "source": [
    "fig = plt.figure(figsize=(6, 5))\n",
    "ax = plt.subplot(1, 1, 1)\n",
    "plt.pcolor(tt, xx, u_pred.reshape(xx.shape), cmap='jet', vmin = -1, vmax = 1)\n",
    "plt.colorbar()\n",
    "# plt.clim([-1., 1.])\n",
    "plt.xlabel('$t$')\n",
    "plt.ylabel('$x$')\n",
    "ax.set_xlim([0, 1])\n",
    "ax.set_ylim([-1, 1])\n",
    "ax.set_xticks(np.linspace(0, 1, 5))\n",
    "ax.set_yticks(np.linspace(-1, 1, 5))\n",
    "plt.title(r'Predicted $u(t,x)$')\n",
    "ax.set_aspect(1./ax.get_data_ratio())\n",
    "plt.tight_layout()\n",
    "plt.savefig('AC_pred_viridis.png', dpi=100)"
   ]
  },
  {
   "cell_type": "code",
   "execution_count": null,
   "id": "f20f190a-0f93-4be2-b842-530d4c6e8f31",
   "metadata": {},
   "outputs": [],
   "source": []
  }
 ],
 "metadata": {
  "kernelspec": {
   "display_name": "Python 3",
   "language": "python",
   "name": "python3"
  },
  "language_info": {
   "codemirror_mode": {
    "name": "ipython",
    "version": 3
   },
   "file_extension": ".py",
   "mimetype": "text/x-python",
   "name": "python",
   "nbconvert_exporter": "python",
   "pygments_lexer": "ipython3",
   "version": "3.8.8"
  }
 },
 "nbformat": 4,
 "nbformat_minor": 5
}
