{
 "cells": [
  {
   "cell_type": "code",
   "execution_count": 1,
   "id": "33d2238a",
   "metadata": {},
   "outputs": [],
   "source": [
    "import torch\n",
    "import torch.nn as nn\n",
    "import torch.optim as optim\n",
    "\n",
    "import numpy as np\n",
    "import matplotlib.pyplot as plt\n",
    "import scipy.io\n",
    "import seaborn as sns\n",
    "# from pyDOE import lhs\n",
    "import random\n",
    "import os\n",
    "import time\n",
    "\n",
    "plt.rcParams.update({'font.size':18})"
   ]
  },
  {
   "cell_type": "code",
   "execution_count": 2,
   "id": "27f50a54",
   "metadata": {},
   "outputs": [],
   "source": [
    "def seed_torch(seed=1024):\n",
    "    #     random.seed(seed)\n",
    "    os.environ['PYTHONHASHSEED'] = str(seed)  # 为了禁止hash随机化，使得实验可复现\n",
    "    np.random.seed(seed)\n",
    "    torch.manual_seed(seed)\n",
    "    torch.cuda.manual_seed(seed)\n",
    "    torch.cuda.manual_seed_all(seed)  # if you are using multi-GPU.\n",
    "    torch.backends.cudnn.benchmark = False\n",
    "    torch.backends.cudnn.deterministic = True"
   ]
  },
  {
   "cell_type": "code",
   "execution_count": 3,
   "id": "ff9dccdc",
   "metadata": {},
   "outputs": [],
   "source": [
    "domain = (0, 1, -1, 1)\n",
    "tmin, tmax, xmin, xmax = domain\n",
    "mlp_layers = [2] + [50]*5 + [1]\n",
    "# adam_iters = 40000\n",
    "adam_iters = 40000\n",
    "device = torch.device('cuda' if torch.cuda.is_available() else 'cpu')\n",
    "model_path = r'./model'\n",
    "train_info_path = r'./'\n",
    "if not os.path.exists(model_path):\n",
    "    os.mkdir(model_path)"
   ]
  },
  {
   "cell_type": "code",
   "execution_count": 4,
   "id": "eb215911",
   "metadata": {},
   "outputs": [
    {
     "name": "stdout",
     "output_type": "stream",
     "text": [
      "(4000, 2) (50, 2) (50, 2) (200, 2) (200, 1)\n"
     ]
    }
   ],
   "source": [
    "class Dataset:\n",
    "    def __init__(self, domain):\n",
    "        self.domain = domain\n",
    "\n",
    "    def train_data(self, verbose=None):\n",
    "        tmin, tmax, xmin, xmax = self.domain\n",
    "        # 内部点采样\n",
    "        t_res = np.linspace(tmin, tmax, 50)\n",
    "        x_res = np.linspace(xmin, xmax, 80)\n",
    "        X_res = self.sample_xy(t_res, x_res)\n",
    "        \n",
    "        # 初始点采样\n",
    "        X_bcs = np.array([]).reshape((-1, 2))\n",
    "        X_bcs_l = np.concatenate([X_bcs, self.sample_xy(np.linspace(tmin, tmax, 50), np.array([xmin]))], axis=0)\n",
    "        X_bcs_u = np.concatenate([X_bcs, self.sample_xy(np.linspace(tmin, tmax, 50), np.array([xmax]))], axis=0)\n",
    "        \n",
    "        # 边界点采样\n",
    "        X_ics =self.sample_xy(np.array([tmin]), np.linspace(xmin, xmax, 100))\n",
    "        X_ics = np.concatenate([X_ics, self.sample_xy(np.array([tmin]), np.linspace(xmin,xmax,100))], axis=0)\n",
    "        \n",
    "        u_ics = self.u_ics_sol(X_ics)\n",
    "\n",
    "        return X_res, X_bcs_l, X_bcs_u, X_ics, u_ics\n",
    "\n",
    "\n",
    "    def sample_xy(self, x, y):\n",
    "        xx, yy = np.meshgrid(x, y)\n",
    "        X = np.concatenate([xx.reshape((-1, 1)), yy.reshape((-1, 1))], axis=1)\n",
    "        return X\n",
    "    \n",
    "    def u_ics_sol(self, X):\n",
    "        return X[:, [1]]**2 * np.sin(2*np.pi * X[:, [1]])\n",
    "    \n",
    "dataset = Dataset(domain)\n",
    "# 内部点与边界点\n",
    "X_res, X_bcs_l, X_bcs_u, X_ics, u_ics = dataset.train_data()\n",
    "print(X_res.shape,X_bcs_l.shape, X_bcs_u.shape, X_ics.shape, u_ics.shape)"
   ]
  },
  {
   "cell_type": "markdown",
   "id": "a7353ecb",
   "metadata": {},
   "source": [
    "## DNN"
   ]
  },
  {
   "cell_type": "code",
   "execution_count": 5,
   "id": "7cafebda",
   "metadata": {},
   "outputs": [
    {
     "data": {
      "text/plain": [
       "MLP(\n",
       "  (model): Sequential(\n",
       "    (fc1): Linear(in_features=2, out_features=50, bias=True)\n",
       "    (act1): Tanh()\n",
       "    (fc2): Linear(in_features=50, out_features=50, bias=True)\n",
       "    (act2): Tanh()\n",
       "    (fc3): Linear(in_features=50, out_features=50, bias=True)\n",
       "    (act3): Tanh()\n",
       "    (fc4): Linear(in_features=50, out_features=50, bias=True)\n",
       "    (act4): Tanh()\n",
       "    (fc5): Linear(in_features=50, out_features=50, bias=True)\n",
       "    (act5): Tanh()\n",
       "    (fc6)): Linear(in_features=50, out_features=1, bias=False)\n",
       "  )\n",
       ")"
      ]
     },
     "execution_count": 5,
     "metadata": {},
     "output_type": "execute_result"
    }
   ],
   "source": [
    "class MLP(nn.Module):\n",
    "    def __init__(self, mlp_layers):\n",
    "        super(MLP, self).__init__()\n",
    "        self.model = nn.Sequential()\n",
    "        for i in range(len(mlp_layers) - 2):\n",
    "            self.model.add_module(f'fc{i + 1}', nn.Linear(mlp_layers[i], mlp_layers[i + 1], bias=True))\n",
    "            self.model.add_module(f'act{i + 1}', nn.Tanh())\n",
    "        self.model.add_module(f'fc{len(mlp_layers) - 1})', nn.Linear(mlp_layers[-2], mlp_layers[-1], bias=False))\n",
    "\n",
    "    def forward(self, X):\n",
    "        return self.model(X)\n",
    "\n",
    "mlp = MLP(mlp_layers)\n",
    "mlp"
   ]
  },
  {
   "cell_type": "markdown",
   "id": "12d19c76",
   "metadata": {},
   "source": [
    "## 主干网络"
   ]
  },
  {
   "cell_type": "code",
   "execution_count": 6,
   "id": "d2a0e982",
   "metadata": {},
   "outputs": [],
   "source": [
    "def grad(outputs, inputs):\n",
    "    return torch.autograd.grad(outputs, inputs,\n",
    "                               grad_outputs=torch.ones_like(outputs),\n",
    "                               create_graph=True)"
   ]
  },
  {
   "cell_type": "code",
   "execution_count": 7,
   "id": "fd43469f",
   "metadata": {},
   "outputs": [],
   "source": [
    "class PINN(nn.Module):\n",
    "    def __init__(self, backbone, mu=None, sigma=None):\n",
    "        super(PINN, self).__init__()\n",
    "        self.backbone = backbone\n",
    "\n",
    "    def forward(self, X_res, X_bcs_l, X_bcs_u, X_ics, u_ics):\n",
    "        \n",
    "        loss_res = torch.mean(self.net_f(X_res) ** 2)\n",
    "        loss_ics = torch.mean((self.net_u(X_ics)-u_ics) ** 2)\n",
    "        loss_bcs = torch.mean((self.net_u(X_bcs_l)-self.net_u(X_bcs_u)) ** 2)\n",
    "        loss_bcs_t = torch.mean((self.net_u_x(X_bcs_l)-self.net_u_x(X_bcs_u)) ** 2)\n",
    "\n",
    "        return loss_res, loss_ics,loss_bcs,loss_bcs_t\n",
    "\n",
    "    def net_u(self, X):\n",
    "        return self.backbone(X)\n",
    "    \n",
    "    def net_u_x(self,X):\n",
    "        X.requires_grad_(True)\n",
    "        u = self.net_u(X)\n",
    "        \n",
    "        # 求梯度\n",
    "        grad_u = grad(u, X)[0]\n",
    "        u_x = grad_u[:, [1]]\n",
    "        return u_x\n",
    "\n",
    "    def net_f(self, X):\n",
    "        X.requires_grad_(True)\n",
    "        u = self.net_u(X)\n",
    "#         print(u.shape)\n",
    "        # 求梯度\n",
    "        grad_u = grad(u, X)[0]\n",
    "        u_t = grad_u[:, [0]]\n",
    "        u_x = grad_u[:, [1]]\n",
    "        u_tt = grad(u_t, X)[0][:, [0]]\n",
    "        u_xx = grad(u_x, X)[0][:, [1]]\n",
    "        \n",
    "        gamma1 = 0.0001\n",
    "        gamma2 = 1\n",
    "        \n",
    "        f = u_t - gamma1*u_xx + gamma2*u**3 - gamma2*u\n",
    "        return f  \n",
    "\n",
    "pinn = PINN(mlp)"
   ]
  },
  {
   "cell_type": "markdown",
   "id": "95020ce5",
   "metadata": {},
   "source": [
    "## Adam"
   ]
  },
  {
   "cell_type": "code",
   "execution_count": 8,
   "id": "a73d1081",
   "metadata": {
    "scrolled": true
   },
   "outputs": [
    {
     "name": "stdout",
     "output_type": "stream",
     "text": [
      "Iter #    500/40000\tloss:5.38e-02, loss_r:6.14e-03, loss_i:4.68e-02 , loss_b:7.73e-04, loss_b_t:5.92e-05  Valid # loss:5.32e-02, loss_r:6.39e-03, loss_i:4.59e-02, loss_b:8.40e-04, loss_b_t:3.43e-05\n",
      "Iter #   1000/40000\tloss:4.13e-02, loss_r:1.36e-02, loss_i:2.45e-02 , loss_b:1.54e-03, loss_b_t:1.70e-03  Valid # loss:3.62e-02, loss_r:1.20e-02, loss_i:2.30e-02, loss_b:1.12e-03, loss_b_t:9.61e-05\n",
      "Iter #   1500/40000\tloss:2.87e-02, loss_r:9.48e-03, loss_i:1.85e-02 , loss_b:7.20e-04, loss_b_t:2.52e-05  Valid # loss:2.86e-02, loss_r:9.52e-03, loss_i:1.82e-02, loss_b:8.65e-04, loss_b_t:1.80e-05\n",
      "Iter #   2000/40000\tloss:1.43e-02, loss_r:7.57e-03, loss_i:5.81e-03 , loss_b:9.13e-04, loss_b_t:1.05e-05  Valid # loss:1.43e-02, loss_r:7.56e-03, loss_i:5.78e-03, loss_b:9.12e-04, loss_b_t:1.05e-05\n",
      "Iter #   2500/40000\tloss:8.77e-03, loss_r:6.23e-03, loss_i:1.64e-03 , loss_b:8.79e-04, loss_b_t:1.94e-05  Valid # loss:8.76e-03, loss_r:6.24e-03, loss_i:1.62e-03, loss_b:8.79e-04, loss_b_t:2.26e-05\n",
      "Iter #   3000/40000\tloss:7.94e-03, loss_r:5.72e-03, loss_i:1.38e-03 , loss_b:8.16e-04, loss_b_t:2.74e-05  Valid # loss:7.93e-03, loss_r:5.72e-03, loss_i:1.37e-03, loss_b:8.16e-04, loss_b_t:2.75e-05\n",
      "Iter #   3500/40000\tloss:7.47e-03, loss_r:5.22e-03, loss_i:1.54e-03 , loss_b:6.87e-04, loss_b_t:3.23e-05  Valid # loss:7.46e-03, loss_r:5.21e-03, loss_i:1.52e-03, loss_b:6.93e-04, loss_b_t:3.24e-05\n",
      "Iter #   4000/40000\tloss:8.08e-03, loss_r:4.66e-03, loss_i:2.86e-03 , loss_b:5.20e-04, loss_b_t:3.64e-05  Valid # loss:8.04e-03, loss_r:4.66e-03, loss_i:2.82e-03, loss_b:5.21e-04, loss_b_t:4.13e-05\n",
      "Iter #   4500/40000\tloss:6.05e-03, loss_r:4.50e-03, loss_i:6.93e-04 , loss_b:5.27e-04, loss_b_t:3.30e-04  Valid # loss:6.55e-03, loss_r:4.19e-03, loss_i:1.18e-03, loss_b:5.47e-04, loss_b_t:6.32e-04\n",
      "Iter #   5000/40000\tloss:5.24e-03, loss_r:4.02e-03, loss_i:8.90e-04 , loss_b:3.24e-04, loss_b_t:1.09e-05  Valid # loss:5.24e-03, loss_r:4.02e-03, loss_i:8.89e-04, loss_b:3.23e-04, loss_b_t:1.09e-05\n",
      "Iter #   5500/40000\tloss:5.06e-03, loss_r:3.90e-03, loss_i:8.76e-04 , loss_b:2.76e-04, loss_b_t:5.54e-06  Valid # loss:5.06e-03, loss_r:3.90e-03, loss_i:8.75e-04, loss_b:2.75e-04, loss_b_t:5.53e-06\n",
      "Iter #   6000/40000\tloss:4.94e-03, loss_r:3.83e-03, loss_i:8.60e-04 , loss_b:2.45e-04, loss_b_t:2.89e-06  Valid # loss:4.94e-03, loss_r:3.83e-03, loss_i:8.59e-04, loss_b:2.45e-04, loss_b_t:2.88e-06\n",
      "Iter #   6500/40000\tloss:4.87e-03, loss_r:3.77e-03, loss_i:8.68e-04 , loss_b:2.24e-04, loss_b_t:1.57e-06  Valid # loss:4.87e-03, loss_r:3.77e-03, loss_i:8.68e-04, loss_b:2.24e-04, loss_b_t:1.57e-06\n",
      "Iter #   7000/40000\tloss:4.82e-03, loss_r:3.72e-03, loss_i:8.89e-04 , loss_b:2.09e-04, loss_b_t:1.02e-06  Valid # loss:4.82e-03, loss_r:3.72e-03, loss_i:8.88e-04, loss_b:2.09e-04, loss_b_t:1.03e-06\n",
      "Iter #   7500/40000\tloss:4.77e-03, loss_r:3.68e-03, loss_i:8.88e-04 , loss_b:1.98e-04, loss_b_t:8.29e-07  Valid # loss:4.77e-03, loss_r:3.69e-03, loss_i:8.87e-04, loss_b:1.98e-04, loss_b_t:8.28e-07\n",
      "Iter #   8000/40000\tloss:4.71e-03, loss_r:3.65e-03, loss_i:8.62e-04 , loss_b:1.90e-04, loss_b_t:7.24e-07  Valid # loss:4.71e-03, loss_r:3.66e-03, loss_i:8.58e-04, loss_b:1.91e-04, loss_b_t:7.27e-07\n",
      "Iter #   8500/40000\tloss:4.58e-03, loss_r:3.60e-03, loss_i:7.98e-04 , loss_b:1.78e-04, loss_b_t:8.57e-07  Valid # loss:4.58e-03, loss_r:3.60e-03, loss_i:7.98e-04, loss_b:1.78e-04, loss_b_t:8.53e-07\n",
      "Iter #   9000/40000\tloss:8.11e-03, loss_r:4.23e-03, loss_i:1.59e-03 , loss_b:9.08e-04, loss_b_t:1.39e-03  Valid # loss:6.74e-03, loss_r:3.64e-03, loss_i:9.19e-04, loss_b:1.37e-03, loss_b_t:8.05e-04\n",
      "Iter #   9500/40000\tloss:4.58e-03, loss_r:3.48e-03, loss_i:9.51e-04 , loss_b:1.53e-04, loss_b_t:2.04e-06  Valid # loss:4.58e-03, loss_r:3.48e-03, loss_i:9.42e-04, loss_b:1.56e-04, loss_b_t:1.71e-06\n",
      "Iter #  10000/40000\tloss:4.52e-03, loss_r:3.50e-03, loss_i:8.56e-04 , loss_b:1.60e-04, loss_b_t:6.99e-07  Valid # loss:4.52e-03, loss_r:3.50e-03, loss_i:8.55e-04, loss_b:1.60e-04, loss_b_t:6.92e-07\n",
      "Iter #  10500/40000\tloss:3.14e-02, loss_r:3.65e-03, loss_i:3.15e-03 , loss_b:7.56e-03, loss_b_t:1.70e-02  Valid # loss:4.39e-02, loss_r:5.87e-03, loss_i:1.64e-03, loss_b:1.13e-02, loss_b_t:2.51e-02\n",
      "Iter #  11000/40000\tloss:4.54e-03, loss_r:3.41e-03, loss_i:9.74e-04 , loss_b:1.53e-04, loss_b_t:6.33e-06  Valid # loss:4.53e-03, loss_r:3.42e-03, loss_i:9.48e-04, loss_b:1.62e-04, loss_b_t:3.45e-06\n",
      "Iter #  11500/40000\tloss:4.45e-03, loss_r:3.44e-03, loss_i:8.48e-04 , loss_b:1.61e-04, loss_b_t:1.04e-06  Valid # loss:4.45e-03, loss_r:3.44e-03, loss_i:8.48e-04, loss_b:1.60e-04, loss_b_t:1.04e-06\n",
      "Iter #  12000/40000\tloss:5.53e-03, loss_r:3.49e-03, loss_i:1.48e-03 , loss_b:5.03e-04, loss_b_t:5.64e-05  Valid # loss:4.74e-03, loss_r:3.18e-03, loss_i:1.43e-03, loss_b:1.27e-04, loss_b_t:9.03e-06\n",
      "Iter #  12500/40000\tloss:4.56e-03, loss_r:3.34e-03, loss_i:9.88e-04 , loss_b:1.43e-04, loss_b_t:8.73e-05  Valid # loss:5.26e-03, loss_r:3.48e-03, loss_i:8.55e-04, loss_b:5.16e-04, loss_b_t:4.07e-04\n",
      "Iter #  13000/40000\tloss:4.32e-03, loss_r:3.36e-03, loss_i:8.11e-04 , loss_b:1.49e-04, loss_b_t:1.68e-06  Valid # loss:4.32e-03, loss_r:3.36e-03, loss_i:8.17e-04, loss_b:1.47e-04, loss_b_t:1.68e-06\n",
      "Iter #  13500/40000\tloss:4.74e-03, loss_r:3.36e-03, loss_i:1.05e-03 , loss_b:2.90e-04, loss_b_t:4.16e-05  Valid # loss:4.52e-03, loss_r:3.22e-03, loss_i:1.14e-03, loss_b:1.62e-04, loss_b_t:5.35e-06\n",
      "Iter #  14000/40000\tloss:4.24e-03, loss_r:3.34e-03, loss_i:7.57e-04 , loss_b:1.47e-04, loss_b_t:1.42e-06  Valid # loss:4.24e-03, loss_r:3.33e-03, loss_i:7.65e-04, loss_b:1.45e-04, loss_b_t:1.83e-06\n",
      "Iter #  14500/40000\tloss:4.26e-03, loss_r:3.29e-03, loss_i:8.20e-04 , loss_b:1.44e-04, loss_b_t:1.50e-06  Valid # loss:4.26e-03, loss_r:3.30e-03, loss_i:8.08e-04, loss_b:1.48e-04, loss_b_t:1.70e-06\n",
      "Iter #  15000/40000\tloss:8.63e-03, loss_r:3.22e-03, loss_i:1.95e-03 , loss_b:1.94e-03, loss_b_t:1.53e-03  Valid # loss:6.20e-03, loss_r:3.43e-03, loss_i:1.18e-03, loss_b:8.01e-04, loss_b_t:7.93e-04\n",
      "Iter #  15500/40000\tloss:4.18e-03, loss_r:3.27e-03, loss_i:7.70e-04 , loss_b:1.42e-04, loss_b_t:1.01e-06  Valid # loss:4.18e-03, loss_r:3.27e-03, loss_i:7.71e-04, loss_b:1.42e-04, loss_b_t:1.00e-06\n",
      "Iter #  16000/40000\tloss:4.20e-03, loss_r:3.21e-03, loss_i:8.48e-04 , loss_b:1.38e-04, loss_b_t:4.68e-06  Valid # loss:4.21e-03, loss_r:3.23e-03, loss_i:8.14e-04, loss_b:1.64e-04, loss_b_t:2.84e-06\n",
      "Iter #  16500/40000\tloss:4.13e-03, loss_r:3.17e-03, loss_i:8.20e-04 , loss_b:1.32e-04, loss_b_t:6.55e-06  Valid # loss:4.17e-03, loss_r:3.15e-03, loss_i:8.57e-04, loss_b:1.29e-04, loss_b_t:3.06e-05\n",
      "Iter #  17000/40000\tloss:4.87e-03, loss_r:3.04e-03, loss_i:1.09e-03 , loss_b:6.36e-04, loss_b_t:1.09e-04  Valid # loss:4.37e-03, loss_r:3.22e-03, loss_i:7.67e-04, loss_b:3.21e-04, loss_b_t:5.95e-05\n",
      "Iter #  17500/40000\tloss:4.04e-03, loss_r:3.18e-03, loss_i:6.99e-04 , loss_b:1.48e-04, loss_b_t:8.78e-06  Valid # loss:4.04e-03, loss_r:3.16e-03, loss_i:7.28e-04, loss_b:1.38e-04, loss_b_t:1.31e-05\n",
      "Iter #  18000/40000\tloss:4.12e-03, loss_r:3.16e-03, loss_i:6.99e-04 , loss_b:2.55e-04, loss_b_t:8.17e-06  Valid # loss:4.12e-03, loss_r:3.06e-03, loss_i:8.59e-04, loss_b:1.91e-04, loss_b_t:8.56e-06\n",
      "Iter #  18500/40000\tloss:3.99e-03, loss_r:3.09e-03, loss_i:7.63e-04 , loss_b:1.34e-04, loss_b_t:6.19e-06  Valid # loss:3.99e-03, loss_r:3.09e-03, loss_i:7.62e-04, loss_b:1.39e-04, loss_b_t:2.84e-06\n",
      "Iter #  19000/40000\tloss:3.93e-03, loss_r:3.09e-03, loss_i:7.02e-04 , loss_b:1.38e-04, loss_b_t:1.94e-06  Valid # loss:3.93e-03, loss_r:3.09e-03, loss_i:6.97e-04, loss_b:1.40e-04, loss_b_t:2.00e-06\n",
      "Iter #  19500/40000\tloss:3.91e-03, loss_r:3.06e-03, loss_i:7.05e-04 , loss_b:1.39e-04, loss_b_t:2.14e-06  Valid # loss:3.91e-03, loss_r:3.06e-03, loss_i:7.03e-04, loss_b:1.40e-04, loss_b_t:2.14e-06\n",
      "Iter #  20000/40000\tloss:4.12e-03, loss_r:2.96e-03, loss_i:1.02e-03 , loss_b:1.35e-04, loss_b_t:1.03e-05  Valid # loss:4.18e-03, loss_r:3.12e-03, loss_i:9.11e-04, loss_b:1.42e-04, loss_b_t:5.31e-06\n",
      "Iter #  20500/40000\tloss:5.91e-03, loss_r:3.08e-03, loss_i:6.69e-04 , loss_b:4.48e-04, loss_b_t:1.71e-03  Valid # loss:4.99e-03, loss_r:2.94e-03, loss_i:8.80e-04, loss_b:1.66e-04, loss_b_t:1.00e-03\n",
      "Iter #  21000/40000\tloss:3.80e-03, loss_r:2.98e-03, loss_i:6.77e-04 , loss_b:1.38e-04, loss_b_t:2.39e-06  Valid # loss:3.80e-03, loss_r:2.97e-03, loss_i:6.86e-04, loss_b:1.35e-04, loss_b_t:2.38e-06\n"
     ]
    },
    {
     "name": "stdout",
     "output_type": "stream",
     "text": [
      "Iter #  21500/40000\tloss:3.77e-03, loss_r:2.95e-03, loss_i:6.74e-04 , loss_b:1.38e-04, loss_b_t:2.49e-06  Valid # loss:3.77e-03, loss_r:2.95e-03, loss_i:6.74e-04, loss_b:1.38e-04, loss_b_t:2.50e-06\n",
      "Iter #  22000/40000\tloss:3.75e-03, loss_r:2.91e-03, loss_i:6.99e-04 , loss_b:1.33e-04, loss_b_t:8.68e-06  Valid # loss:3.74e-03, loss_r:2.91e-03, loss_i:6.93e-04, loss_b:1.35e-04, loss_b_t:2.41e-06\n",
      "Iter #  22500/40000\tloss:3.73e-03, loss_r:2.87e-03, loss_i:7.01e-04 , loss_b:1.54e-04, loss_b_t:2.85e-06  Valid # loss:3.91e-03, loss_r:2.79e-03, loss_i:8.60e-04, loss_b:2.61e-04, loss_b_t:3.28e-06\n",
      "Iter #  23000/40000\tloss:3.67e-03, loss_r:2.85e-03, loss_i:6.83e-04 , loss_b:1.33e-04, loss_b_t:2.25e-06  Valid # loss:3.68e-03, loss_r:2.87e-03, loss_i:6.47e-04, loss_b:1.54e-04, loss_b_t:2.35e-06\n",
      "Iter #  23500/40000\tloss:3.63e-03, loss_r:2.84e-03, loss_i:6.47e-04 , loss_b:1.39e-04, loss_b_t:2.29e-06  Valid # loss:3.63e-03, loss_r:2.84e-03, loss_i:6.48e-04, loss_b:1.39e-04, loss_b_t:2.30e-06\n",
      "Iter #  24000/40000\tloss:3.60e-03, loss_r:2.81e-03, loss_i:6.40e-04 , loss_b:1.39e-04, loss_b_t:9.47e-06  Valid # loss:3.60e-03, loss_r:2.81e-03, loss_i:6.38e-04, loss_b:1.40e-04, loss_b_t:1.40e-05\n",
      "Iter #  24500/40000\tloss:3.55e-03, loss_r:2.78e-03, loss_i:6.36e-04 , loss_b:1.36e-04, loss_b_t:1.89e-06  Valid # loss:3.55e-03, loss_r:2.78e-03, loss_i:6.36e-04, loss_b:1.35e-04, loss_b_t:1.89e-06\n",
      "Iter #  25000/40000\tloss:3.54e-03, loss_r:2.71e-03, loss_i:6.87e-04 , loss_b:1.33e-04, loss_b_t:9.92e-06  Valid # loss:3.54e-03, loss_r:2.74e-03, loss_i:6.30e-04, loss_b:1.57e-04, loss_b_t:1.34e-05\n",
      "Iter #  25500/40000\tloss:4.43e-03, loss_r:2.73e-03, loss_i:5.91e-04 , loss_b:3.35e-04, loss_b_t:7.69e-04  Valid # loss:4.25e-03, loss_r:2.64e-03, loss_i:7.37e-04, loss_b:1.42e-04, loss_b_t:7.28e-04\n",
      "Iter #  26000/40000\tloss:3.47e-03, loss_r:2.61e-03, loss_i:7.12e-04 , loss_b:1.30e-04, loss_b_t:2.26e-05  Valid # loss:3.89e-03, loss_r:2.71e-03, loss_i:5.87e-04, loss_b:3.52e-04, loss_b_t:2.43e-04\n",
      "Iter #  26500/40000\tloss:3.41e-03, loss_r:2.60e-03, loss_i:6.72e-04 , loss_b:1.25e-04, loss_b_t:6.01e-06  Valid # loss:3.44e-03, loss_r:2.60e-03, loss_i:6.86e-04, loss_b:1.28e-04, loss_b_t:2.65e-05\n",
      "Iter #  27000/40000\tloss:3.41e-03, loss_r:2.60e-03, loss_i:6.44e-04 , loss_b:1.22e-04, loss_b_t:4.92e-05  Valid # loss:3.39e-03, loss_r:2.58e-03, loss_i:6.65e-04, loss_b:1.22e-04, loss_b_t:2.89e-05\n",
      "Iter #  27500/40000\tloss:3.31e-03, loss_r:2.56e-03, loss_i:6.19e-04 , loss_b:1.27e-04, loss_b_t:1.85e-06  Valid # loss:3.31e-03, loss_r:2.56e-03, loss_i:6.18e-04, loss_b:1.28e-04, loss_b_t:1.83e-06\n",
      "Iter #  28000/40000\tloss:3.27e-03, loss_r:2.51e-03, loss_i:6.33e-04 , loss_b:1.21e-04, loss_b_t:7.15e-06  Valid # loss:3.27e-03, loss_r:2.51e-03, loss_i:6.26e-04, loss_b:1.23e-04, loss_b_t:3.58e-06\n",
      "Iter #  28500/40000\tloss:3.21e-03, loss_r:2.48e-03, loss_i:6.02e-04 , loss_b:1.25e-04, loss_b_t:1.78e-06  Valid # loss:3.21e-03, loss_r:2.48e-03, loss_i:6.02e-04, loss_b:1.25e-04, loss_b_t:1.78e-06\n",
      "Iter #  29000/40000\tloss:3.21e-03, loss_r:2.42e-03, loss_i:6.33e-04 , loss_b:1.17e-04, loss_b_t:3.77e-05  Valid # loss:3.22e-03, loss_r:2.42e-03, loss_i:6.32e-04, loss_b:1.14e-04, loss_b_t:4.84e-05\n",
      "Iter #  29500/40000\tloss:3.11e-03, loss_r:2.39e-03, loss_i:6.04e-04 , loss_b:1.19e-04, loss_b_t:1.73e-06  Valid # loss:3.11e-03, loss_r:2.39e-03, loss_i:6.03e-04, loss_b:1.20e-04, loss_b_t:1.74e-06\n",
      "Iter #  30000/40000\tloss:3.07e-03, loss_r:2.33e-03, loss_i:6.20e-04 , loss_b:1.11e-04, loss_b_t:6.86e-06  Valid # loss:3.07e-03, loss_r:2.33e-03, loss_i:6.17e-04, loss_b:1.13e-04, loss_b_t:9.96e-06\n",
      "Iter #  30500/40000\tloss:3.49e-03, loss_r:2.32e-03, loss_i:5.39e-04 , loss_b:3.80e-04, loss_b_t:2.53e-04  Valid # loss:4.00e-03, loss_r:2.21e-03, loss_i:7.95e-04, loss_b:3.32e-04, loss_b_t:6.69e-04\n",
      "Iter #  31000/40000\tloss:2.96e-03, loss_r:2.21e-03, loss_i:6.34e-04 , loss_b:1.05e-04, loss_b_t:7.89e-06  Valid # loss:3.03e-03, loss_r:2.20e-03, loss_i:6.63e-04, loss_b:1.06e-04, loss_b_t:5.60e-05\n",
      "Iter #  31500/40000\tloss:2.89e-03, loss_r:2.18e-03, loss_i:6.02e-04 , loss_b:1.06e-04, loss_b_t:1.62e-06  Valid # loss:2.89e-03, loss_r:2.18e-03, loss_i:6.02e-04, loss_b:1.06e-04, loss_b_t:1.63e-06\n",
      "Iter #  32000/40000\tloss:2.83e-03, loss_r:2.12e-03, loss_i:6.01e-04 , loss_b:1.03e-04, loss_b_t:2.18e-06  Valid # loss:2.83e-03, loss_r:2.12e-03, loss_i:6.02e-04, loss_b:1.02e-04, loss_b_t:2.34e-06\n",
      "Iter #  32500/40000\tloss:2.77e-03, loss_r:2.06e-03, loss_i:6.00e-04 , loss_b:1.00e-04, loss_b_t:7.14e-06  Valid # loss:2.77e-03, loss_r:2.06e-03, loss_i:6.00e-04, loss_b:9.99e-05, loss_b_t:8.97e-06\n",
      "Iter #  33000/40000\tloss:2.70e-03, loss_r:2.00e-03, loss_i:6.04e-04 , loss_b:9.29e-05, loss_b_t:1.28e-06  Valid # loss:2.70e-03, loss_r:2.01e-03, loss_i:5.97e-04, loss_b:9.62e-05, loss_b_t:1.32e-06\n",
      "Iter #  33500/40000\tloss:2.66e-03, loss_r:1.95e-03, loss_i:5.91e-04 , loss_b:1.01e-04, loss_b_t:1.25e-05  Valid # loss:2.66e-03, loss_r:1.93e-03, loss_i:6.30e-04, loss_b:8.84e-05, loss_b_t:1.30e-05\n",
      "Iter #  34000/40000\tloss:2.64e-03, loss_r:1.86e-03, loss_i:6.42e-04 , loss_b:8.78e-05, loss_b_t:5.75e-05  Valid # loss:2.69e-03, loss_r:1.88e-03, loss_i:5.92e-04, loss_b:1.15e-04, loss_b_t:1.06e-04\n",
      "Iter #  34500/40000\tloss:2.51e-03, loss_r:1.82e-03, loss_i:6.05e-04 , loss_b:8.59e-05, loss_b_t:1.81e-06  Valid # loss:2.51e-03, loss_r:1.82e-03, loss_i:6.03e-04, loss_b:8.68e-05, loss_b_t:1.63e-06\n",
      "Iter #  35000/40000\tloss:2.45e-03, loss_r:1.76e-03, loss_i:6.04e-04 , loss_b:8.09e-05, loss_b_t:4.80e-06  Valid # loss:2.45e-03, loss_r:1.75e-03, loss_i:6.15e-04, loss_b:7.64e-05, loss_b_t:7.06e-06\n",
      "Iter #  35500/40000\tloss:2.46e-03, loss_r:1.68e-03, loss_i:6.27e-04 , loss_b:7.14e-05, loss_b_t:8.29e-05  Valid # loss:2.42e-03, loss_r:1.69e-03, loss_i:5.99e-04, loss_b:9.30e-05, loss_b_t:3.05e-05\n",
      "Iter #  36000/40000\tloss:2.31e-03, loss_r:1.63e-03, loss_i:6.21e-04 , loss_b:6.69e-05, loss_b_t:1.11e-06  Valid # loss:2.31e-03, loss_r:1.63e-03, loss_i:6.13e-04, loss_b:7.11e-05, loss_b_t:1.00e-06\n",
      "Iter #  36500/40000\tloss:2.26e-03, loss_r:1.58e-03, loss_i:6.01e-04 , loss_b:7.65e-05, loss_b_t:3.41e-06  Valid # loss:2.25e-03, loss_r:1.57e-03, loss_i:6.15e-04, loss_b:6.81e-05, loss_b_t:1.90e-06\n",
      "Iter #  37000/40000\tloss:2.20e-03, loss_r:1.52e-03, loss_i:6.00e-04 , loss_b:7.61e-05, loss_b_t:5.84e-06  Valid # loss:2.20e-03, loss_r:1.51e-03, loss_i:6.20e-04, loss_b:6.21e-05, loss_b_t:6.97e-06\n",
      "Iter #  37500/40000\tloss:2.14e-03, loss_r:1.45e-03, loss_i:6.24e-04 , loss_b:5.76e-05, loss_b_t:3.01e-06  Valid # loss:2.14e-03, loss_r:1.46e-03, loss_i:6.06e-04, loss_b:6.82e-05, loss_b_t:3.94e-06\n",
      "Iter #  38000/40000\tloss:2.16e-03, loss_r:1.39e-03, loss_i:6.38e-04 , loss_b:5.73e-05, loss_b_t:6.79e-05  Valid # loss:2.19e-03, loss_r:1.42e-03, loss_i:5.93e-04, loss_b:8.68e-05, loss_b_t:9.67e-05\n",
      "Iter #  38500/40000\tloss:2.02e-03, loss_r:1.34e-03, loss_i:6.23e-04 , loss_b:5.08e-05, loss_b_t:4.98e-06  Valid # loss:2.02e-03, loss_r:1.35e-03, loss_i:6.16e-04, loss_b:5.40e-05, loss_b_t:2.52e-06\n",
      "Iter #  39000/40000\tloss:1.98e-03, loss_r:1.30e-03, loss_i:6.15e-04 , loss_b:5.34e-05, loss_b_t:1.20e-05  Valid # loss:1.97e-03, loss_r:1.29e-03, loss_i:6.22e-04, loss_b:4.83e-05, loss_b_t:2.15e-06\n",
      "Iter #  39500/40000\tloss:1.92e-03, loss_r:1.24e-03, loss_i:6.25e-04 , loss_b:4.51e-05, loss_b_t:2.42e-06  Valid # loss:1.92e-03, loss_r:1.24e-03, loss_i:6.23e-04, loss_b:4.61e-05, loss_b_t:1.87e-06\n",
      "Iter #  40000/40000\tloss:1.87e-03, loss_r:1.20e-03, loss_i:6.24e-04 , loss_b:4.21e-05, loss_b_t:3.42e-06  Valid # loss:1.87e-03, loss_r:1.20e-03, loss_i:6.25e-04, loss_b:4.11e-05, loss_b_t:4.05e-06\n"
     ]
    }
   ],
   "source": [
    "dataset = Dataset(domain)\n",
    "X_res, X_bcs_l, X_bcs_u, X_ics, u_ics = dataset.train_data()\n",
    "\n",
    "X_res = torch.from_numpy(X_res).float().to(device)\n",
    "X_bcs_l = torch.from_numpy(X_bcs_l).float().to(device)\n",
    "X_bcs_u = torch.from_numpy(X_bcs_u).float().to(device)\n",
    "X_ics = torch.from_numpy(X_ics).float().to(device)\n",
    "u_ics = torch.from_numpy(u_ics).float().to(device)\n",
    "\n",
    "mu = X_res.mean(dim=0)\n",
    "sigma = X_res.std(dim=0)  # 求样本标准差\n",
    "\n",
    "backbone = MLP(mlp_layers)  # 主干网络\n",
    "pinn = PINN(backbone, mu, sigma).to(device)\n",
    "\n",
    "optimizer_adam = optim.Adam(pinn.backbone.parameters(), lr=1e-3)\n",
    "\n",
    "lr_sche = optim.lr_scheduler.ExponentialLR(optimizer_adam, gamma=0.8)  # 指数衰减学习率\n",
    "\n",
    "logger = {\n",
    "    \"loss\": [], \n",
    "    \"loss_res\": [],\n",
    "    \"loss_ics\": [],\n",
    "    \"loss_bcs\": [],\n",
    "    \"loss_bcs_t\": [],\n",
    "    \"iter\": [],\n",
    "    \"mu\": mu,\n",
    "    \"sigma\": sigma\n",
    "}\n",
    "best_loss = 1e9\n",
    "\n",
    "# 训练\n",
    "start_time = time.time()\n",
    "for it in range(adam_iters):\n",
    "    pinn.train()\n",
    "    pinn.zero_grad()\n",
    "    \n",
    "    loss_res, loss_ics,loss_bcs,loss_bcs_t = pinn(X_res, X_bcs_l, X_bcs_u, X_ics, u_ics)\n",
    "    loss = loss_res + loss_ics + loss_bcs + loss_bcs_t\n",
    "    \n",
    "    loss.backward()\n",
    "    optimizer_adam.step()\n",
    "    \n",
    "    if (it + 1) % 100 == 0:\n",
    "        # 保存loss信息\n",
    "        pinn.train(False)\n",
    "        loss_res_valid, loss_ics_valid, loss_bcs_valid, loss_bcs_t_valid = pinn(X_res, X_bcs_l, X_bcs_u, X_ics, u_ics)\n",
    "        loss_valid = loss_res_valid + loss_ics_valid + loss_bcs_valid + loss_bcs_t_valid\n",
    "        \n",
    "        logger[\"loss\"].append(loss_valid.item())\n",
    "        logger[\"loss_res\"].append(loss_res_valid.item())\n",
    "        logger[\"loss_ics\"].append(loss_ics_valid.item())\n",
    "        logger[\"loss_bcs\"].append(loss_bcs_valid.item())\n",
    "        logger[\"loss_bcs_t\"].append(loss_bcs_t_valid.item())\n",
    "        logger[\"iter\"].append(it+1)\n",
    "        \n",
    "        \n",
    "        # 保存训练loss最低的模型\n",
    "        if loss_valid.item() < best_loss:\n",
    "            model_state = {'iter': it+1, 'backbone_state': pinn.backbone.state_dict()}\n",
    "            torch.save(model_state, os.path.join(model_path, 'pinn_adam.pth'))\n",
    "            best_loss = loss_valid.item()\n",
    "        \n",
    "        if (it + 1) % 500 == 0:\n",
    "            # 保存并打印训练日志\n",
    "            info = f'Iter # {it+1:6d}/{adam_iters}\\t' + \\\n",
    "                f'loss:{loss.item():.2e}, loss_r:{loss_res.item():.2e}, loss_i:{loss_ics.item():.2e} , loss_b:{loss_bcs.item():.2e}, loss_b_t:{loss_bcs_t.item():.2e}  ' + \\\n",
    "                f'Valid # loss:{loss_valid.item():.2e}, loss_r:{loss_res_valid.item():.2e}, loss_i:{loss_ics_valid.item():.2e}, loss_b:{loss_bcs_valid.item():.2e}, loss_b_t:{loss_bcs_t_valid.item():.2e}'\n",
    "            with open(train_info_path + 'train_info.txt', 'a') as f:\n",
    "                f.write(info + '\\n')\n",
    "            print(info)\n",
    "            \n",
    "        # 衰减学习率\n",
    "        if (it + 1) % 4000 == 0:\n",
    "            lr_sche.step()\n",
    "        "
   ]
  },
  {
   "cell_type": "code",
   "execution_count": 9,
   "id": "01659246",
   "metadata": {},
   "outputs": [],
   "source": [
    "np.save(\"./logger.npy\", logger)"
   ]
  },
  {
   "cell_type": "code",
   "execution_count": 10,
   "id": "f85c4ab5",
   "metadata": {},
   "outputs": [
    {
     "data": {
      "image/png": "[encoded data removed]",
      "text/plain": [
       "<Figure size 648x504 with 1 Axes>"
      ]
     },
     "metadata": {},
     "output_type": "display_data"
    }
   ],
   "source": [
    "logger = np.load(\"./logger.npy\", allow_pickle=True).item()\n",
    "k = 2\n",
    "with sns.axes_style(\"darkgrid\"):\n",
    "    plt.figure(figsize=(9, 7))\n",
    "    plt.subplot(111)\n",
    "    # plt.plot(logger[\"iter\"][::k], logger[\"loss\"][::k], label=r\"$L$\")\n",
    "    plt.plot(logger[\"iter\"][::k], logger[\"loss_res\"][::k], label=r\"$\\mathcal{L}_{r}$\", linewidth=3)\n",
    "    plt.plot(logger[\"iter\"][::k], logger[\"loss_ics\"][::k], label=r\"$\\mathcal{L}_{ics}$\", linewidth=3)\n",
    "    plt.legend()\n",
    "    plt.xticks([0, 5000, 10000, 15000, 20000])\n",
    "    plt.xlabel('Iteration')\n",
    "    plt.ylabel('Loss')\n",
    "    plt.yscale('log')\n",
    "    plt.savefig('loss.png', dpi=100)\n",
    "    plt.show()"
   ]
  },
  {
   "cell_type": "code",
   "execution_count": 11,
   "id": "463cfdb2",
   "metadata": {},
   "outputs": [],
   "source": [
    "t = np.linspace(tmin, tmax, 100)\n",
    "x = np.linspace(xmin, xmax, 100)\n",
    "tt, xx = np.meshgrid(t, x)\n",
    "X = np.concatenate([tt.reshape((-1, 1)), xx.reshape((-1, 1))], axis=1)\n",
    "\n",
    "X = torch.from_numpy(X).float().to(device)\n",
    "\n",
    "u_pred = pinn.net_u(X).detach().cpu().numpy()"
   ]
  },
  {
   "cell_type": "code",
   "execution_count": 12,
   "id": "d437a992",
   "metadata": {},
   "outputs": [
    {
     "data": {
      "image/png": "[encoded data removed]",
      "text/plain": [
       "<Figure size 432x360 with 2 Axes>"
      ]
     },
     "metadata": {
      "needs_background": "light"
     },
     "output_type": "display_data"
    }
   ],
   "source": [
    "fig = plt.figure(figsize=(6, 5))\n",
    "ax = plt.subplot(1, 1, 1)\n",
    "plt.pcolor(tt, xx, u_pred.reshape(xx.shape), cmap='viridis', vmin = -1, vmax =1)\n",
    "plt.colorbar()\n",
    "# plt.clim([-1., 1.])\n",
    "plt.xlabel('$t$')\n",
    "plt.ylabel('$x$')\n",
    "ax.set_xlim([0, 1])\n",
    "ax.set_ylim([-1, 1])\n",
    "ax.set_xticks(np.linspace(0, 1, 5))\n",
    "ax.set_yticks(np.linspace(-1, 1, 5))\n",
    "plt.title(r'Predicted $u(t,x)$')\n",
    "ax.set_aspect(1./ax.get_data_ratio())\n",
    "plt.tight_layout()\n",
    "plt.savefig('AC_pred_viridis.png', dpi=100)"
   ]
  }
 ],
 "metadata": {
  "kernelspec": {
   "display_name": "Python 3",
   "language": "python",
   "name": "python3"
  },
  "language_info": {
   "codemirror_mode": {
    "name": "ipython",
    "version": 3
   },
   "file_extension": ".py",
   "mimetype": "text/x-python",
   "name": "python",
   "nbconvert_exporter": "python",
   "pygments_lexer": "ipython3",
   "version": "3.8.8"
  }
 },
 "nbformat": 4,
 "nbformat_minor": 5
}
