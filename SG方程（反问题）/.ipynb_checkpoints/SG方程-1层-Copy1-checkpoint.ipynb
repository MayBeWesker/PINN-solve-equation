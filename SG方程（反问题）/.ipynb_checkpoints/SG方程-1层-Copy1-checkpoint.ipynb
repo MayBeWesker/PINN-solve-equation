{
 "cells": [
  {
   "cell_type": "markdown",
   "id": "ebbbc0bf",
   "metadata": {},
   "source": [
    "### 导包"
   ]
  },
  {
   "cell_type": "code",
   "execution_count": 1,
   "id": "e1784018",
   "metadata": {},
   "outputs": [],
   "source": [
    "import torch\n",
    "import torch.nn as nn\n",
    "import numpy as np\n",
    "#from pyDOE import lhs\n",
    "import matplotlib.pyplot as plt\n",
    "import os\n",
    "import scipy.io\n",
    "from scipy.interpolate import griddata\n",
    "from collections import OrderedDict"
   ]
  },
  {
   "cell_type": "markdown",
   "id": "5716108f",
   "metadata": {},
   "source": [
    "### 随机种子"
   ]
  },
  {
   "cell_type": "code",
   "execution_count": 2,
   "id": "2c640c69",
   "metadata": {},
   "outputs": [],
   "source": [
    "def seed_torch(seed=1024):\n",
    "#     random.seed(seed)\n",
    "    os.environ['PYTHONHASHSEED'] = str(seed) # 为了禁止hash随机化，使得实验可复现\n",
    "    np.random.seed(seed)\n",
    "    torch.manual_seed(seed)\n",
    "    torch.cuda.manual_seed(seed)\n",
    "    torch.cuda.manual_seed_all(seed) # if you are using multi-GPU.\n",
    "    torch.backends.cudnn.benchmark = False\n",
    "    torch.backends.cudnn.deterministic = True\n",
    "#     torch.use_deterministic_algorithms(True)  # 有检查操作，看下文区别\n",
    " \n",
    "seed_torch(314)"
   ]
  },
  {
   "cell_type": "markdown",
   "id": "0f0c7622",
   "metadata": {},
   "source": [
    "#### 计时器"
   ]
  },
  {
   "cell_type": "code",
   "execution_count": 3,
   "id": "fb6ff6cb",
   "metadata": {},
   "outputs": [],
   "source": [
    "import time\n",
    "class Timer:\n",
    "    ###构建一个timer的列表进行计算\n",
    "    \n",
    "    \"\"\"Record multiple running times.\"\"\"\n",
    "    def __init__(self):\n",
    "        \"\"\"Defined in :numref:`subsec_linear_model`\"\"\"\n",
    "        self.times = []\n",
    "        self.start()\n",
    "\n",
    "    ## 开始计时\n",
    "    def start(self):\n",
    "        \"\"\"Start the timer.\"\"\"\n",
    "        self.tik = time.time()\n",
    "\n",
    "    ##将计时的结果加入到储存时间表中\n",
    "    def stop(self):\n",
    "        \"\"\"Stop the timer and record the time in a list.\"\"\"\n",
    "        self.times.append(time.time() - self.tik)\n",
    "        return self.times[-1]\n",
    "\n",
    "    ## 求平均时间\n",
    "    def avg(self):\n",
    "        \"\"\"Return the average time.\"\"\"\n",
    "        return sum(self.times) / len(self.times)\n",
    "\n",
    "    ## 求总时间\n",
    "    def sum(self):\n",
    "        \"\"\"Return the sum of time.\"\"\"\n",
    "        return sum(self.times)\n",
    "\n",
    "    def cumsum(self):\n",
    "        \"\"\"Return the accumulated time.\"\"\"\n",
    "        return np.array(self.times).cumsum().tolist()\n",
    "    "
   ]
  },
  {
   "cell_type": "code",
   "execution_count": 4,
   "id": "4749b6ec",
   "metadata": {},
   "outputs": [],
   "source": [
    "# CUDA support\n",
    "if torch.cuda.is_available():\n",
    "    device = torch.device('cuda')\n",
    "else:\n",
    "    device = torch.device('cpu')"
   ]
  },
  {
   "cell_type": "markdown",
   "id": "5aa80a5b",
   "metadata": {},
   "source": [
    "#### 辅助函数"
   ]
  },
  {
   "cell_type": "code",
   "execution_count": 5,
   "id": "1e825263",
   "metadata": {},
   "outputs": [],
   "source": [
    "#计算梯度\n",
    "def gradients(outputs, inputs):\n",
    "    return torch.autograd.grad(outputs, inputs, grad_outputs=torch.ones_like(outputs), create_graph=True, retain_graph=True)\n",
    "\n",
    "#转化为numpy\n",
    "def to_numpy(input):\n",
    "    if isinstance(input, torch.Tensor):\n",
    "        return input.detach().cpu().numpy()\n",
    "    elif isinstance(input, np.ndarray):\n",
    "        return input\n",
    "    else:\n",
    "        raise TypeError('Unknown type of input, expected torch.Tensor or '\\\n",
    "            'np.ndarray, but got {}'.format(type(input)))"
   ]
  },
  {
   "cell_type": "markdown",
   "id": "7dff89d9",
   "metadata": {},
   "source": [
    "### 网络(标准化optional）"
   ]
  },
  {
   "cell_type": "code",
   "execution_count": 6,
   "id": "9e83cca3",
   "metadata": {},
   "outputs": [],
   "source": [
    "class ModifiedMLP(nn.Module):\n",
    "    def __init__(self, mlp_layers, is_regularization = False):\n",
    "        super(ModifiedMLP, self).__init__()\n",
    "        \n",
    "        self.is_regularization = is_regularization\n",
    "        self.encoder_u = nn.Sequential()\n",
    "        self.encoder_u.add_module('fc_u', nn.Linear(mlp_layers[0], mlp_layers[1], bias=True))\n",
    "        self.encoder_u.add_module('act_u', nn.Tanh())\n",
    "        \n",
    "        self.encoder_v = nn.Sequential()\n",
    "        self.encoder_v.add_module('fc_v', nn.Linear(mlp_layers[0], mlp_layers[1], bias=True))\n",
    "        self.encoder_v.add_module('act_v', nn.Tanh())\n",
    "        \n",
    "        self.model = nn.Sequential()\n",
    "        for i in range(len(mlp_layers)-2):\n",
    "            layer = nn.Sequential()\n",
    "            layer.add_module(f'fc{i}', nn.Linear(mlp_layers[i], mlp_layers[i+1], bias=True))\n",
    "            layer.add_module(f'act{i}', nn.Tanh())\n",
    "            self.model.add_module(f'layer{i}', layer)\n",
    "\n",
    "        last_layer = nn.Sequential()\n",
    "        last_layer.add_module(f'fc{len(mlp_layers)-2}', nn.Linear(mlp_layers[-2], mlp_layers[-1], bias=False))\n",
    "        self.model.add_module(f'layer{len(mlp_layers)-2}', last_layer)\n",
    "        \n",
    "        for param in self.parameters():\n",
    "            if len(param.shape) > 1:\n",
    "                #kaiming初始化\n",
    "                nn.init.kaiming_normal_(param)\n",
    "    \n",
    "    def forward(self, X):\n",
    "        \n",
    "        if self.is_regularization == True:\n",
    "            mu = X.mean(dim = 0)\n",
    "            sigma = X.std(dim = 0)\n",
    "            X = (X - mu) / sigma\n",
    "            \n",
    "        u = self.encoder_u(X)\n",
    "        v = self.encoder_v(X)\n",
    "        \n",
    "        for i in range(len(self.model) - 1):\n",
    "            X = self.model[i](X)\n",
    "            X = X / 2.\n",
    "            X = (1 - X) * u + X * v\n",
    "        return self.model[-1](X)\n",
    "    \n",
    "    \n",
    "# backbone = ModifiedMLP(backbone_layers)\n",
    "# nn_lam = ModifiedMLP(nn_lam_layers)"
   ]
  },
  {
   "cell_type": "markdown",
   "id": "c8cbf25b",
   "metadata": {},
   "source": [
    "### PINN_net"
   ]
  },
  {
   "cell_type": "code",
   "execution_count": 7,
   "id": "2c2d4af1",
   "metadata": {},
   "outputs": [],
   "source": [
    "class PINN_net(nn.Module):\n",
    "    def __init__(self, net_layers, lambda_layers, is_regularization = False):\n",
    "        super(PINN_net, self).__init__()\n",
    "        \n",
    "        self.is_regularization = is_regularization\n",
    "        self.sigma_x = 1.\n",
    "        self.sigma_t = 1.\n",
    "        \n",
    "        #network\n",
    "        self.dnn = ModifiedMLP(net_layers, is_regularization=is_regularization).to(device)\n",
    "        self.lambda_dnn = ModifiedMLP(lambda_layers, is_regularization=is_regularization).to(device)\n",
    "        \n",
    "    def net_lam(self, t):\n",
    "        lambda_1 = self.lambda_dnn(t)\n",
    "        return lambda_1\n",
    "        \n",
    "    def net_u(self, x, t):\n",
    "        u = self.dnn(torch.cat([x, t] ,dim=1))\n",
    "        return u\n",
    "\n",
    "    def net_f(self, x, t):\n",
    "        u = self.net_u(x, t)\n",
    "        if self.is_regularization == True:\n",
    "            self.sigma_x = torch.std(x)\n",
    "            self.sigma_t = torch.std(t)\n",
    "        u_t = gradients(u, t)[0] / self.sigma_t\n",
    "        u_x = gradients(u, x)[0] / self.sigma_x\n",
    "\n",
    "        u_xx = gradients(u_x, x)[0] / self.sigma_x\n",
    "        u_tt = gradients(u_t, t)[0] / self.sigma_t\n",
    "        \n",
    "        lambda_1 = self.net_lam(t)\n",
    "        \n",
    "        return u_tt - lambda_1 * u_xx + torch.sin(u)\n",
    "    \n",
    "    def net_data(self, x_data, t_data, u_data):\n",
    "        u_pred_data = self.net_u(x_data, t_data)\n",
    "#         print(f\"u_pred_data.shape:{u_pred_data.shape}\")\n",
    "#         print(f\"u_data.shape:{u_data.shape}\")\n",
    "        return u_pred_data - u_data\n",
    "    \n",
    "    def forward(self, x, t, x_data, t_data, u_data):\n",
    "        loss_res = torch.mean(self.net_f(x, t)**2)\n",
    "        loss_data = torch.mean(self.net_data(x_data, t_data, u_data)**2)\n",
    "        return loss_res, loss_data   "
   ]
  },
  {
   "cell_type": "markdown",
   "id": "5874173c",
   "metadata": {},
   "source": [
    "#### SG方程样例"
   ]
  },
  {
   "cell_type": "markdown",
   "id": "ac4b9907",
   "metadata": {},
   "source": [
    "$$\\frac{\\partial^2 u}{\\partial t^2} = \\frac{\\partial^2 u}{\\partial x^2} -sin (u)$$"
   ]
  },
  {
   "cell_type": "markdown",
   "id": "32ba107f",
   "metadata": {},
   "source": [
    "### 数据集生成和超参数"
   ]
  },
  {
   "cell_type": "code",
   "execution_count": 8,
   "id": "0b210423",
   "metadata": {},
   "outputs": [],
   "source": [
    "def true_solution(x, t):\n",
    "    return 4 * np.arctan(np.sin(t/np.sqrt(2))/np.cosh(x/np.sqrt(2)))"
   ]
  },
  {
   "cell_type": "code",
   "execution_count": 9,
   "id": "46a6ec00",
   "metadata": {},
   "outputs": [],
   "source": [
    "#boudary\n",
    "# t-->(0, 20)\n",
    "# x-->(-20, 20)\n",
    "\n",
    "#采样点\n",
    "N_f_x = 256 \n",
    "N_f_t = 256\n",
    "\n",
    "N_f = 2000\n",
    "N_0 = 200\n",
    "N_data = 3000\n",
    "\n",
    "#boundary\n",
    "lb = np.array([-20, 0])\n",
    "ub = np.array([20, 20])\n",
    "#residual point\n",
    "#X = lb + (ub - lb) * lhs(2, N_f)\n",
    "x = np.linspace(lb[0], ub[0], N_f_x).reshape(-1, 1)\n",
    "t = np.linspace(lb[1], ub[1], N_f_t).reshape(-1, 1)\n",
    "xx, tt = np.meshgrid(x, t)\n",
    "\n",
    "X = np.concatenate([xx.reshape(-1, 1), tt.reshape(-1, 1)], axis=1)\n",
    "idx = np.random.permutation(range(X.shape[0]))\n",
    "idx = idx[: N_f]  \n",
    "X = X[idx, :]\n",
    "u = true_solution(xx, tt)\n",
    "\n",
    "#initial point(None_use)\n",
    "x0 = np.linspace(lb[0], ub[0], N_f).reshape(-1, 1)\n",
    "t0 = np.ones_like(x0)\n",
    "X0 = np.hstack([x0, t0])\n",
    "\n",
    "#data point\n",
    "x_data = lb[0] + np.random.rand(N_data, 1) * (ub[0] - lb[0])\n",
    "t_data = lb[1] + np.random.rand(N_data, 1) * (ub[1] - lb[1])\n",
    "X_data = np.hstack([x_data, t_data])\n",
    "u_data = true_solution(x_data, t_data)\n",
    "\n",
    "\n",
    "#layers\n",
    "net_layers = [2, 20, 20, 20, 20, 20, 20, 20, 20, 1]\n",
    "lambda_layers = [1, 20, 1]\n",
    "\n",
    "#lr\n",
    "adam_net_lr = 1e-3 \n",
    "adam_lambda_lr = 1e-3\n",
    "lbfgs_lr = 1.\n",
    "\n",
    "#epoch\n",
    "epoch_Adam = 200000\n",
    "epoch_lbfgs = 10000\n",
    "\n",
    "#save_path\n",
    "save_path_Adam = \"SG-identification_Adam\"\n",
    "save_path_Adam_lbfgs = \"SG-identification_Adam_lbfgs\"\n",
    "\n",
    "#### point_todevice \n",
    "#res\n",
    "x = torch.tensor(X[:, 0: 1], requires_grad=True).float().to(device)\n",
    "t = torch.tensor(X[:, 1: 2], requires_grad=True).float().to(device)\n",
    "\n",
    "#ic\n",
    "# x0 = torch.tensor(X0[:, 0: 1], requires_grad=True).float().to(device)\n",
    "# t0 = torch.tensor(X0[:, 1: 2], requires_grad=True).float().to(device)\n",
    "\n",
    "#data\n",
    "x_data = torch.tensor(X_data[:, 0: 1]).float().to(device)\n",
    "t_data = torch.tensor(X_data[:, 1: 2]).float().to(device)\n",
    "u_data = torch.tensor(u_data).float().to(device)"
   ]
  },
  {
   "cell_type": "code",
   "execution_count": 10,
   "id": "7fd626dc",
   "metadata": {},
   "outputs": [
    {
     "data": {
      "text/plain": [
       "((2000, 2),\n",
       " (3000, 2),\n",
       " torch.Size([3000, 1]),\n",
       " torch.Size([2000, 1]),\n",
       " torch.Size([2000, 1]),\n",
       " torch.Size([3000, 1]),\n",
       " torch.Size([3000, 1]),\n",
       " torch.Size([3000, 1]))"
      ]
     },
     "execution_count": 10,
     "metadata": {},
     "output_type": "execute_result"
    }
   ],
   "source": [
    "X.shape, X_data.shape,u_data.shape, x.shape, t.shape, x_data.shape, t_data.shape, u_data.shape"
   ]
  },
  {
   "cell_type": "markdown",
   "id": "da92f2df",
   "metadata": {},
   "source": [
    "### visualize"
   ]
  },
  {
   "cell_type": "markdown",
   "id": "e2bf3ecb",
   "metadata": {},
   "source": [
    "#### res_point without sample"
   ]
  },
  {
   "cell_type": "code",
   "execution_count": 11,
   "id": "c3f70768",
   "metadata": {
    "scrolled": true
   },
   "outputs": [
    {
     "data": {
      "image/png": "[encoded data removed]",
      "text/plain": [
       "<Figure size 800x800 with 2 Axes>"
      ]
     },
     "metadata": {
      "needs_background": "light"
     },
     "output_type": "display_data"
    }
   ],
   "source": [
    "fig = plt.figure(figsize=(10, 10), dpi = 80)\n",
    "plt.scatter(xx, tt, c = u, s = 4, cmap=\"rainbow\")\n",
    "plt.colorbar()\n",
    "plt.xlabel(\"$x$\")\n",
    "plt.ylabel(\"$t$\")\n",
    "plt.title(\"$u(x, t)$\")\n",
    "plt.show()"
   ]
  },
  {
   "cell_type": "markdown",
   "id": "8d84f3ff",
   "metadata": {},
   "source": [
    "#### data_point"
   ]
  },
  {
   "cell_type": "code",
   "execution_count": 12,
   "id": "a4baca7f",
   "metadata": {
    "scrolled": true
   },
   "outputs": [],
   "source": [
    "# fig = plt.figure(figsize=(10, 10), dpi = 80)\n",
    "# plt.scatter(to_numpy(x_data), to_numpy(t_data), c = u_data, s = 5, cmap=\"jet\")\n",
    "# plt.colorbar()\n",
    "# plt.xlabel(\"$x$\")\n",
    "# plt.ylabel(\"$t$\")\n",
    "# plt.title(\"$u(x, t)$\")\n",
    "# plt.show()"
   ]
  },
  {
   "cell_type": "markdown",
   "id": "0aebebe3",
   "metadata": {},
   "source": [
    "### PINN && Adam"
   ]
  },
  {
   "cell_type": "code",
   "execution_count": 13,
   "id": "a3ecf901",
   "metadata": {},
   "outputs": [],
   "source": [
    "pinn_sg = PINN_net(net_layers, lambda_layers, is_regularization = False)\n",
    "\n",
    "optimizer_adam = torch.optim.Adam(pinn_sg.dnn.parameters(), lr=1e-3)\n",
    "optimizer_adam_lam = torch.optim.Adam(pinn_sg.lambda_dnn.parameters(), lr=1e-3)\n",
    "\n",
    "# 指数衰减学习率\n",
    "lr_sche = torch.optim.lr_scheduler.ExponentialLR(optimizer_adam, gamma=0.8) \n",
    "lr_sche_lam = torch.optim.lr_scheduler.ExponentialLR(optimizer_adam_lam, gamma=0.9)\n",
    "\n",
    "#Adam_loss_history\n",
    "loss_his_Adam = {\"epoch\":[], \"loss\":[], \"loss_res\":[], \"loss_data\":[]}\n"
   ]
  },
  {
   "cell_type": "markdown",
   "id": "a9384518",
   "metadata": {},
   "source": [
    "### lbfgs"
   ]
  },
  {
   "cell_type": "code",
   "execution_count": 14,
   "id": "6d02fd65",
   "metadata": {},
   "outputs": [],
   "source": [
    "# #pinn_sg = PINN_net(net_layers, lambda_layers)\n",
    "\n",
    "# optimizer_lbfgs = torch.optim.LBFGS(\n",
    "#         pinn_sg.dnn.parameters(), \n",
    "#         lr=lbfgs_lr, \n",
    "#         max_iter=50000, \n",
    "#         max_eval=50000, \n",
    "#         history_size=50,\n",
    "#         tolerance_grad=1e-5, \n",
    "#         tolerance_change=1.0 * np.finfo(float).eps,\n",
    "#         line_search_fn=\"strong_wolfe\")       # can be \"strong_wolfe\" \n",
    "\n",
    "# optimizer_adam_lam = torch.optim.Adam(pinn_sg.lambda_dnn.parameters(), lr=1e-3)\n",
    "\n",
    "# #lbfgs_loss_history\n",
    "# loss_his_Adam = {\"epoch\":[], \"loss\":[], \"loss_res\":[], \"loss_data\":[]}"
   ]
  },
  {
   "cell_type": "markdown",
   "id": "c613ada9",
   "metadata": {},
   "source": [
    "### 训练"
   ]
  },
  {
   "cell_type": "markdown",
   "id": "8571b946",
   "metadata": {},
   "source": [
    "#### with_adam"
   ]
  },
  {
   "cell_type": "code",
   "execution_count": null,
   "id": "feb4bb5f",
   "metadata": {
    "scrolled": true
   },
   "outputs": [
    {
     "name": "stdout",
     "output_type": "stream",
     "text": [
      "###Adam_iter: 0/100000, Loss: 2.391697e+02, loss_res: 1.009e+00, loss_data: 1.383e+00, ---time: 0\n"
     ]
    }
   ],
   "source": [
    "timer1 = Timer()\n",
    "best_loss = 1e5\n",
    "\n",
    "for epoch in range(epoch_Adam):\n",
    "    pinn_sg.train() \n",
    "    pinn_sg.zero_grad()\n",
    "    \n",
    "    loss_res, loss_data = pinn_sg(x, t, x_data, t_data, u_data)\n",
    "    loss = 100 * loss_data + 100 * loss_res\n",
    "    \n",
    "    loss.backward()\n",
    "    \n",
    "    #optimzers\n",
    "    optimizer_adam.step()\n",
    "    optimizer_adam_lam.step()\n",
    "\n",
    "    if epoch % 500 == 0:\n",
    "        print(\n",
    "            '###Adam_iter: %d/100000, Loss: %e, loss_res: %.3e, loss_data: %.3e, ---time: %d' % \n",
    "            (\n",
    "                epoch,\n",
    "                loss.item(), \n",
    "                loss_res.item(),\n",
    "                loss_data.item(),\n",
    "                timer1.stop()\n",
    "            )\n",
    "             )\n",
    "\n",
    "        loss_his_Adam[\"epoch\"].append(epoch)\n",
    "        loss_his_Adam[\"loss\"].append(loss.item())\n",
    "        loss_his_Adam[\"loss_res\"].append(loss_res.item())\n",
    "        loss_his_Adam[\"loss_data\"].append(loss_data.item())\n",
    "\n",
    "    if best_loss > loss:\n",
    "        model_state = {'epoch': epoch, 'net_state': pinn_sg.dnn.state_dict(), 'net_lam_state': pinn_sg.lambda_dnn.state_dict()}\n",
    "        torch.save(model_state, save_path_Adam)\n",
    "        best_loss = loss.item()\n",
    "    \n",
    "    if (epoch + 1) % 2000 == 0:\n",
    "        lr_sche.step()\n",
    "        lr_sche_lam.step()"
   ]
  },
  {
   "cell_type": "markdown",
   "id": "aa9fcec8",
   "metadata": {},
   "source": [
    "#### with_lbfgs"
   ]
  },
  {
   "cell_type": "code",
   "execution_count": null,
   "id": "8e0f4ec4",
   "metadata": {
    "scrolled": true
   },
   "outputs": [],
   "source": [
    "# time.sleep(1)\n",
    "# timer2 = Timer()\n",
    "\n",
    "# for epoch in range(epoch_lbfgs):\n",
    "#     def closure():\n",
    "        \n",
    "#         pinn_sg.train() \n",
    "#         pinn_sg.zero_grad()\n",
    "\n",
    "#         loss_res, loss_data = pinn_sg(x, t, x_data, t_data, u_data)\n",
    "#         loss = 100 * loss_data + 100 * loss_res\n",
    "\n",
    "#         loss.backward()\n",
    "        \n",
    "#         return loss\n",
    "    \n",
    "#     #optimzers\n",
    "#     optimizer_lbfgs.step(closure)\n",
    "#     optimizer_adam_lam.step()\n",
    "\n",
    "#     if epoch % 500 == 0:\n",
    "#         pinn_sg.train(False)\n",
    "#         loss_res, loss_data = pinn_sg(x, t, x_data, t_data, u_data)\n",
    "#         loss = loss_data + loss_res\n",
    "#         print(\n",
    "#             '###Adam_iter: %d/40000, Loss: %e, loss_res: %.3e, loss_data: %.3e, ---time: %d' % \n",
    "#             (\n",
    "#                 epoch,\n",
    "#                 loss.item(), \n",
    "#                 loss_res.item(),\n",
    "#                 loss_data.item(),\n",
    "#                 timer2.stop()\n",
    "#             )\n",
    "#              )\n",
    "\n",
    "#         loss_his_lbfgs[\"epoch\"].append(epoch)\n",
    "#         loss_his_lbfgs[\"loss\"].append(loss.item())\n",
    "#         loss_his_lbfgs[\"loss_res\"].append(loss_res.item())\n",
    "#         loss_his_lbfgs[\"loss_data\"].append(loss_data.item())\n",
    "\n",
    "#     if best_loss > loss:\n",
    "#         model_state = {'epoch': epoch, 'net_state': pinn_sg.dnn.state_dict(), 'net_lam_state': pinn_sg.lambda_dnn.state_dict()}\n",
    "#         torch.save(model_state, save_path_lbfgs)\n",
    "#         best_loss = loss.item()\n",
    "    "
   ]
  },
  {
   "cell_type": "markdown",
   "id": "fd07e6d7",
   "metadata": {},
   "source": [
    "### save"
   ]
  },
  {
   "cell_type": "code",
   "execution_count": null,
   "id": "0af9aaff",
   "metadata": {},
   "outputs": [],
   "source": [
    "# np.save(\"loss_his_adam.npy\", loss_his_Adam)"
   ]
  },
  {
   "cell_type": "markdown",
   "id": "c4548f83",
   "metadata": {},
   "source": [
    "### load"
   ]
  },
  {
   "cell_type": "code",
   "execution_count": null,
   "id": "17700afa",
   "metadata": {
    "scrolled": true
   },
   "outputs": [],
   "source": [
    "# loss_his_Adam = np.load(\"loss_his_adam.npy\", allow_pickle=True).item()\n",
    "# model_state = torch.load(\"SG-identification_Adam\")\n",
    "# pinn_sg.dnn.load_state_dict(model_state['net_state'])\n",
    "# pinn_sg.lambda_dnn.load_state_dict(model_state['net_lam_state'])\n",
    "# #进入评估模式\n",
    "# pinn_sg.eval()"
   ]
  },
  {
   "cell_type": "markdown",
   "id": "c6caf021",
   "metadata": {},
   "source": [
    "### L2_error"
   ]
  },
  {
   "cell_type": "code",
   "execution_count": null,
   "id": "7fb89ca9",
   "metadata": {},
   "outputs": [],
   "source": [
    "#boundary\n",
    "lb = np.array([-20, 0])\n",
    "ub = np.array([20, 20])\n",
    "#test_point\n",
    "x = np.linspace(lb[0], ub[0], 100).reshape(-1, 1)\n",
    "t = np.linspace(lb[1], ub[1], 256).reshape(-1, 1)\n",
    "xx, tt = np.meshgrid(x, t)\n",
    "usol = true_solution(xx, tt)\n",
    "\n",
    "X_star = np.hstack((xx.flatten()[:,None], tt.flatten()[:,None]))\n",
    "X_star = torch.tensor(X_star).double()\n",
    "u_star = usol.flatten()[:, None]\n",
    "\n",
    "pinn_sg = pinn_sg.cpu().double()\n",
    "u_pred = pinn_sg.net_u(X_star[:, 0:1], X_star[:, 1:2]).detach().numpy()\n",
    "error_u = np.linalg.norm(u_star-u_pred,2)/np.linalg.norm(u_star,2)\n",
    "print(\"error_u: %.5e\" % (error_u))\n",
    "# lambda_1_value = model.lambda_1.detach().cpu().numpy()\n",
    "# error_lambda_1 = np.abs(lambda_1_value - 1.0) * 100\n",
    "# print(\"Error lambda:%.5f%%\" % (error_lambda_1))\n",
    "\n",
    "t = np.linspace(lb[1], ub[1], 256).reshape(-1, 1)\n",
    "t_tensor = torch.tensor(t).double()\n",
    "lambda_pred = pinn_sg.lambda_dnn(t_tensor).detach().numpy()\n",
    "lambda_star = np.ones_like(lambda_pred)\n",
    "lambda_error = np.linalg.norm(lambda_pred - lambda_star) / np.linalg.norm(lambda_star)\n",
    "print('Relative l2 error of lambda: {:.3e}'.format(lambda_error))"
   ]
  },
  {
   "cell_type": "markdown",
   "id": "143fcc44",
   "metadata": {},
   "source": [
    "### predict visualize"
   ]
  },
  {
   "cell_type": "code",
   "execution_count": null,
   "id": "b50b9b98",
   "metadata": {},
   "outputs": [],
   "source": [
    "U_pred = griddata(X_star, u_pred.flatten(), (xx, tt), method='cubic')\n",
    "\n",
    "fig = plt.figure()  \n",
    "ax = plt.axes(projection='3d')\n",
    "\n",
    "#作图\n",
    "ax.plot_surface(xx, tt, U_pred,cmap='rainbow')\n",
    "#ax3.contour(X,Y,Z, zdim='z',offset=-2，cmap='rainbow)   \n",
    "ax.set_xlabel(\"$x$\")\n",
    "ax.set_ylabel(\"$t$\")\n",
    "ax.set_zlabel(\"$u(x, t)$\")\n",
    "plt.show()"
   ]
  },
  {
   "cell_type": "markdown",
   "id": "9470e8ef",
   "metadata": {},
   "source": [
    "####  pred"
   ]
  },
  {
   "cell_type": "code",
   "execution_count": null,
   "id": "cc849072",
   "metadata": {},
   "outputs": [],
   "source": [
    "fig = plt.figure(figsize=(18, 5))\n",
    "ax1 = plt.subplot(1, 3, 1)\n",
    "plt.pcolor(xx, tt, usol, cmap='jet')\n",
    "plt.colorbar()\n",
    "plt.xlabel('$x$')  # 设置坐标轴标签\n",
    "plt.ylabel('$t$')\n",
    "plt.xticks(np.arange(-20, 20, 4.))  # 设置坐标轴刻度\n",
    "plt.yticks(np.arange(0, 20, 2.))\n",
    "plt.clim([-4, 4])\n",
    "plt.title(r'Reference $u(t,x)$')\n",
    "plt.tight_layout()\n",
    "ax1.set_aspect(1./ax1.get_data_ratio())  # 使每个子图是正方形\n",
    "\n",
    "ax2 = plt.subplot(1, 3, 2)\n",
    "plt.pcolor(xx, tt, U_pred, cmap='jet')\n",
    "plt.colorbar()\n",
    "plt.xlabel('$x$')\n",
    "plt.ylabel('$t$')\n",
    "plt.xticks(np.arange(-20, 20, 4.))  # 设置坐标轴刻度\n",
    "plt.yticks(np.arange(0, 20, 2.))\n",
    "plt.clim([-4, 4])\n",
    "plt.title(r'Predicted $u(t,x)$')\n",
    "plt.tight_layout()\n",
    "ax2.set_aspect(1./ax1.get_data_ratio())\n",
    "\n",
    "ax3 = plt.subplot(1, 3, 3)\n",
    "plt.pcolor(xx, tt, np.abs(usol - U_pred), cmap='jet')\n",
    "plt.colorbar()\n",
    "plt.xlabel('$x$')\n",
    "plt.ylabel('$t$')\n",
    "plt.xticks(np.arange(-20, 20, 4.))  # 设置坐标轴刻度\n",
    "plt.yticks(np.arange(0, 20, 2.))\n",
    "plt.title('Absolute error')\n",
    "plt.tight_layout()\n",
    "ax3.set_aspect(1./ax1.get_data_ratio())\n",
    "\n",
    "plt.savefig('SG_result.png', dpi=100, bbox_inches='tight')\n",
    "plt.show()"
   ]
  },
  {
   "cell_type": "markdown",
   "id": "563afdef",
   "metadata": {},
   "source": [
    "### loss"
   ]
  },
  {
   "cell_type": "markdown",
   "id": "f7b990f3",
   "metadata": {},
   "source": [
    "#### Adam"
   ]
  },
  {
   "cell_type": "code",
   "execution_count": null,
   "id": "4d90aee4",
   "metadata": {},
   "outputs": [],
   "source": [
    "import seaborn as sns\n",
    "with sns.axes_style(\"darkgrid\"):\n",
    "    plt.figure(figsize=(9, 7))\n",
    "    plt.subplot(111)\n",
    "    # plt.plot(logger[\"iter\"][::k], logger[\"loss\"][::k], label=r\"$L$\")\n",
    "    plt.plot(loss_his_Adam[\"loss_res\"], label=r\"$\\mathcal{L}_{r}$\", linewidth=3)\n",
    "    plt.plot(loss_his_Adam[\"loss_data\"], label=r\"$\\mathcal{L}_{data}$\", linewidth=3)\n",
    "    plt.legend()\n",
    "    #plt.xticks([0, 5000, 10000, 15000, 20000, 25000, 30000, 35000, 40000])\n",
    "    plt.xlabel('Iteration($x500$)')\n",
    "    plt.ylabel('Loss')\n",
    "    plt.yscale('log')\n",
    "    plt.savefig('loss.png', dpi=100)\n",
    "    plt.show()"
   ]
  },
  {
   "cell_type": "markdown",
   "id": "fba65148",
   "metadata": {},
   "source": [
    "#### lbfgs"
   ]
  },
  {
   "cell_type": "code",
   "execution_count": null,
   "id": "d9a6e262",
   "metadata": {
    "scrolled": true
   },
   "outputs": [],
   "source": [
    "# with sns.axes_style(\"darkgrid\"):\n",
    "#     plt.figure(figsize=(9, 7))\n",
    "#     plt.subplot(111)\n",
    "#     # plt.plot(logger[\"iter\"][::k], logger[\"loss\"][::k], label=r\"$L$\")\n",
    "#     plt.plot(loss_his_lbfgs[\"epoch\"], model.loss_his_lbfgs[\"loss_res\"], label=r\"$\\mathcal{L}_{r}$\", linewidth=3)\n",
    "#     plt.plot(loss_his_lbfgs[\"epoch\"], model.loss_his_lbfgs[\"loss_data\"], label=r\"$\\mathcal{L}_{data}$\", linewidth=3)\n",
    "#     plt.legend()\n",
    "#     plt.xticks([0, 2000, 4000, 6000, 8000, 10000])\n",
    "#     plt.xlabel('Iteration')\n",
    "#     plt.ylabel('Loss')\n",
    "#     plt.yscale('log')\n",
    "#     plt.savefig('loss.png', dpi=100)\n",
    "#     plt.show()"
   ]
  },
  {
   "cell_type": "markdown",
   "id": "dba6f43a",
   "metadata": {},
   "source": [
    "### 观察net_lambda预测出的值与预测的值"
   ]
  },
  {
   "cell_type": "code",
   "execution_count": null,
   "id": "2b439572",
   "metadata": {
    "scrolled": true
   },
   "outputs": [],
   "source": [
    "t = np.linspace(lb[1], ub[1], 256).reshape(-1, 1)\n",
    "t_tensor = torch.tensor(t).double()\n",
    "lambda_pred = pinn_sg.lambda_dnn(t_tensor).detach().numpy()"
   ]
  },
  {
   "cell_type": "code",
   "execution_count": null,
   "id": "dbc35e10",
   "metadata": {},
   "outputs": [],
   "source": [
    "plt.rcParams.update({'font.size':18})\n",
    "\n",
    "fig = plt.figure(figsize=(10, 10))\n",
    "\n",
    "ax = plt.subplot(1, 2, 2)\n",
    "lambda_true = np.ones_like(t)\n",
    "ax.plot(t, lambda_true, linewidth=3, color='black', label=\"True\")\n",
    "ax.scatter(t[::1], lambda_pred[::1], marker='x', s=50, color='red', label='bc-PINN')\n",
    "# ax.plot(t, lam2_pred, linewidth=3, linestyle='--', color='blue', label='cS-PINN')\n",
    "#ax.scatter(t[::10], lambda_pred[::10], marker='^', s=100, color='blue', label='Residuals-RAE')\n",
    "ax.set_xlim([0, 10])\n",
    "ax.set_xticks(np.arange(0, 20.1, 4))\n",
    "ax.set_xlabel('$t$')\n",
    "ax.set_ylim([0, 2])\n",
    "ax.set_yticks(np.arange(0, 2.1, 0.5))\n",
    "ax.set_ylabel('$\\lambda$')\n",
    "ax.set_title(\"modified mlp with single layer\", fontdict={\"size\":15, \"color\":\"b\"})\n",
    "plt.legend(loc='upper right')\n",
    "plt.tight_layout()\n",
    "ax.set_aspect(1./ax.get_data_ratio())\n",
    "\n",
    "# plt.savefig('SG.png', dpi=100, bbox_inches='tight')\n",
    "plt.show()"
   ]
  },
  {
   "cell_type": "code",
   "execution_count": null,
   "id": "702d7c21",
   "metadata": {},
   "outputs": [],
   "source": [
    "1、subnet用dnn\n"
   ]
  }
 ],
 "metadata": {
  "kernelspec": {
   "display_name": "Python 3",
   "language": "python",
   "name": "python3"
  },
  "language_info": {
   "codemirror_mode": {
    "name": "ipython",
    "version": 3
   },
   "file_extension": ".py",
   "mimetype": "text/x-python",
   "name": "python",
   "nbconvert_exporter": "python",
   "pygments_lexer": "ipython3",
   "version": "3.8.8"
  }
 },
 "nbformat": 4,
 "nbformat_minor": 5
}
