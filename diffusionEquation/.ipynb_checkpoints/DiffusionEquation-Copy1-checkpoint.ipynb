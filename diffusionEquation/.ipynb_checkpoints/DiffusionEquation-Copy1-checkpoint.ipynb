{
 "cells": [
  {
   "cell_type": "code",
   "execution_count": 1,
   "id": "f21ac568",
   "metadata": {},
   "outputs": [
    {
     "data": {
      "text/html": [
       "<style>.container { width:80% !important; }</style>"
      ],
      "text/plain": [
       "<IPython.core.display.HTML object>"
      ]
     },
     "metadata": {},
     "output_type": "display_data"
    }
   ],
   "source": [
    "from IPython.core.display import display, HTML\n",
    "display(HTML(\"<style>.container { width:80% !important; }</style>\"))"
   ]
  },
  {
   "cell_type": "code",
   "execution_count": 2,
   "id": "0d6da2c0",
   "metadata": {},
   "outputs": [],
   "source": [
    "import torch\n",
    "import torch.nn as nn\n",
    "import torch.optim as optim\n",
    "\n",
    "import math\n",
    "import numpy as np\n",
    "import matplotlib.pyplot as plt\n",
    "import scipy.io\n",
    "import seaborn as sns\n",
    "from pyDOE import lhs\n",
    "import random\n",
    "import os\n",
    "import time\n",
    "\n",
    "plt.rcParams.update({'font.size':18})"
   ]
  },
  {
   "cell_type": "code",
   "execution_count": 3,
   "id": "3533490d",
   "metadata": {},
   "outputs": [],
   "source": [
    "def seed_torch(seed=1024):\n",
    "#     random.seed(seed)\n",
    "    os.environ['PYTHONHASHSEED'] = str(seed) # 为了禁止hash随机化，使得实验可复现\n",
    "    np.random.seed(seed)\n",
    "    torch.manual_seed(seed)\n",
    "    torch.cuda.manual_seed(seed)\n",
    "    torch.cuda.manual_seed_all(seed) # if you are using multi-GPU.\n",
    "    torch.backends.cudnn.benchmark = False\n",
    "    torch.backends.cudnn.deterministic = True\n",
    "#     torch.use_deterministic_algorithms(True)  # 有检查操作，看下文区别\n",
    " \n",
    "seed_torch(314)"
   ]
  },
  {
   "cell_type": "markdown",
   "id": "4eeaca1e",
   "metadata": {},
   "source": [
    "## 超参数"
   ]
  },
  {
   "cell_type": "code",
   "execution_count": 4,
   "id": "ab6c92d3",
   "metadata": {},
   "outputs": [],
   "source": [
    "domain = (0,4)\n",
    "xmin, xmax = domain\n",
    "backbone_layers = [1] + [100]*2 + [1]\n",
    "nn_lam_layers = [1] + [100]*2 + [2]\n",
    "adam_iters = 40000\n",
    "newton_iter=100\n",
    "gamma = 0.7\n",
    "device = torch.device('cuda' if torch.cuda.is_available() else 'cpu')\n",
    "model_path = r'./model'\n",
    "train_info_path = r'./'\n",
    "if not os.path.exists(model_path):\n",
    "    os.mkdir(model_path)"
   ]
  },
  {
   "cell_type": "markdown",
   "id": "4c169501",
   "metadata": {},
   "source": [
    "## 改进的DNN"
   ]
  },
  {
   "cell_type": "code",
   "execution_count": 5,
   "id": "9d4a381f",
   "metadata": {},
   "outputs": [],
   "source": [
    "class ModifiedMLP(nn.Module):\n",
    "    def __init__(self, mlp_layers):\n",
    "        super(ModifiedMLP, self).__init__()\n",
    "        \n",
    "        self.encoder_u = nn.Sequential()\n",
    "        self.encoder_u.add_module('fc_u', nn.Linear(mlp_layers[0], mlp_layers[1], bias=True))\n",
    "        self.encoder_u.add_module('act_u', nn.Tanh())\n",
    "        \n",
    "        self.encoder_v = nn.Sequential()\n",
    "        self.encoder_v.add_module('fc_v', nn.Linear(mlp_layers[0], mlp_layers[1], bias=True))\n",
    "        self.encoder_v.add_module('act_v', nn.Tanh())\n",
    "        \n",
    "        self.model = nn.Sequential()\n",
    "        for i in range(len(mlp_layers)-2):\n",
    "            layer = nn.Sequential()\n",
    "            layer.add_module(f'fc{i}', nn.Linear(mlp_layers[i], mlp_layers[i+1], bias=True))\n",
    "            layer.add_module(f'act{i}', nn.Tanh())\n",
    "            self.model.add_module(f'layer{i}', layer)\n",
    "\n",
    "        last_layer = nn.Sequential()\n",
    "        last_layer.add_module(f'fc{len(mlp_layers)-2}', nn.Linear(mlp_layers[-2], mlp_layers[-1], bias=False))\n",
    "        self.model.add_module(f'layer{len(mlp_layers)-2}', last_layer)\n",
    "        \n",
    "        for param in self.parameters():\n",
    "            if len(param.shape) > 1:\n",
    "                nn.init.kaiming_normal_(param)\n",
    "    \n",
    "    def forward(self, X):\n",
    "        u = self.encoder_u(X)\n",
    "        v = self.encoder_v(X)\n",
    "        \n",
    "        for i in range(len(self.model) - 1):\n",
    "            X = self.model[i](X)  # 调用线性层\n",
    "            X = X / 2.           # 调用激活层 \n",
    "            X = (1 - X) * u + X * v  # 特征融合\n",
    "        return self.model[-1](X)  # 经过最后一个线性层，输出\n"
   ]
  },
  {
   "cell_type": "code",
   "execution_count": 6,
   "id": "f18fcda6",
   "metadata": {},
   "outputs": [
    {
     "name": "stdout",
     "output_type": "stream",
     "text": [
      "MLP(\n",
      "  (model): Sequential(\n",
      "    (layer0): Sequential(\n",
      "      (fc0): Linear(in_features=1, out_features=100, bias=True)\n",
      "      (act0): Tanh()\n",
      "    )\n",
      "    (layer1): Sequential(\n",
      "      (fc1): Linear(in_features=100, out_features=100, bias=True)\n",
      "      (act1): Tanh()\n",
      "    )\n",
      "    (layer2): Sequential(\n",
      "      (fc2): Linear(in_features=100, out_features=1, bias=True)\n",
      "    )\n",
      "  )\n",
      ")\n"
     ]
    }
   ],
   "source": [
    "class MLP(nn.Module):\n",
    "    def __init__(self, mlp_layers):\n",
    "        super(MLP, self).__init__()\n",
    "        \n",
    "        self.model = nn.Sequential()\n",
    "        for i in range(len(mlp_layers)-2):\n",
    "            layer = nn.Sequential()\n",
    "            layer.add_module(f'fc{i}', nn.Linear(mlp_layers[i], mlp_layers[i+1], bias=True))\n",
    "            layer.add_module(f'act{i}', nn.Tanh())\n",
    "#             layer.add_module(f'act{i}', nn.ReLU())\n",
    "            \n",
    "            self.model.add_module(f'layer{i}', layer)\n",
    "\n",
    "        last_layer = nn.Sequential()\n",
    "        last_layer.add_module(f'fc{len(mlp_layers)-2}', nn.Linear(mlp_layers[-2], mlp_layers[-1], bias=True))\n",
    "        self.model.add_module(f'layer{len(mlp_layers)-2}', last_layer)\n",
    "        \n",
    "        for param in self.parameters():\n",
    "            if len(param.shape) > 1:\n",
    "#                 nn.init.kaiming_normal_(param)\n",
    "                nn.init.xavier_normal_(param)\n",
    "    \n",
    "    def forward(self, X):\n",
    "        return self.model(X)\n",
    "\n",
    "backbone = MLP(backbone_layers)\n",
    "nn_lam = MLP(nn_lam_layers)\n",
    "\n",
    "# backbone = ModifiedMLP(backbone_layers)\n",
    "# nn_lam = ModifiedMLP(nn_lam_layers)\n",
    "print(backbone)"
   ]
  },
  {
   "cell_type": "markdown",
   "id": "71d8e133",
   "metadata": {},
   "source": [
    "## 数据集生成"
   ]
  },
  {
   "cell_type": "code",
   "execution_count": 7,
   "id": "d8f8b284",
   "metadata": {},
   "outputs": [
    {
     "name": "stdout",
     "output_type": "stream",
     "text": [
      "torch.Size([500, 1]) torch.Size([1, 1]) torch.Size([1, 1])\n"
     ]
    }
   ],
   "source": [
    "class Dataset:\n",
    "    def __init__(self, domain):\n",
    "        self.domain = domain\n",
    "    \n",
    "    def train_data(self, verbose=None):\n",
    "        Nsd = 500\n",
    "        \n",
    "        x_lb = np.array([0.0])\n",
    "        x_ub = np.array([4.0])\n",
    "        x = (x_ub-x_lb) * lhs(1, Nsd) + x_lb\n",
    "        \n",
    "        x_0 = np.array([[0.0]])\n",
    "        x_L = np.array([[4.0]])\n",
    "        \n",
    "        x = torch.from_numpy(x).float()\n",
    "        x_0 = torch.from_numpy(x_0).float()\n",
    "        x_L = torch.from_numpy(x_L).float()\n",
    "        \n",
    "        return x, x_0, x_L\n",
    "    \n",
    "    def u(self, x):\n",
    "        Pe = 9.34\n",
    "        L = 4\n",
    "        C_F = 0.5\n",
    "        alpha = np.sqrt(1 + 4/Pe*0.5*6)\n",
    "        \n",
    "        numerator = 2*(1+alpha)*np.exp(Pe/2*(1+alpha))*np.exp(Pe/2*(1-alpha)*(x/L)) - 2*(1-alpha)*np.exp(Pe/2*(1-alpha)*Pe/2*(1+alpha)*(x/L))\n",
    "        denominator = (1+alpha)**2 * np.exp(Pe/2*(1+alpha)) - (1-alpha)**2 * np.exp(Pe/2*(1-alpha))\n",
    "        sol = numerator / denominator * C_F\n",
    "        return sol\n",
    "    \n",
    "\n",
    "dataset = Dataset(domain)\n",
    "x, x_0, x_L = dataset.train_data()\n",
    "u_data = dataset.u(x)\n",
    "print(x.shape, x_0.shape,x_L.shape)"
   ]
  },
  {
   "cell_type": "markdown",
   "id": "8e64251e",
   "metadata": {},
   "source": [
    "## PINN模型"
   ]
  },
  {
   "cell_type": "code",
   "execution_count": 8,
   "id": "a8aaf88d",
   "metadata": {},
   "outputs": [],
   "source": [
    "def grad(outputs, inputs):\n",
    "    return torch.autograd.grad(outputs, inputs,\n",
    "                               grad_outputs=torch.ones_like(outputs),\n",
    "                               create_graph=True,\n",
    "                               retain_graph=True)"
   ]
  },
  {
   "cell_type": "code",
   "execution_count": 9,
   "id": "0d2068a5",
   "metadata": {
    "scrolled": false
   },
   "outputs": [],
   "source": [
    "\"\"\"PINN模型\"\"\"\n",
    "class PINN(nn.Module):\n",
    "    def __init__(self, backbone, nn_lam, mu=None, sigma=None):\n",
    "        super(PINN, self).__init__()\n",
    "        self.backbone = backbone\n",
    "        self.nn_lam = nn_lam\n",
    "        self.D = torch.tensor([0.8], requires_grad=True)\n",
    "        self.K = torch.tensor([0.5], requires_grad=True)\n",
    "\n",
    "        self.D = torch.nn.Parameter(self.D)\n",
    "        self.K = torch.nn.Parameter(self.K)\n",
    "\n",
    "        self.backbone = MLP(backbone_layers).to(device)\n",
    "        self.nn_lam = MLP(nn_lam_layers).to(device)\n",
    "\n",
    "        self.backbone.register_parameter('D', self.D)\n",
    "        self.backbone.register_parameter('K', self.K)\n",
    "\n",
    "        self.nn_lam.register_parameter('D', self.D)\n",
    "        self.nn_lam.register_parameter('K', self.K)\n",
    "        \n",
    "        self.dataset = Dataset(domain)\n",
    "        \n",
    "        if mu is not None and sigma is not None:\n",
    "            self.is_inputs_normalization = True\n",
    "            self.mu = mu\n",
    "            self.sigma = sigma\n",
    "            print(f'forward with normalization, mu={self.mu.tolist()}, sigma={self.sigma.tolist()}')\n",
    "        else:\n",
    "            self.is_inputs_normalization = False\n",
    "\n",
    "    def forward(self,x,u_data):\n",
    "        loss_r = torch.mean(self.net_r(x)**2)\n",
    "        loss_data = torch.mean((u_data-self.net_u(x))**2)\n",
    "        \n",
    "        loss = 100*loss_r + loss_data\n",
    "        return loss, loss_r, loss_data\n",
    "    \n",
    "#     def update_train_data(self):\n",
    "#         \"\"\"更新采样点\"\"\"\n",
    "#         self.x, self.y, self.t, self.u, self.v, self.p = self.dataset.train_data(N_train)\n",
    "        \n",
    "## 全部经过标准化   \n",
    "\n",
    "    def net_u(self,X):\n",
    "        if self.is_inputs_normalization == True:\n",
    "            X = (X - self.mu) / self.sigma\n",
    "        return self.backbone(X)\n",
    "\n",
    "    def net_r(self, x):\n",
    "        x.requires_grad_(True)\n",
    "        c = self.net_u(x)\n",
    "        grad_c = grad(c, x)[0]\n",
    "        c_x = grad_c[:,[0]]\n",
    "        c_xx = grad(c_x, x)[0][:,[0]]\n",
    "        \n",
    "        D = self.D\n",
    "        K = self.K\n",
    "#         D = (16/(6*9.34))\n",
    "#         K = 0.5\n",
    "#         D, K = self.net_lam(x)\n",
    "        \n",
    "        residual = D*c_xx - (4/6)*c_x - K*c\n",
    "        return residual\n",
    "    \n",
    "\n",
    "pinn = PINN(backbone, nn_lam)"
   ]
  },
  {
   "cell_type": "markdown",
   "id": "4bf1a4fb",
   "metadata": {},
   "source": [
    "## Adam"
   ]
  },
  {
   "cell_type": "code",
   "execution_count": 10,
   "id": "ed1e1cc7",
   "metadata": {
    "scrolled": true
   },
   "outputs": [
    {
     "name": "stdout",
     "output_type": "stream",
     "text": [
      "torch.Size([500, 1])\n",
      "forward with normalization, mu=[1.9999784231185913], sigma=[1.1558290719985962]\n",
      "Iter #    500/40000\tloss:4.77e-03, loss_r:3.01e-05, loss_data:1.75e-03 Valid # loss:4.75e-03, loss_r:3.01e-05, loss_d:1.75e-03\n",
      "Iter #   1000/40000\tloss:1.99e-03, loss_r:1.43e-05, loss_data:5.60e-04 Valid # loss:1.99e-03, loss_r:1.43e-05, loss_d:5.59e-04\n",
      "Iter #   1500/40000\tloss:9.77e-04, loss_r:5.05e-06, loss_data:4.72e-04 Valid # loss:9.76e-04, loss_r:5.04e-06, loss_d:4.72e-04\n",
      "Iter #   2000/40000\tloss:5.92e-04, loss_r:1.20e-06, loss_data:4.73e-04 Valid # loss:5.92e-04, loss_r:1.19e-06, loss_d:4.73e-04\n",
      "Iter #   2500/40000\tloss:4.84e-04, loss_r:4.52e-07, loss_data:4.39e-04 Valid # loss:4.84e-04, loss_r:4.51e-07, loss_d:4.39e-04\n",
      "Iter #   3000/40000\tloss:4.11e-04, loss_r:3.27e-07, loss_data:3.78e-04 Valid # loss:4.11e-04, loss_r:3.27e-07, loss_d:3.78e-04\n",
      "Iter #   3500/40000\tloss:3.45e-04, loss_r:3.14e-07, loss_data:3.13e-04 Valid # loss:3.45e-04, loss_r:3.26e-07, loss_d:3.12e-04\n",
      "Iter #   4000/40000\tloss:3.45e-04, loss_r:2.78e-07, loss_data:3.17e-04 Valid # loss:3.45e-04, loss_r:2.78e-07, loss_d:3.17e-04\n",
      "Iter #   4500/40000\tloss:3.02e-04, loss_r:3.01e-07, loss_data:2.72e-04 Valid # loss:3.02e-04, loss_r:3.01e-07, loss_d:2.72e-04\n",
      "Iter #   5000/40000\tloss:2.78e-04, loss_r:2.89e-07, loss_data:2.49e-04 Valid # loss:2.78e-04, loss_r:2.89e-07, loss_d:2.49e-04\n",
      "Iter #   5500/40000\tloss:2.63e-04, loss_r:2.74e-07, loss_data:2.36e-04 Valid # loss:2.63e-04, loss_r:2.74e-07, loss_d:2.36e-04\n",
      "Iter #   6000/40000\tloss:2.38e-04, loss_r:3.30e-07, loss_data:2.05e-04 Valid # loss:2.40e-04, loss_r:2.55e-07, loss_d:2.14e-04\n",
      "Iter #   6500/40000\tloss:2.53e-04, loss_r:2.53e-07, loss_data:2.28e-04 Valid # loss:2.53e-04, loss_r:2.48e-07, loss_d:2.28e-04\n",
      "Iter #   7000/40000\tloss:2.22e-04, loss_r:2.15e-07, loss_data:2.01e-04 Valid # loss:2.22e-04, loss_r:2.17e-07, loss_d:2.01e-04\n",
      "Iter #   7500/40000\tloss:1.90e-04, loss_r:2.09e-07, loss_data:1.69e-04 Valid # loss:1.89e-04, loss_r:2.09e-07, loss_d:1.69e-04\n",
      "Iter #   8000/40000\tloss:1.91e-04, loss_r:1.61e-07, loss_data:1.75e-04 Valid # loss:2.21e-03, loss_r:2.08e-05, loss_d:1.33e-04\n",
      "Iter #   8500/40000\tloss:1.41e-04, loss_r:1.87e-07, loss_data:1.23e-04 Valid # loss:1.41e-04, loss_r:1.87e-07, loss_d:1.23e-04\n",
      "Iter #   9000/40000\tloss:1.17e-04, loss_r:1.75e-07, loss_data:9.94e-05 Valid # loss:1.13e-04, loss_r:1.76e-07, loss_d:9.50e-05\n",
      "Iter #   9500/40000\tloss:8.78e-05, loss_r:1.61e-07, loss_data:7.18e-05 Valid # loss:8.78e-05, loss_r:1.61e-07, loss_d:7.17e-05\n",
      "Iter #  10000/40000\tloss:8.01e-05, loss_r:1.55e-07, loss_data:6.46e-05 Valid # loss:9.30e-05, loss_r:2.08e-07, loss_d:7.21e-05\n",
      "Iter #  10500/40000\tloss:5.99e-05, loss_r:1.23e-07, loss_data:4.75e-05 Valid # loss:5.98e-05, loss_r:1.23e-07, loss_d:4.75e-05\n",
      "Iter #  11000/40000\tloss:5.64e-05, loss_r:9.75e-08, loss_data:4.67e-05 Valid # loss:5.84e-05, loss_r:1.47e-07, loss_d:4.38e-05\n",
      "Iter #  11500/40000\tloss:4.18e-05, loss_r:9.19e-08, loss_data:3.26e-05 Valid # loss:4.18e-05, loss_r:9.19e-08, loss_d:3.26e-05\n",
      "Iter #  12000/40000\tloss:3.48e-05, loss_r:8.44e-08, loss_data:2.64e-05 Valid # loss:3.49e-05, loss_r:7.70e-08, loss_d:2.72e-05\n",
      "Iter #  12500/40000\tloss:2.29e-05, loss_r:7.46e-08, loss_data:1.54e-05 Valid # loss:2.28e-05, loss_r:7.46e-08, loss_d:1.54e-05\n",
      "Iter #  13000/40000\tloss:1.36e-04, loss_r:1.10e-06, loss_data:2.55e-05 Valid # loss:2.13e-05, loss_r:8.28e-08, loss_d:1.31e-05\n",
      "Iter #  13500/40000\tloss:1.51e-05, loss_r:5.41e-08, loss_data:9.64e-06 Valid # loss:1.50e-05, loss_r:5.41e-08, loss_d:9.63e-06\n",
      "Iter #  14000/40000\tloss:1.34e-05, loss_r:4.43e-08, loss_data:8.93e-06 Valid # loss:1.34e-05, loss_r:4.70e-08, loss_d:8.67e-06\n",
      "Iter #  14500/40000\tloss:1.26e-05, loss_r:3.82e-08, loss_data:8.76e-06 Valid # loss:6.85e-05, loss_r:6.21e-07, loss_d:6.35e-06\n",
      "Iter #  15000/40000\tloss:9.11e-06, loss_r:3.21e-08, loss_data:5.90e-06 Valid # loss:9.10e-06, loss_r:3.21e-08, loss_d:5.89e-06\n",
      "Iter #  15500/40000\tloss:8.64e-06, loss_r:2.61e-08, loss_data:6.03e-06 Valid # loss:8.62e-06, loss_r:2.73e-08, loss_d:5.88e-06\n",
      "Iter #  16000/40000\tloss:6.76e-06, loss_r:2.26e-08, loss_data:4.50e-06 Valid # loss:6.75e-06, loss_r:2.25e-08, loss_d:4.49e-06\n",
      "Iter #  16500/40000\tloss:4.41e-06, loss_r:1.99e-08, loss_data:2.43e-06 Valid # loss:4.41e-06, loss_r:1.99e-08, loss_d:2.42e-06\n",
      "Iter #  17000/40000\tloss:3.43e-06, loss_r:1.78e-08, loss_data:1.65e-06 Valid # loss:3.42e-06, loss_r:1.77e-08, loss_d:1.65e-06\n",
      "Iter #  17500/40000\tloss:3.30e-06, loss_r:1.47e-08, loss_data:1.82e-06 Valid # loss:3.29e-06, loss_r:1.45e-08, loss_d:1.84e-06\n",
      "Iter #  18000/40000\tloss:2.76e-06, loss_r:1.22e-08, loss_data:1.54e-06 Valid # loss:2.76e-06, loss_r:1.22e-08, loss_d:1.54e-06\n",
      "Iter #  18500/40000\tloss:2.22e-06, loss_r:1.03e-08, loss_data:1.19e-06 Valid # loss:2.21e-06, loss_r:1.03e-08, loss_d:1.18e-06\n",
      "Iter #  19000/40000\tloss:1.96e-06, loss_r:8.58e-09, loss_data:1.11e-06 Valid # loss:1.96e-06, loss_r:8.57e-09, loss_d:1.10e-06\n",
      "Iter #  19500/40000\tloss:2.50e-06, loss_r:7.31e-09, loss_data:1.77e-06 Valid # loss:2.50e-06, loss_r:7.31e-09, loss_d:1.77e-06\n",
      "Iter #  20000/40000\tloss:1.46e-06, loss_r:6.26e-09, loss_data:8.32e-07 Valid # loss:1.46e-06, loss_r:6.25e-09, loss_d:8.31e-07\n",
      "Iter #  20500/40000\tloss:9.73e-07, loss_r:5.42e-09, loss_data:4.31e-07 Valid # loss:9.72e-07, loss_r:5.42e-09, loss_d:4.30e-07\n",
      "Iter #  21000/40000\tloss:1.29e-06, loss_r:5.36e-09, loss_data:7.51e-07 Valid # loss:1.29e-06, loss_r:5.38e-09, loss_d:7.49e-07\n",
      "Iter #  21500/40000\tloss:8.56e-07, loss_r:4.54e-09, loss_data:4.02e-07 Valid # loss:8.56e-07, loss_r:4.54e-09, loss_d:4.01e-07\n",
      "Iter #  22000/40000\tloss:9.97e-03, loss_r:9.59e-05, loss_data:3.87e-04 Valid # loss:1.16e-02, loss_r:1.11e-04, loss_d:4.24e-04\n",
      "Iter #  22500/40000\tloss:7.51e-07, loss_r:3.48e-09, loss_data:4.02e-07 Valid # loss:7.50e-07, loss_r:3.48e-09, loss_d:4.02e-07\n",
      "Iter #  23000/40000\tloss:4.89e-07, loss_r:3.04e-09, loss_data:1.85e-07 Valid # loss:4.89e-07, loss_r:3.04e-09, loss_d:1.85e-07\n",
      "Iter #  23500/40000\tloss:8.58e-07, loss_r:2.89e-09, loss_data:5.68e-07 Valid # loss:8.57e-07, loss_r:2.89e-09, loss_d:5.67e-07\n",
      "Iter #  24000/40000\tloss:5.50e-07, loss_r:2.65e-09, loss_data:2.85e-07 Valid # loss:5.50e-07, loss_r:2.65e-09, loss_d:2.85e-07\n",
      "Iter #  24500/40000\tloss:4.04e-07, loss_r:2.47e-09, loss_data:1.57e-07 Valid # loss:4.04e-07, loss_r:2.47e-09, loss_d:1.56e-07\n",
      "Iter #  25000/40000\tloss:3.05e-07, loss_r:2.29e-09, loss_data:7.58e-08 Valid # loss:3.05e-07, loss_r:2.29e-09, loss_d:7.57e-08\n",
      "Iter #  25500/40000\tloss:4.93e-07, loss_r:2.31e-09, loss_data:2.62e-07 Valid # loss:4.92e-07, loss_r:2.32e-09, loss_d:2.60e-07\n",
      "Iter #  26000/40000\tloss:3.75e-07, loss_r:2.20e-09, loss_data:1.55e-07 Valid # loss:3.75e-07, loss_r:2.20e-09, loss_d:1.55e-07\n",
      "Iter #  26500/40000\tloss:2.91e-07, loss_r:2.09e-09, loss_data:8.22e-08 Valid # loss:2.91e-07, loss_r:2.09e-09, loss_d:8.21e-08\n",
      "Iter #  27000/40000\tloss:2.38e-07, loss_r:1.98e-09, loss_data:3.94e-08 Valid # loss:2.37e-07, loss_r:1.98e-09, loss_d:3.93e-08\n",
      "Iter #  27500/40000\tloss:6.12e-07, loss_r:2.10e-09, loss_data:4.02e-07 Valid # loss:6.08e-07, loss_r:1.99e-09, loss_d:4.09e-07\n",
      "Iter #  28000/40000\tloss:4.65e-07, loss_r:1.94e-09, loss_data:2.71e-07 Valid # loss:4.65e-07, loss_r:1.94e-09, loss_d:2.71e-07\n",
      "Iter #  28500/40000\tloss:3.79e-07, loss_r:1.90e-09, loss_data:1.89e-07 Valid # loss:3.79e-07, loss_r:1.90e-09, loss_d:1.89e-07\n",
      "Iter #  29000/40000\tloss:3.06e-07, loss_r:1.86e-09, loss_data:1.20e-07 Valid # loss:3.05e-07, loss_r:1.86e-09, loss_d:1.19e-07\n",
      "Iter #  29500/40000\tloss:2.50e-07, loss_r:1.82e-09, loss_data:6.85e-08 Valid # loss:2.50e-07, loss_r:1.82e-09, loss_d:6.84e-08\n",
      "Iter #  30000/40000\tloss:2.13e-07, loss_r:1.77e-09, loss_data:3.57e-08 Valid # loss:2.12e-07, loss_r:1.77e-09, loss_d:3.57e-08\n",
      "Iter #  30500/40000\tloss:1.90e-07, loss_r:1.72e-09, loss_data:1.83e-08 Valid # loss:1.90e-07, loss_r:1.71e-09, loss_d:1.82e-08\n",
      "Iter #  31000/40000\tloss:2.71e-07, loss_r:1.71e-09, loss_data:9.96e-08 Valid # loss:2.71e-07, loss_r:1.71e-09, loss_d:9.95e-08\n",
      "Iter #  31500/40000\tloss:2.34e-07, loss_r:1.69e-09, loss_data:6.52e-08 Valid # loss:2.34e-07, loss_r:1.69e-09, loss_d:6.52e-08\n",
      "Iter #  32000/40000\tloss:2.05e-07, loss_r:1.65e-09, loss_data:3.95e-08 Valid # loss:2.05e-07, loss_r:1.65e-09, loss_d:3.94e-08\n"
     ]
    },
    {
     "name": "stdout",
     "output_type": "stream",
     "text": [
      "Iter #  32500/40000\tloss:1.89e-07, loss_r:1.63e-09, loss_data:2.66e-08 Valid # loss:1.89e-07, loss_r:1.63e-09, loss_d:2.66e-08\n",
      "Iter #  33000/40000\tloss:1.77e-07, loss_r:1.60e-09, loss_data:1.71e-08 Valid # loss:1.77e-07, loss_r:1.60e-09, loss_d:1.71e-08\n",
      "Iter #  33500/40000\tloss:1.67e-07, loss_r:1.56e-09, loss_data:1.15e-08 Valid # loss:1.67e-07, loss_r:1.56e-09, loss_d:1.15e-08\n",
      "Iter #  34000/40000\tloss:1.60e-07, loss_r:1.52e-09, loss_data:8.62e-09 Valid # loss:1.60e-07, loss_r:1.52e-09, loss_d:8.61e-09\n",
      "Iter #  34500/40000\tloss:1.80e-07, loss_r:1.51e-09, loss_data:2.86e-08 Valid # loss:1.80e-07, loss_r:1.51e-09, loss_d:2.85e-08\n",
      "Iter #  35000/40000\tloss:1.70e-07, loss_r:1.50e-09, loss_data:2.09e-08 Valid # loss:1.70e-07, loss_r:1.50e-09, loss_d:2.09e-08\n",
      "Iter #  35500/40000\tloss:1.62e-07, loss_r:1.47e-09, loss_data:1.48e-08 Valid # loss:1.62e-07, loss_r:1.47e-09, loss_d:1.48e-08\n",
      "Iter #  36000/40000\tloss:1.56e-07, loss_r:1.45e-09, loss_data:1.06e-08 Valid # loss:1.56e-07, loss_r:1.45e-09, loss_d:1.06e-08\n",
      "Iter #  36500/40000\tloss:1.52e-07, loss_r:1.43e-09, loss_data:8.66e-09 Valid # loss:1.52e-07, loss_r:1.43e-09, loss_d:8.66e-09\n",
      "Iter #  37000/40000\tloss:1.48e-07, loss_r:1.40e-09, loss_data:7.47e-09 Valid # loss:1.48e-07, loss_r:1.40e-09, loss_d:7.47e-09\n",
      "Iter #  37500/40000\tloss:1.44e-07, loss_r:1.37e-09, loss_data:6.79e-09 Valid # loss:1.44e-07, loss_r:1.37e-09, loss_d:6.79e-09\n",
      "Iter #  38000/40000\tloss:1.49e-07, loss_r:1.36e-09, loss_data:1.26e-08 Valid # loss:1.49e-07, loss_r:1.36e-09, loss_d:1.26e-08\n",
      "Iter #  38500/40000\tloss:1.46e-07, loss_r:1.35e-09, loss_data:1.02e-08 Valid # loss:1.46e-07, loss_r:1.35e-09, loss_d:1.02e-08\n",
      "Iter #  39000/40000\tloss:1.43e-07, loss_r:1.34e-09, loss_data:8.54e-09 Valid # loss:1.43e-07, loss_r:1.34e-09, loss_d:8.53e-09\n",
      "Iter #  39500/40000\tloss:1.40e-07, loss_r:1.32e-09, loss_data:7.44e-09 Valid # loss:1.40e-07, loss_r:1.32e-09, loss_d:7.44e-09\n",
      "Iter #  40000/40000\tloss:1.37e-07, loss_r:1.30e-09, loss_data:6.67e-09 Valid # loss:1.37e-07, loss_r:1.30e-09, loss_d:6.66e-09\n"
     ]
    }
   ],
   "source": [
    "\"\"\"Adam优化\"\"\"\n",
    "dataset = Dataset(domain)  # 生成训练数据\n",
    "x, x_0, x_L = dataset.train_data()\n",
    "u_data = dataset.u(x)\n",
    "\n",
    "x = x.float().to(device)\n",
    "x_0 = x_0.float().to(device)\n",
    "x_L = x_L.float().to(device)\n",
    "u_data = u_data.float().to(device)\n",
    "print(x.shape)\n",
    "\n",
    "mu = x.mean(dim=0)\n",
    "sigma = x.std(dim=0)  # 求样本标准差\n",
    "\n",
    "backbone = MLP(backbone_layers)  # 主干网络\n",
    "nn_lam = MLP(nn_lam_layers)  # 参数网络 lambda1,2\n",
    "pinn = PINN(backbone, nn_lam, mu, sigma).to(device)\n",
    "\n",
    "optimizer_adam = optim.Adam(pinn.backbone.parameters(), lr=1e-3)\n",
    "optimizer_adam_lam = optim.Adam(pinn.nn_lam.parameters(), lr=1e-3)\n",
    "\n",
    "lr_sche = optim.lr_scheduler.ExponentialLR(optimizer_adam, gamma=0.7)  # 指数衰减学习率\n",
    "lr_sche_lam = optim.lr_scheduler.ExponentialLR(optimizer_adam_lam, gamma=0.7)\n",
    "logger = {\n",
    "    \"loss\": [],\n",
    "    \"loss_res\": [],\n",
    "    \"loss_data\": [],\n",
    "    \"iter\": [],\n",
    "    \"D\":[],\n",
    "    \"K\":[],\n",
    "    \"mu\": mu,\n",
    "    \"sigma\": sigma\n",
    "}\n",
    "best_loss = 1e9\n",
    "\n",
    "# 训练\n",
    "start_time = time.time()\n",
    "for it in range(adam_iters):\n",
    "    # 计算loss并更新网络 -------\n",
    "    pinn.train()\n",
    "    pinn.zero_grad()\n",
    "    \n",
    "    loss_value, loss_r_value, loss_data_value = pinn(x,u_data)\n",
    "\n",
    "    loss_value.backward()\n",
    "    optimizer_adam.step()\n",
    "    optimizer_adam_lam.step()\n",
    "    # 计算loss并更新网络 -------\n",
    "\n",
    "    if (it + 1) % 100 == 0:\n",
    "        # 保存loss信息\n",
    "        pinn.train(False)\n",
    "        loss_valid, loss_r_value_valid, loss_data_value_valid = pinn(x,u_data)\n",
    "\n",
    "        logger[\"loss\"].append(loss_valid.item())\n",
    "        logger[\"loss_res\"].append(loss_r_value_valid.item())\n",
    "        logger[\"loss_data\"].append(loss_data_value_valid.item())\n",
    "        logger[\"iter\"].append(it + 1)\n",
    "        logger[\"D\"].append(pinn.D.item())\n",
    "        logger[\"K\"].append(pinn.K.item())\n",
    "        \n",
    "\n",
    "        # 保存训练loss最低的模型\n",
    "        if loss_valid.item() < best_loss:\n",
    "            model_state = {'iter': it + 1, 'backbone_state': pinn.backbone.state_dict(),\n",
    "                           'nn_lam_state': pinn.nn_lam.state_dict()}\n",
    "            torch.save(model_state, os.path.join(model_path, 'pinn_adam.pth'))\n",
    "            best_loss = loss_valid.item()\n",
    "            \n",
    "\n",
    "        if (it + 1) % 500 == 0:\n",
    "            # 保存并打印训练日志\n",
    "            info = f'Iter # {it + 1:6d}/{adam_iters}\\t' + \\\n",
    "                   f'loss:{loss_value:.2e}, loss_r:{loss_r_value:.2e}, loss_data:{loss_data_value:.2e} ' + \\\n",
    "                   f'Valid # loss:{loss_valid.item():.2e}, loss_r:{loss_r_value_valid.item():.2e}, loss_d:{loss_data_value_valid.item():.2e}'\n",
    "            with open(train_info_path + 'train_info.txt', 'a') as f:\n",
    "                f.write(info + '\\n')\n",
    "            print(info)\n",
    "#         pinn.update_train_data()\n",
    "\n",
    "        # 衰减学习率\n",
    "        if (it + 1) % 4000 == 0:\n",
    "            lr_sche.step()\n",
    "            lr_sche_lam.step()"
   ]
  },
  {
   "cell_type": "code",
   "execution_count": 11,
   "id": "d96eb753",
   "metadata": {},
   "outputs": [
    {
     "name": "stdout",
     "output_type": "stream",
     "text": [
      "tensor([0.2228])\n",
      "tensor([0.4773])\n"
     ]
    }
   ],
   "source": [
    "np.save(\"./logger.npy\", logger)\n",
    "print(model_state[\"backbone_state\"][\"D\"])\n",
    "print(model_state[\"backbone_state\"][\"K\"])"
   ]
  },
  {
   "cell_type": "code",
   "execution_count": 12,
   "id": "c06cd559",
   "metadata": {},
   "outputs": [],
   "source": [
    "def predict(X):\n",
    "    \n",
    "    X_star = torch.from_numpy(X.flatten()[:,None]).float()\n",
    "\n",
    "#     u_star = pinn.net_u(X_star)\n",
    "\n",
    "    u_pred = pinn.net_u(X_star)\n",
    "\n",
    "    return u_pred.detach().numpy()"
   ]
  },
  {
   "cell_type": "code",
   "execution_count": 13,
   "id": "ad464138",
   "metadata": {},
   "outputs": [
    {
     "name": "stdout",
     "output_type": "stream",
     "text": [
      "Error u: 4.551107e-04\n"
     ]
    }
   ],
   "source": [
    "model_state = torch.load(os.path.join(model_path, 'pinn_adam.pth'))\n",
    "pinn.backbone.load_state_dict(model_state['backbone_state'])\n",
    "pinn.nn_lam.load_state_dict(model_state['nn_lam_state'])\n",
    "pinn.eval()\n",
    "\n",
    "nx = 512\n",
    "x = np.linspace(0, 4, nx)\n",
    "u_star = dataset.u(x)\n",
    "u_star = u_star.reshape(-1,1)\n",
    "\n",
    "u_pred= predict(x)\n",
    "\n",
    "error_u = np.linalg.norm(u_star-u_pred,2)/np.linalg.norm(u_star,2)\n",
    "\n",
    "print('Error u: %e' % (error_u))"
   ]
  },
  {
   "cell_type": "code",
   "execution_count": 14,
   "id": "8ad26e2e",
   "metadata": {},
   "outputs": [
    {
     "name": "stdout",
     "output_type": "stream",
     "text": [
      "D_true: 0.28551034975017847\n",
      "K_true: 0.5\n",
      "D_pred: [0.2227745]\n",
      "K_pred [0.4772647]\n",
      "Error D: 21.97323%\n",
      "Error K: 7.96304%\n"
     ]
    },
    {
     "data": {
      "text/plain": [
       "0.045470595359802246"
      ]
     },
     "execution_count": 14,
     "metadata": {},
     "output_type": "execute_result"
    }
   ],
   "source": [
    "D_star = (16/(6*9.34))\n",
    "K_star = 0.5\n",
    "\n",
    "D_pred = pinn.D.detach().cpu().numpy()\n",
    "K_pred = pinn.K.detach().cpu().numpy()\n",
    "\n",
    "# D_pred = D_pred.detach().cpu().numpy()\n",
    "# K_pred =K_pred.detach().cpu().numpy()\n",
    "\n",
    "# x = torch.tensor(x.reshape(-1,1))\n",
    "# x = x.to(torch.float32)\n",
    "# D_pred, K_pred = pinn.net_lam(x)\n",
    "\n",
    "# D_pred = torch.mean(D_pred).detach()\n",
    "# K_pred = torch.mean(K_pred).detach()\n",
    "\n",
    "print(\"D_true:\",D_star)\n",
    "print(\"K_true:\",K_star)\n",
    "print(\"D_pred:\",D_pred)\n",
    "print(\"K_pred\",K_pred)\n",
    "\n",
    "error_D= np.abs(D_pred - D_star) / D_star * 100\n",
    "error_K= np.abs(K_pred - K_star) / D_star * 100\n",
    "\n",
    "print('Error D: %.5f%%' % (error_D))                             \n",
    "print('Error K: %.5f%%' % (error_K))\n",
    "\n",
    "K_error = np.linalg.norm(K_pred - K_star) / np.linalg.norm(K_star)\n",
    "K_error"
   ]
  },
  {
   "cell_type": "code",
   "execution_count": 15,
   "id": "4e671978",
   "metadata": {},
   "outputs": [
    {
     "data": {
      "image/png": "[encoded data removed]",
      "text/plain": [
       "<Figure size 1152x360 with 3 Axes>"
      ]
     },
     "metadata": {},
     "output_type": "display_data"
    }
   ],
   "source": [
    "plt.rcParams.update({'font.size':18})\n",
    "with sns.axes_style(\"darkgrid\"):\n",
    "    fig = plt.figure(3, figsize=(16, 5))\n",
    "    ax = plt.subplot(1, 3, 1)\n",
    "    plt.plot(x, u_star, label='Exact', linewidth=3)\n",
    "    plt.plot(x, u_pred, '--', label='Predicted', linewidth=3)\n",
    "    plt.xlabel('$x$')\n",
    "    plt.ylabel('$u$')\n",
    "    plt.xticks([0, 1, 2, 3, 4])\n",
    "    plt.legend(loc='upper right', fontsize=15)\n",
    "    plt.tight_layout()\n",
    "    ax.set_aspect(1./ax.get_data_ratio())\n",
    "\n",
    "    ax = plt.subplot(1, 3, 2)\n",
    "    plt.plot(x, np.abs(u_star-u_pred), linewidth=2)\n",
    "    plt.xlabel('$x$')\n",
    "    plt.ylabel('point-wise error')\n",
    "    plt.xticks([0, 1, 2, 3, 4])\n",
    "    plt.ticklabel_format(axis=\"y\", style=\"sci\", scilimits=(0,0))\n",
    "    plt.tight_layout()\n",
    "    ax.set_aspect(1./ax.get_data_ratio())\n",
    "\n",
    "    ax = plt.subplot(1, 3, 3)\n",
    "    k = 2\n",
    "    plt.plot(logger[\"iter\"][::k], logger[\"loss_res\"][::k], label=r\"$\\mathcal{L}_{r}$\", linewidth=3)\n",
    "    plt.plot(logger[\"iter\"][::k], logger[\"loss_data\"][::k], label=r\"$\\mathcal{L}_{data}$\", linewidth=3)\n",
    "    plt.xlabel('Iteration')\n",
    "    plt.ylabel('Loss')\n",
    "    plt.yscale('log')\n",
    "    plt.legend(loc='upper right', fontsize=15)\n",
    "    ax.set_aspect(1./ax.get_data_ratio())\n",
    "    \n",
    "    plt.savefig('results_1D_poisson.png', dpi=100)\n",
    "#     plt.savefig(f'{file}/results_1D_poisson.png', dpi=96, bbox_inches = 'tight')\n",
    "    plt.show()"
   ]
  },
  {
   "cell_type": "code",
   "execution_count": 16,
   "id": "e32fec4d",
   "metadata": {},
   "outputs": [
    {
     "data": {
      "image/png": "[encoded data removed]",
      "text/plain": [
       "<Figure size 648x504 with 1 Axes>"
      ]
     },
     "metadata": {},
     "output_type": "display_data"
    }
   ],
   "source": [
    "plt.rcParams.update({'font.size':18})\n",
    "logger = np.load(\"./logger.npy\", allow_pickle=True).item()\n",
    "k = 2\n",
    "with sns.axes_style(\"darkgrid\"):\n",
    "    plt.figure(figsize=(9, 7))\n",
    "    plt.subplot(111)\n",
    "    # plt.plot(logger[\"iter\"][::k], logger[\"loss\"][::k], label=r\"$L$\")\n",
    "    plt.plot(logger[\"iter\"][::k], logger[\"D\"][::k], label=r\"$D$\", linewidth=3)\n",
    "#     plt.plot(logger[\"iter\"][::k], logger[\"K\"][::k], label=r\"$K$\", linewidth=3)\n",
    "    plt.legend()\n",
    "    plt.xticks([0, 5000, 10000, 15000, 20000])\n",
    "    plt.ylim(0.2,0.9)\n",
    "    plt.xlabel('Iteration')\n",
    "    plt.ylabel('D')\n",
    "    plt.yscale('log')\n",
    "    plt.savefig('D.png', dpi=100)\n",
    "    plt.show()"
   ]
  },
  {
   "cell_type": "code",
   "execution_count": 17,
   "id": "f1abf44f",
   "metadata": {},
   "outputs": [
    {
     "data": {
      "image/png": "[encoded data removed]",
      "text/plain": [
       "<Figure size 648x504 with 1 Axes>"
      ]
     },
     "metadata": {},
     "output_type": "display_data"
    }
   ],
   "source": [
    "plt.rcParams.update({'font.size':18})\n",
    "logger = np.load(\"./logger.npy\", allow_pickle=True).item()\n",
    "k = 2\n",
    "with sns.axes_style(\"darkgrid\"):\n",
    "    plt.figure(figsize=(9, 7))\n",
    "    plt.subplot(111)\n",
    "    # plt.plot(logger[\"iter\"][::k], logger[\"loss\"][::k], label=r\"$L$\")\n",
    "#     plt.plot(logger[\"iter\"][::k], logger[\"D\"][::k], label=r\"$D$\", linewidth=3)\n",
    "    plt.plot(logger[\"iter\"][::k], logger[\"K\"][::k], label=r\"$K$\", linewidth=3)\n",
    "    plt.legend()\n",
    "    plt.xticks([0, 5000, 10000, 15000, 20000])\n",
    "    plt.ylim(0.4,0.5)\n",
    "    plt.xlabel('Iteration')\n",
    "    plt.ylabel('K')\n",
    "    plt.yscale('log')\n",
    "    plt.savefig('K.png', dpi=100)\n",
    "    plt.show()"
   ]
  },
  {
   "cell_type": "code",
   "execution_count": null,
   "id": "1c73c5f4",
   "metadata": {},
   "outputs": [],
   "source": []
  }
 ],
 "metadata": {
  "kernelspec": {
   "display_name": "Python 3",
   "language": "python",
   "name": "python3"
  },
  "language_info": {
   "codemirror_mode": {
    "name": "ipython",
    "version": 3
   },
   "file_extension": ".py",
   "mimetype": "text/x-python",
   "name": "python",
   "nbconvert_exporter": "python",
   "pygments_lexer": "ipython3",
   "version": "3.8.8"
  }
 },
 "nbformat": 4,
 "nbformat_minor": 5
}
