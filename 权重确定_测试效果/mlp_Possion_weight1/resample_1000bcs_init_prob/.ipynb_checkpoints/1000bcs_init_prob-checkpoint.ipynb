{
 "cells": [
  {
   "cell_type": "code",
   "execution_count": 1,
   "metadata": {},
   "outputs": [
    {
     "name": "stderr",
     "output_type": "stream",
     "text": [
      "/tmp/ipykernel_173456/82325636.py:1: DeprecationWarning: Importing display from IPython.core.display is deprecated since IPython 7.14, please import from IPython display\n",
      "  from IPython.core.display import display, HTML\n"
     ]
    },
    {
     "data": {
      "text/html": [
       "<style>.container { width:80% !important; }</style>"
      ],
      "text/plain": [
       "<IPython.core.display.HTML object>"
      ]
     },
     "metadata": {},
     "output_type": "display_data"
    }
   ],
   "source": [
    "from IPython.core.display import display, HTML\n",
    "display(HTML(\"<style>.container { width:80% !important; }</style>\"))"
   ]
  },
  {
   "cell_type": "code",
   "execution_count": 2,
   "metadata": {
    "ExecuteTime": {
     "end_time": "2022-10-23T08:34:05.294256Z",
     "start_time": "2022-10-23T08:34:04.368778Z"
    }
   },
   "outputs": [],
   "source": [
    "import torch\n",
    "import torch.nn as nn\n",
    "import torch.optim as optim\n",
    "\n",
    "import numpy as np\n",
    "import matplotlib.pyplot as plt\n",
    "import scipy.io\n",
    "from pyDOE import lhs\n",
    "\n",
    "import os\n",
    "import time\n",
    "\n",
    "plt.rcParams.update({'font.size':18})"
   ]
  },
  {
   "cell_type": "code",
   "execution_count": 3,
   "metadata": {},
   "outputs": [],
   "source": [
    "def seed_torch(seed=1024):\n",
    "#     random.seed(seed)\n",
    "    os.environ['PYTHONHASHSEED'] = str(seed) # 为了禁止hash随机化，使得实验可复现\n",
    "    np.random.seed(seed)\n",
    "    torch.manual_seed(seed)\n",
    "    torch.cuda.manual_seed(seed)\n",
    "    torch.cuda.manual_seed_all(seed) # if you are using multi-GPU.\n",
    "    torch.backends.cudnn.benchmark = False\n",
    "    torch.backends.cudnn.deterministic = True\n",
    "#     torch.use_deterministic_algorithms(True)  # 有检查操作，看下文区别\n",
    " \n",
    "seed_torch(1024)"
   ]
  },
  {
   "cell_type": "code",
   "execution_count": 4,
   "metadata": {
    "ExecuteTime": {
     "end_time": "2022-10-23T08:12:57.792915Z",
     "start_time": "2022-10-23T08:12:57.778897Z"
    }
   },
   "outputs": [],
   "source": [
    "domain = (-1, 1, -1, 1)\n",
    "xmin, xmax, ymin, ymax = domain\n",
    "mlp_layers = [2, 128, 128, 128, 128, 128, 128, 1]\n",
    "Nsd = 10000\n",
    "n_bcs = 128\n",
    "lr=1e-3\n",
    "adam_epoch = 25000\n",
    "lbfgs_epoch = 1000\n",
    "gamma = 0.7\n",
    "step_size = 1000\n",
    "newton_iter = 100\n",
    "device = torch.device('cuda' if torch.cuda.is_available() else 'cpu')\n",
    "model_path = r'./model'\n",
    "train_info_path = r'./'\n",
    "if not os.path.exists(model_path):\n",
    "    os.mkdir(model_path)"
   ]
  },
  {
   "cell_type": "markdown",
   "metadata": {},
   "source": [
    "## 数据集生成"
   ]
  },
  {
   "cell_type": "code",
   "execution_count": 5,
   "metadata": {
    "ExecuteTime": {
     "end_time": "2022-10-23T08:12:57.808906Z",
     "start_time": "2022-10-23T08:12:57.794910Z"
    }
   },
   "outputs": [
    {
     "name": "stdout",
     "output_type": "stream",
     "text": [
      "torch.Size([7494, 2]) torch.Size([1024, 2])\n"
     ]
    }
   ],
   "source": [
    "class DatasetAC:\n",
    "    def __init__(self, domain):\n",
    "        self.domain = domain\n",
    "    \n",
    "    def train_data(self, Nsd, n_bcs, verbose=None):\n",
    "        xmin, xmax, ymin, ymax = self.domain\n",
    "        # 内部点采样\n",
    "        \n",
    "#         lb1 = np.array([-1., -1.])\n",
    "#         ub1 = np.array([0., 0.])\n",
    "#         lb2 = np.array([-1., 0.])\n",
    "#         ub2 = np.array([0., 1.])\n",
    "#         lb3 = np.array([0.0, -1.])\n",
    "#         ub3 = np.array([1., 0.])\n",
    "\n",
    "#         xy_res1 = (ub1-lb1)*lhs(2, int(Nsd/3))+lb1\n",
    "#         xy_res2 = (ub2-lb2)*lhs(2, int(Nsd/3))+lb2\n",
    "#         xy_res3 = (ub3-lb3)*lhs(2, int(Nsd/3))+lb3\n",
    "        \n",
    "#         X_res = np.concatenate([xy_res1, xy_res2, xy_res3], 0)\n",
    "\n",
    "        lb = np.array([-1.0, -1.0])\n",
    "        ub = np.array([1.0, 1.0])\n",
    "        xy = (ub-lb)*lhs(2, Nsd)+lb\n",
    "        xy = xy[~((xy[:,0]>=0) * (xy[:,1]>=0))]\n",
    "        \n",
    "        # 边界点采样\n",
    "        \n",
    "#         # 对于x\n",
    "#         lb_bcs_1 = np.array([-1., -1.])\n",
    "#         ub_bcs_1 = np.array([1., -1.])\n",
    "#         lb_bcs_2 = np.array([-1., 1.])\n",
    "#         ub_bcs_2 = np.array([0.0, 1.])\n",
    "#         lb_bcs_3 = np.array([0.0, 0.0])\n",
    "#         ub_bcs_3 = np.array([1., 0.0])\n",
    "#         xy_bcs_1 = (ub_bcs_1-lb_bcs_1)*lhs(2, n_bcs)+lb_bcs_1\n",
    "#         xy_bcs_2 = (ub_bcs_2-lb_bcs_2)*lhs(2, n_bcs)+lb_bcs_2\n",
    "#         xy_bcs_3 = (ub_bcs_3-lb_bcs_3)*lhs(2, n_bcs)+lb_bcs_3\n",
    "#         xy_bcs_x = np.concatenate([xy_bcs_1,xy_bcs_2,xy_bcs_3],0)\n",
    "#         # 对于y\n",
    "#         lb_bcs_4 = np.array([-1., -1.])\n",
    "#         ub_bcs_4 = np.array([-1., 1.])\n",
    "#         lb_bcs_5 = np.array([0.0, 0.0])\n",
    "#         ub_bcs_5 = np.array([0.0, 1.])\n",
    "#         lb_bcs_6 = np.array([1., -1.])\n",
    "#         ub_bcs_6 = np.array([1., 0.0])\n",
    "#         xy_bcs_4 = (ub_bcs_4-lb_bcs_4)*lhs(2, n_bcs)+lb_bcs_4\n",
    "#         xy_bcs_5 = (ub_bcs_5-lb_bcs_5)*lhs(2, n_bcs)+lb_bcs_5\n",
    "#         xy_bcs_6 = (ub_bcs_6-lb_bcs_6)*lhs(2, n_bcs)+lb_bcs_6\n",
    "#         xy_bcs_y = np.concatenate([xy_bcs_4,xy_bcs_5,xy_bcs_6],0)\n",
    "#         X_bcs = np.concatenate([xy_bcs_x,xy_bcs_y],0)\n",
    "\n",
    "\n",
    "        bound_1 = lhs(1, n_bcs)-1 # -1 -> 0\n",
    "        bound_1 = bound_1.reshape(-1,1)\n",
    "        \n",
    "        bound_2 = lhs(1, n_bcs) # 0 -> 1\n",
    "        bound_2 = bound_2.reshape(-1,1)\n",
    "        \n",
    "        xy_b_1 = np.hstack((bound_1, bound_1*0-1))\n",
    "        xy_b_2 = np.hstack((bound_2, bound_2*0-1))\n",
    "        xy_b_3 = np.hstack((bound_1*0-1, bound_1))\n",
    "        xy_b_4 = np.hstack((bound_1*0-1, bound_2))\n",
    "        xy_b_5 = np.hstack((bound_1, bound_1*0+1))\n",
    "        xy_b_6 = np.hstack((bound_2, bound_1*0))\n",
    "        xy_b_7 = np.hstack((bound_1*0+1, bound_1))\n",
    "        xy_b_8 = np.hstack((bound_1*0, bound_2))        \n",
    "        xy_b = np.vstack([xy_b_1, xy_b_2, xy_b_3, xy_b_4, xy_b_5, xy_b_6, xy_b_7, xy_b_8])\n",
    "        \n",
    "        xy = torch.from_numpy(xy).float().to(device)\n",
    "        xy_b = torch.from_numpy(xy_b).float().to(device)\n",
    "        return xy, xy_b\n",
    "    \n",
    "    def sample_xy(self, x, y):\n",
    "        xx, yy = np.meshgrid(x, y)\n",
    "        X = np.concatenate([xx.reshape((-1, 1)), yy.reshape((-1, 1))], axis=1)\n",
    "        return X\n",
    "    \n",
    "\n",
    "dataset = DatasetAC(domain)\n",
    "X_res, X_bcs = dataset.train_data(Nsd, n_bcs)\n",
    "print(X_res.shape, X_bcs.shape)"
   ]
  },
  {
   "cell_type": "markdown",
   "metadata": {},
   "source": [
    "## PINN主干网络"
   ]
  },
  {
   "cell_type": "code",
   "execution_count": 6,
   "metadata": {
    "ExecuteTime": {
     "end_time": "2022-10-23T08:12:57.832911Z",
     "start_time": "2022-10-23T08:12:57.810905Z"
    }
   },
   "outputs": [
    {
     "data": {
      "text/plain": [
       "Sequential(\n",
       "  (layer0): Sequential(\n",
       "    (fc0): Linear(in_features=2, out_features=128, bias=True)\n",
       "    (act0): Tanh()\n",
       "  )\n",
       "  (layer1): Sequential(\n",
       "    (fc1): Linear(in_features=128, out_features=128, bias=True)\n",
       "    (act1): Tanh()\n",
       "  )\n",
       "  (layer2): Sequential(\n",
       "    (fc2): Linear(in_features=128, out_features=128, bias=True)\n",
       "    (act2): Tanh()\n",
       "  )\n",
       "  (layer3): Sequential(\n",
       "    (fc3): Linear(in_features=128, out_features=128, bias=True)\n",
       "    (act3): Tanh()\n",
       "  )\n",
       "  (layer4): Sequential(\n",
       "    (fc4): Linear(in_features=128, out_features=128, bias=True)\n",
       "    (act4): Tanh()\n",
       "  )\n",
       "  (layer5): Sequential(\n",
       "    (fc5): Linear(in_features=128, out_features=128, bias=True)\n",
       "    (act5): Tanh()\n",
       "  )\n",
       "  (layer6): Sequential(\n",
       "    (fc6): Linear(in_features=128, out_features=1, bias=False)\n",
       "  )\n",
       ")"
      ]
     },
     "execution_count": 6,
     "metadata": {},
     "output_type": "execute_result"
    }
   ],
   "source": [
    "class MLP(nn.Module):\n",
    "    def __init__(self, mlp_layers):\n",
    "        super(MLP, self).__init__()\n",
    "        \n",
    "        self.model = nn.Sequential()\n",
    "        for i in range(len(mlp_layers)-2):\n",
    "            layer = nn.Sequential()\n",
    "            layer.add_module(f'fc{i}', nn.Linear(mlp_layers[i], mlp_layers[i+1], bias=True))\n",
    "            layer.add_module(f'act{i}', nn.Tanh())\n",
    "            self.model.add_module(f'layer{i}', layer)\n",
    "\n",
    "        last_layer = nn.Sequential()\n",
    "        last_layer.add_module(f'fc{len(mlp_layers)-2}', nn.Linear(mlp_layers[-2], mlp_layers[-1], bias=False))\n",
    "        self.model.add_module(f'layer{len(mlp_layers)-2}', last_layer)\n",
    "        \n",
    "        for param in self.parameters():\n",
    "            if len(param.shape) > 1:\n",
    "                nn.init.kaiming_normal_(param)\n",
    "    \n",
    "    def forward(self, X):\n",
    "        return self.model(X)\n",
    "    \n",
    "    \n",
    "backbone = MLP(mlp_layers)\n",
    "backbone.model"
   ]
  },
  {
   "cell_type": "markdown",
   "metadata": {},
   "source": [
    "## 预设的权重函数"
   ]
  },
  {
   "cell_type": "code",
   "execution_count": 7,
   "metadata": {},
   "outputs": [],
   "source": [
    "def points_weight_fn1(X):\n",
    "    if torch.is_tensor(X):\n",
    "        d = torch.sqrt((X[:, [0]]-1)**2 + (X[:, [1]]-1)**2)\n",
    "    else:\n",
    "        d = np.sqrt((X[:, [0]]-1)**2 + (X[:, [1]]-1)**2)\n",
    "    return -2 * d + 6.2\n",
    "\n",
    "def points_weight_fn2(X):\n",
    "    if torch.is_tensor(X):\n",
    "        d = torch.sqrt((X[:, [0]]-1)**2 + (X[:, [1]]-1)**2)\n",
    "        return 8 * torch.exp(-0.78*d)\n",
    "    else:\n",
    "        d = np.sqrt((X[:, [0]]-1)**2 + (X[:, [1]]-1)**2)\n",
    "        return 8 * np.exp(-0.78*d)\n",
    "\n",
    "def points_weight_fn3(X):\n",
    "    if torch.is_tensor(X):\n",
    "        d = torch.sqrt((X[:, [0]]-1)**2 + (X[:, [1]]-1)**2)\n",
    "    else:\n",
    "        d = np.sqrt((X[:, [0]]-1)**2 + (X[:, [1]]-1)**2)\n",
    "    return -0.3*d**2 + 3.8"
   ]
  },
  {
   "cell_type": "code",
   "execution_count": 8,
   "metadata": {},
   "outputs": [],
   "source": [
    "fixed_w1 = points_weight_fn1(X_res).cpu()\n",
    "fixed_w2 = points_weight_fn2(X_res).cpu()\n",
    "fixed_w3 = points_weight_fn3(X_res).cpu()\n",
    "X_res = X_res.cpu()"
   ]
  },
  {
   "cell_type": "code",
   "execution_count": 9,
   "metadata": {},
   "outputs": [
    {
     "data": {
      "image/png": "[encoded data removed]",
      "text/plain": [
       "<Figure size 1800x500 with 6 Axes>"
      ]
     },
     "metadata": {},
     "output_type": "display_data"
    },
    {
     "data": {
      "text/plain": [
       "<Figure size 640x480 with 0 Axes>"
      ]
     },
     "metadata": {},
     "output_type": "display_data"
    }
   ],
   "source": [
    "fig = plt.figure(figsize=(18, 5))\n",
    "plt.subplot(1, 3, 1)\n",
    "plt.scatter(X_res[:, 0], X_res[:, 1], c=fixed_w1[:, 0], cmap='jet')\n",
    "plt.colorbar()\n",
    "plt.xlim([xmin, xmax])\n",
    "plt.ylim([ymin, ymax])\n",
    "plt.xlabel('$x$')\n",
    "plt.ylabel('$y$')\n",
    "plt.title('Fixed points weight 1')\n",
    "plt.tight_layout()\n",
    "\n",
    "plt.subplot(1, 3, 2)\n",
    "plt.scatter(X_res[:, 0], X_res[:, 1], c=fixed_w2[:, 0], cmap='jet')\n",
    "plt.colorbar()\n",
    "plt.xlim([xmin, xmax])\n",
    "plt.ylim([ymin, ymax])\n",
    "plt.xlabel('$x$')\n",
    "plt.ylabel('$y$')\n",
    "plt.title('Fixed points weight 2')\n",
    "plt.tight_layout()\n",
    "\n",
    "plt.subplot(1, 3, 3)\n",
    "plt.scatter(X_res[:, 0], X_res[:, 1], c=fixed_w3[:, 0], cmap='jet')\n",
    "plt.colorbar()\n",
    "plt.xlim([xmin, xmax])\n",
    "plt.ylim([ymin, ymax])\n",
    "plt.xlabel('$x$')\n",
    "plt.ylabel('$y$')\n",
    "plt.title('Fixed points weight 3')\n",
    "plt.tight_layout()\n",
    "\n",
    "plt.show()\n",
    "plt.savefig('weight_possion_Lshape.png', dpi=400)"
   ]
  },
  {
   "cell_type": "markdown",
   "metadata": {},
   "source": [
    "## PINN模型"
   ]
  },
  {
   "cell_type": "code",
   "execution_count": 10,
   "metadata": {
    "ExecuteTime": {
     "end_time": "2022-10-23T08:12:57.855915Z",
     "start_time": "2022-10-23T08:12:57.836911Z"
    }
   },
   "outputs": [],
   "source": [
    "def grad(outputs, inputs):\n",
    "    return torch.autograd.grad(outputs, inputs,\n",
    "                               grad_outputs=torch.ones_like(outputs),\n",
    "                               create_graph=True, \n",
    "                               retain_graph=True)"
   ]
  },
  {
   "cell_type": "code",
   "execution_count": 11,
   "metadata": {
    "ExecuteTime": {
     "end_time": "2022-10-23T08:12:57.870917Z",
     "start_time": "2022-10-23T08:12:57.857916Z"
    }
   },
   "outputs": [],
   "source": [
    "class PINNAC(nn.Module):\n",
    "    def __init__(self, backbone, mu=None, sigma=None, points_weight_fn=None):\n",
    "        super(PINNAC, self).__init__()\n",
    "        self.backbone = backbone\n",
    "        self.d = 0.0001\n",
    "        if mu is not None and sigma is not None:\n",
    "            self.is_inputs_normalization = True\n",
    "            self.mu = mu\n",
    "            self.sigma = sigma\n",
    "            print(f'forward with normalization, mu={self.mu.tolist()}, sigma={self.sigma.tolist()}')\n",
    "        else:\n",
    "            self.is_inputs_normalization = False\n",
    "            \n",
    "        if points_weight_fn is not None:\n",
    "            self.is_pw_fn = True\n",
    "            self.pw_fn = points_weight_fn\n",
    "        else:\n",
    "            self.is_pw_fn = False\n",
    "    \n",
    "    def forward(self, X_res, X_bcs):\n",
    "        if self.is_pw_fn:\n",
    "            pw_res = self.pw_fn(X_res)\n",
    "            pw_res.requires_grad_(False)\n",
    "            loss_res = torch.mean(self.net_f(pw_res * X_res)**2)\n",
    "        else:\n",
    "            loss_res = torch.mean(self.net_f(X_res)**2)\n",
    "        loss_bcs = torch.mean(self.net_u(X_bcs)**2)\n",
    "        return loss_res, loss_bcs\n",
    "    \n",
    "    def net_u(self, X):\n",
    "        if self.is_inputs_normalization == True:\n",
    "            X = (X - self.mu) / self.sigma\n",
    "        return self.backbone(X)\n",
    "    \n",
    "    def net_f(self, X_res):\n",
    "        X_res.requires_grad_(True)\n",
    "        u = self.net_u(X_res)\n",
    "\n",
    "        grad_u = grad(u, X_res)[0]\n",
    "        u_x = grad_u[:,[0]]\n",
    "        u_y = grad_u[:,[1]]\n",
    "        u_xx = grad(u_x, X_res)[0][:,[0]]\n",
    "        u_yy = grad(u_y, X_res)[0][:,[1]]\n",
    "\n",
    "        return 1 + u_xx + u_yy\n",
    "    \n",
    "\n",
    "pinn = PINNAC(backbone)"
   ]
  },
  {
   "cell_type": "markdown",
   "metadata": {},
   "source": [
    "## Resample"
   ]
  },
  {
   "cell_type": "code",
   "execution_count": 12,
   "metadata": {},
   "outputs": [],
   "source": [
    "# def prob_resample(dataset,Nsd, n_bcs, net_f,points_weight_fn ,num=500, eps=0.01):\n",
    "#     X_resam, X_bcsam = dataset.train_data(Nsd, n_bcs)\n",
    "#     X_resam = X_resam.float().to(device)\n",
    "#     # 获得residule\n",
    "#     f = net_f(X_resam)\n",
    "#     f = f.detach().cpu().numpy()\n",
    "#     # 计算概率权重\n",
    "#     fixed_wn = points_weight_fn(X_resam).detach().cpu().numpy()\n",
    "#     prob = np.concatenate([fixed_wn/fixed_wn.sum(), np.zeros(f.shape)], axis=1)\n",
    "# #     prob = np.concatenate([np.log(abs(f / eps) + np.finfo(np.float32).eps), np.zeros(f.shape)], axis=1)\n",
    "#     prob = np.max(prob, axis=1)\n",
    "#     prob = prob / np.sum(prob)\n",
    "#     # np.random.choice得到索引\n",
    "#     idx = np.random.choice(X_resam.shape[0], num, replace=True, p=prob)\n",
    "# #     print(fixed_wn/fixed_wn.sum().shape())\n",
    "# #     print(X_resam[idx].shape)\n",
    "#     return X_resam[idx].detach()\n",
    "\n",
    "def prob_resample(X_resami, net_fi ,num=200, eps=0.01, plot=True):\n",
    "    # 获得residule\n",
    "    X_resami = X_resami.detach()\n",
    "    fi = net_fi(X_resami)\n",
    "    fi = fi.detach().cpu().numpy()\n",
    "    # 计算概率权重\n",
    "    prob = np.concatenate([np.log(abs(fi / eps) + np.finfo(np.float32).eps), np.zeros(fi.shape)], axis=1)\n",
    "    prob = np.max(prob, axis=1)\n",
    "    prob = prob / sum(prob)\n",
    "    # np.random.choice得到索引\n",
    "    idx = np.random.choice(X_resami.shape[0], num, replace=True, p=prob)\n",
    "    return X_resami[idx].detach()"
   ]
  },
  {
   "cell_type": "markdown",
   "metadata": {},
   "source": [
    "## Adam训练"
   ]
  },
  {
   "cell_type": "code",
   "execution_count": 13,
   "metadata": {
    "ExecuteTime": {
     "start_time": "2022-10-23T08:12:56.726Z"
    },
    "scrolled": true
   },
   "outputs": [
    {
     "name": "stdout",
     "output_type": "stream",
     "text": [
      "forward with normalization, mu=[-0.16723540425300598, -0.17072656750679016], sigma=[0.555195689201355, 0.5518821477890015]\n",
      "Adjusting learning rate of group 0 to 1.0000e-03.\n"
     ]
    },
    {
     "ename": "OutOfMemoryError",
     "evalue": "CUDA out of memory. Tried to allocate 20.00 MiB (GPU 0; 7.78 GiB total capacity; 538.50 KiB already allocated; 7.94 MiB free; 2.00 MiB reserved in total by PyTorch) If reserved memory is >> allocated memory try setting max_split_size_mb to avoid fragmentation.  See documentation for Memory Management and PYTORCH_CUDA_ALLOC_CONF",
     "output_type": "error",
     "traceback": [
      "\u001b[0;31m---------------------------------------------------------------------------\u001b[0m",
      "\u001b[0;31mOutOfMemoryError\u001b[0m                          Traceback (most recent call last)",
      "Cell \u001b[0;32mIn[13], line 29\u001b[0m\n\u001b[1;32m     26\u001b[0m \u001b[38;5;28;01mfor\u001b[39;00m epoch \u001b[38;5;129;01min\u001b[39;00m \u001b[38;5;28mrange\u001b[39m(adam_epoch):\n\u001b[1;32m     27\u001b[0m     pinn\u001b[38;5;241m.\u001b[39mzero_grad()\n\u001b[0;32m---> 29\u001b[0m     loss_res, loss_bcs \u001b[38;5;241m=\u001b[39m \u001b[43mpinn\u001b[49m\u001b[43m(\u001b[49m\u001b[43mX_res\u001b[49m\u001b[43m,\u001b[49m\u001b[43m \u001b[49m\u001b[43mX_bcs\u001b[49m\u001b[43m)\u001b[49m\n\u001b[1;32m     30\u001b[0m     loss \u001b[38;5;241m=\u001b[39m loss_res \u001b[38;5;241m+\u001b[39m \u001b[38;5;241m1000\u001b[39m\u001b[38;5;241m*\u001b[39mloss_bcs\n\u001b[1;32m     32\u001b[0m     loss\u001b[38;5;241m.\u001b[39mbackward()\n",
      "File \u001b[0;32m~/anaconda3/envs/torch39/lib/python3.9/site-packages/torch/nn/modules/module.py:1190\u001b[0m, in \u001b[0;36mModule._call_impl\u001b[0;34m(self, *input, **kwargs)\u001b[0m\n\u001b[1;32m   1186\u001b[0m \u001b[38;5;66;03m# If we don't have any hooks, we want to skip the rest of the logic in\u001b[39;00m\n\u001b[1;32m   1187\u001b[0m \u001b[38;5;66;03m# this function, and just call forward.\u001b[39;00m\n\u001b[1;32m   1188\u001b[0m \u001b[38;5;28;01mif\u001b[39;00m \u001b[38;5;129;01mnot\u001b[39;00m (\u001b[38;5;28mself\u001b[39m\u001b[38;5;241m.\u001b[39m_backward_hooks \u001b[38;5;129;01mor\u001b[39;00m \u001b[38;5;28mself\u001b[39m\u001b[38;5;241m.\u001b[39m_forward_hooks \u001b[38;5;129;01mor\u001b[39;00m \u001b[38;5;28mself\u001b[39m\u001b[38;5;241m.\u001b[39m_forward_pre_hooks \u001b[38;5;129;01mor\u001b[39;00m _global_backward_hooks\n\u001b[1;32m   1189\u001b[0m         \u001b[38;5;129;01mor\u001b[39;00m _global_forward_hooks \u001b[38;5;129;01mor\u001b[39;00m _global_forward_pre_hooks):\n\u001b[0;32m-> 1190\u001b[0m     \u001b[38;5;28;01mreturn\u001b[39;00m \u001b[43mforward_call\u001b[49m\u001b[43m(\u001b[49m\u001b[38;5;241;43m*\u001b[39;49m\u001b[38;5;28;43minput\u001b[39;49m\u001b[43m,\u001b[49m\u001b[43m \u001b[49m\u001b[38;5;241;43m*\u001b[39;49m\u001b[38;5;241;43m*\u001b[39;49m\u001b[43mkwargs\u001b[49m\u001b[43m)\u001b[49m\n\u001b[1;32m   1191\u001b[0m \u001b[38;5;66;03m# Do not call functions when jit is used\u001b[39;00m\n\u001b[1;32m   1192\u001b[0m full_backward_hooks, non_full_backward_hooks \u001b[38;5;241m=\u001b[39m [], []\n",
      "Cell \u001b[0;32mIn[11], line 24\u001b[0m, in \u001b[0;36mPINNAC.forward\u001b[0;34m(self, X_res, X_bcs)\u001b[0m\n\u001b[1;32m     22\u001b[0m     pw_res \u001b[38;5;241m=\u001b[39m \u001b[38;5;28mself\u001b[39m\u001b[38;5;241m.\u001b[39mpw_fn(X_res)\n\u001b[1;32m     23\u001b[0m     pw_res\u001b[38;5;241m.\u001b[39mrequires_grad_(\u001b[38;5;28;01mFalse\u001b[39;00m)\n\u001b[0;32m---> 24\u001b[0m     loss_res \u001b[38;5;241m=\u001b[39m torch\u001b[38;5;241m.\u001b[39mmean(\u001b[38;5;28;43mself\u001b[39;49m\u001b[38;5;241;43m.\u001b[39;49m\u001b[43mnet_f\u001b[49m\u001b[43m(\u001b[49m\u001b[43mpw_res\u001b[49m\u001b[43m \u001b[49m\u001b[38;5;241;43m*\u001b[39;49m\u001b[43m \u001b[49m\u001b[43mX_res\u001b[49m\u001b[43m)\u001b[49m\u001b[38;5;241m*\u001b[39m\u001b[38;5;241m*\u001b[39m\u001b[38;5;241m2\u001b[39m)\n\u001b[1;32m     25\u001b[0m \u001b[38;5;28;01melse\u001b[39;00m:\n\u001b[1;32m     26\u001b[0m     loss_res \u001b[38;5;241m=\u001b[39m torch\u001b[38;5;241m.\u001b[39mmean(\u001b[38;5;28mself\u001b[39m\u001b[38;5;241m.\u001b[39mnet_f(X_res)\u001b[38;5;241m*\u001b[39m\u001b[38;5;241m*\u001b[39m\u001b[38;5;241m2\u001b[39m)\n",
      "Cell \u001b[0;32mIn[11], line 37\u001b[0m, in \u001b[0;36mPINNAC.net_f\u001b[0;34m(self, X_res)\u001b[0m\n\u001b[1;32m     35\u001b[0m \u001b[38;5;28;01mdef\u001b[39;00m \u001b[38;5;21mnet_f\u001b[39m(\u001b[38;5;28mself\u001b[39m, X_res):\n\u001b[1;32m     36\u001b[0m     X_res\u001b[38;5;241m.\u001b[39mrequires_grad_(\u001b[38;5;28;01mTrue\u001b[39;00m)\n\u001b[0;32m---> 37\u001b[0m     u \u001b[38;5;241m=\u001b[39m \u001b[38;5;28;43mself\u001b[39;49m\u001b[38;5;241;43m.\u001b[39;49m\u001b[43mnet_u\u001b[49m\u001b[43m(\u001b[49m\u001b[43mX_res\u001b[49m\u001b[43m)\u001b[49m\n\u001b[1;32m     39\u001b[0m     grad_u \u001b[38;5;241m=\u001b[39m grad(u, X_res)[\u001b[38;5;241m0\u001b[39m]\n\u001b[1;32m     40\u001b[0m     u_x \u001b[38;5;241m=\u001b[39m grad_u[:,[\u001b[38;5;241m0\u001b[39m]]\n",
      "Cell \u001b[0;32mIn[11], line 33\u001b[0m, in \u001b[0;36mPINNAC.net_u\u001b[0;34m(self, X)\u001b[0m\n\u001b[1;32m     31\u001b[0m \u001b[38;5;28;01mif\u001b[39;00m \u001b[38;5;28mself\u001b[39m\u001b[38;5;241m.\u001b[39mis_inputs_normalization \u001b[38;5;241m==\u001b[39m \u001b[38;5;28;01mTrue\u001b[39;00m:\n\u001b[1;32m     32\u001b[0m     X \u001b[38;5;241m=\u001b[39m (X \u001b[38;5;241m-\u001b[39m \u001b[38;5;28mself\u001b[39m\u001b[38;5;241m.\u001b[39mmu) \u001b[38;5;241m/\u001b[39m \u001b[38;5;28mself\u001b[39m\u001b[38;5;241m.\u001b[39msigma\n\u001b[0;32m---> 33\u001b[0m \u001b[38;5;28;01mreturn\u001b[39;00m \u001b[38;5;28;43mself\u001b[39;49m\u001b[38;5;241;43m.\u001b[39;49m\u001b[43mbackbone\u001b[49m\u001b[43m(\u001b[49m\u001b[43mX\u001b[49m\u001b[43m)\u001b[49m\n",
      "File \u001b[0;32m~/anaconda3/envs/torch39/lib/python3.9/site-packages/torch/nn/modules/module.py:1190\u001b[0m, in \u001b[0;36mModule._call_impl\u001b[0;34m(self, *input, **kwargs)\u001b[0m\n\u001b[1;32m   1186\u001b[0m \u001b[38;5;66;03m# If we don't have any hooks, we want to skip the rest of the logic in\u001b[39;00m\n\u001b[1;32m   1187\u001b[0m \u001b[38;5;66;03m# this function, and just call forward.\u001b[39;00m\n\u001b[1;32m   1188\u001b[0m \u001b[38;5;28;01mif\u001b[39;00m \u001b[38;5;129;01mnot\u001b[39;00m (\u001b[38;5;28mself\u001b[39m\u001b[38;5;241m.\u001b[39m_backward_hooks \u001b[38;5;129;01mor\u001b[39;00m \u001b[38;5;28mself\u001b[39m\u001b[38;5;241m.\u001b[39m_forward_hooks \u001b[38;5;129;01mor\u001b[39;00m \u001b[38;5;28mself\u001b[39m\u001b[38;5;241m.\u001b[39m_forward_pre_hooks \u001b[38;5;129;01mor\u001b[39;00m _global_backward_hooks\n\u001b[1;32m   1189\u001b[0m         \u001b[38;5;129;01mor\u001b[39;00m _global_forward_hooks \u001b[38;5;129;01mor\u001b[39;00m _global_forward_pre_hooks):\n\u001b[0;32m-> 1190\u001b[0m     \u001b[38;5;28;01mreturn\u001b[39;00m \u001b[43mforward_call\u001b[49m\u001b[43m(\u001b[49m\u001b[38;5;241;43m*\u001b[39;49m\u001b[38;5;28;43minput\u001b[39;49m\u001b[43m,\u001b[49m\u001b[43m \u001b[49m\u001b[38;5;241;43m*\u001b[39;49m\u001b[38;5;241;43m*\u001b[39;49m\u001b[43mkwargs\u001b[49m\u001b[43m)\u001b[49m\n\u001b[1;32m   1191\u001b[0m \u001b[38;5;66;03m# Do not call functions when jit is used\u001b[39;00m\n\u001b[1;32m   1192\u001b[0m full_backward_hooks, non_full_backward_hooks \u001b[38;5;241m=\u001b[39m [], []\n",
      "Cell \u001b[0;32mIn[6], line 21\u001b[0m, in \u001b[0;36mMLP.forward\u001b[0;34m(self, X)\u001b[0m\n\u001b[1;32m     20\u001b[0m \u001b[38;5;28;01mdef\u001b[39;00m \u001b[38;5;21mforward\u001b[39m(\u001b[38;5;28mself\u001b[39m, X):\n\u001b[0;32m---> 21\u001b[0m     \u001b[38;5;28;01mreturn\u001b[39;00m \u001b[38;5;28;43mself\u001b[39;49m\u001b[38;5;241;43m.\u001b[39;49m\u001b[43mmodel\u001b[49m\u001b[43m(\u001b[49m\u001b[43mX\u001b[49m\u001b[43m)\u001b[49m\n",
      "File \u001b[0;32m~/anaconda3/envs/torch39/lib/python3.9/site-packages/torch/nn/modules/module.py:1190\u001b[0m, in \u001b[0;36mModule._call_impl\u001b[0;34m(self, *input, **kwargs)\u001b[0m\n\u001b[1;32m   1186\u001b[0m \u001b[38;5;66;03m# If we don't have any hooks, we want to skip the rest of the logic in\u001b[39;00m\n\u001b[1;32m   1187\u001b[0m \u001b[38;5;66;03m# this function, and just call forward.\u001b[39;00m\n\u001b[1;32m   1188\u001b[0m \u001b[38;5;28;01mif\u001b[39;00m \u001b[38;5;129;01mnot\u001b[39;00m (\u001b[38;5;28mself\u001b[39m\u001b[38;5;241m.\u001b[39m_backward_hooks \u001b[38;5;129;01mor\u001b[39;00m \u001b[38;5;28mself\u001b[39m\u001b[38;5;241m.\u001b[39m_forward_hooks \u001b[38;5;129;01mor\u001b[39;00m \u001b[38;5;28mself\u001b[39m\u001b[38;5;241m.\u001b[39m_forward_pre_hooks \u001b[38;5;129;01mor\u001b[39;00m _global_backward_hooks\n\u001b[1;32m   1189\u001b[0m         \u001b[38;5;129;01mor\u001b[39;00m _global_forward_hooks \u001b[38;5;129;01mor\u001b[39;00m _global_forward_pre_hooks):\n\u001b[0;32m-> 1190\u001b[0m     \u001b[38;5;28;01mreturn\u001b[39;00m \u001b[43mforward_call\u001b[49m\u001b[43m(\u001b[49m\u001b[38;5;241;43m*\u001b[39;49m\u001b[38;5;28;43minput\u001b[39;49m\u001b[43m,\u001b[49m\u001b[43m \u001b[49m\u001b[38;5;241;43m*\u001b[39;49m\u001b[38;5;241;43m*\u001b[39;49m\u001b[43mkwargs\u001b[49m\u001b[43m)\u001b[49m\n\u001b[1;32m   1191\u001b[0m \u001b[38;5;66;03m# Do not call functions when jit is used\u001b[39;00m\n\u001b[1;32m   1192\u001b[0m full_backward_hooks, non_full_backward_hooks \u001b[38;5;241m=\u001b[39m [], []\n",
      "File \u001b[0;32m~/anaconda3/envs/torch39/lib/python3.9/site-packages/torch/nn/modules/container.py:204\u001b[0m, in \u001b[0;36mSequential.forward\u001b[0;34m(self, input)\u001b[0m\n\u001b[1;32m    202\u001b[0m \u001b[38;5;28;01mdef\u001b[39;00m \u001b[38;5;21mforward\u001b[39m(\u001b[38;5;28mself\u001b[39m, \u001b[38;5;28minput\u001b[39m):\n\u001b[1;32m    203\u001b[0m     \u001b[38;5;28;01mfor\u001b[39;00m module \u001b[38;5;129;01min\u001b[39;00m \u001b[38;5;28mself\u001b[39m:\n\u001b[0;32m--> 204\u001b[0m         \u001b[38;5;28minput\u001b[39m \u001b[38;5;241m=\u001b[39m \u001b[43mmodule\u001b[49m\u001b[43m(\u001b[49m\u001b[38;5;28;43minput\u001b[39;49m\u001b[43m)\u001b[49m\n\u001b[1;32m    205\u001b[0m     \u001b[38;5;28;01mreturn\u001b[39;00m \u001b[38;5;28minput\u001b[39m\n",
      "File \u001b[0;32m~/anaconda3/envs/torch39/lib/python3.9/site-packages/torch/nn/modules/module.py:1190\u001b[0m, in \u001b[0;36mModule._call_impl\u001b[0;34m(self, *input, **kwargs)\u001b[0m\n\u001b[1;32m   1186\u001b[0m \u001b[38;5;66;03m# If we don't have any hooks, we want to skip the rest of the logic in\u001b[39;00m\n\u001b[1;32m   1187\u001b[0m \u001b[38;5;66;03m# this function, and just call forward.\u001b[39;00m\n\u001b[1;32m   1188\u001b[0m \u001b[38;5;28;01mif\u001b[39;00m \u001b[38;5;129;01mnot\u001b[39;00m (\u001b[38;5;28mself\u001b[39m\u001b[38;5;241m.\u001b[39m_backward_hooks \u001b[38;5;129;01mor\u001b[39;00m \u001b[38;5;28mself\u001b[39m\u001b[38;5;241m.\u001b[39m_forward_hooks \u001b[38;5;129;01mor\u001b[39;00m \u001b[38;5;28mself\u001b[39m\u001b[38;5;241m.\u001b[39m_forward_pre_hooks \u001b[38;5;129;01mor\u001b[39;00m _global_backward_hooks\n\u001b[1;32m   1189\u001b[0m         \u001b[38;5;129;01mor\u001b[39;00m _global_forward_hooks \u001b[38;5;129;01mor\u001b[39;00m _global_forward_pre_hooks):\n\u001b[0;32m-> 1190\u001b[0m     \u001b[38;5;28;01mreturn\u001b[39;00m \u001b[43mforward_call\u001b[49m\u001b[43m(\u001b[49m\u001b[38;5;241;43m*\u001b[39;49m\u001b[38;5;28;43minput\u001b[39;49m\u001b[43m,\u001b[49m\u001b[43m \u001b[49m\u001b[38;5;241;43m*\u001b[39;49m\u001b[38;5;241;43m*\u001b[39;49m\u001b[43mkwargs\u001b[49m\u001b[43m)\u001b[49m\n\u001b[1;32m   1191\u001b[0m \u001b[38;5;66;03m# Do not call functions when jit is used\u001b[39;00m\n\u001b[1;32m   1192\u001b[0m full_backward_hooks, non_full_backward_hooks \u001b[38;5;241m=\u001b[39m [], []\n",
      "File \u001b[0;32m~/anaconda3/envs/torch39/lib/python3.9/site-packages/torch/nn/modules/container.py:204\u001b[0m, in \u001b[0;36mSequential.forward\u001b[0;34m(self, input)\u001b[0m\n\u001b[1;32m    202\u001b[0m \u001b[38;5;28;01mdef\u001b[39;00m \u001b[38;5;21mforward\u001b[39m(\u001b[38;5;28mself\u001b[39m, \u001b[38;5;28minput\u001b[39m):\n\u001b[1;32m    203\u001b[0m     \u001b[38;5;28;01mfor\u001b[39;00m module \u001b[38;5;129;01min\u001b[39;00m \u001b[38;5;28mself\u001b[39m:\n\u001b[0;32m--> 204\u001b[0m         \u001b[38;5;28minput\u001b[39m \u001b[38;5;241m=\u001b[39m \u001b[43mmodule\u001b[49m\u001b[43m(\u001b[49m\u001b[38;5;28;43minput\u001b[39;49m\u001b[43m)\u001b[49m\n\u001b[1;32m    205\u001b[0m     \u001b[38;5;28;01mreturn\u001b[39;00m \u001b[38;5;28minput\u001b[39m\n",
      "File \u001b[0;32m~/anaconda3/envs/torch39/lib/python3.9/site-packages/torch/nn/modules/module.py:1190\u001b[0m, in \u001b[0;36mModule._call_impl\u001b[0;34m(self, *input, **kwargs)\u001b[0m\n\u001b[1;32m   1186\u001b[0m \u001b[38;5;66;03m# If we don't have any hooks, we want to skip the rest of the logic in\u001b[39;00m\n\u001b[1;32m   1187\u001b[0m \u001b[38;5;66;03m# this function, and just call forward.\u001b[39;00m\n\u001b[1;32m   1188\u001b[0m \u001b[38;5;28;01mif\u001b[39;00m \u001b[38;5;129;01mnot\u001b[39;00m (\u001b[38;5;28mself\u001b[39m\u001b[38;5;241m.\u001b[39m_backward_hooks \u001b[38;5;129;01mor\u001b[39;00m \u001b[38;5;28mself\u001b[39m\u001b[38;5;241m.\u001b[39m_forward_hooks \u001b[38;5;129;01mor\u001b[39;00m \u001b[38;5;28mself\u001b[39m\u001b[38;5;241m.\u001b[39m_forward_pre_hooks \u001b[38;5;129;01mor\u001b[39;00m _global_backward_hooks\n\u001b[1;32m   1189\u001b[0m         \u001b[38;5;129;01mor\u001b[39;00m _global_forward_hooks \u001b[38;5;129;01mor\u001b[39;00m _global_forward_pre_hooks):\n\u001b[0;32m-> 1190\u001b[0m     \u001b[38;5;28;01mreturn\u001b[39;00m \u001b[43mforward_call\u001b[49m\u001b[43m(\u001b[49m\u001b[38;5;241;43m*\u001b[39;49m\u001b[38;5;28;43minput\u001b[39;49m\u001b[43m,\u001b[49m\u001b[43m \u001b[49m\u001b[38;5;241;43m*\u001b[39;49m\u001b[38;5;241;43m*\u001b[39;49m\u001b[43mkwargs\u001b[49m\u001b[43m)\u001b[49m\n\u001b[1;32m   1191\u001b[0m \u001b[38;5;66;03m# Do not call functions when jit is used\u001b[39;00m\n\u001b[1;32m   1192\u001b[0m full_backward_hooks, non_full_backward_hooks \u001b[38;5;241m=\u001b[39m [], []\n",
      "File \u001b[0;32m~/anaconda3/envs/torch39/lib/python3.9/site-packages/torch/nn/modules/linear.py:114\u001b[0m, in \u001b[0;36mLinear.forward\u001b[0;34m(self, input)\u001b[0m\n\u001b[1;32m    113\u001b[0m \u001b[38;5;28;01mdef\u001b[39;00m \u001b[38;5;21mforward\u001b[39m(\u001b[38;5;28mself\u001b[39m, \u001b[38;5;28minput\u001b[39m: Tensor) \u001b[38;5;241m-\u001b[39m\u001b[38;5;241m>\u001b[39m Tensor:\n\u001b[0;32m--> 114\u001b[0m     \u001b[38;5;28;01mreturn\u001b[39;00m \u001b[43mF\u001b[49m\u001b[38;5;241;43m.\u001b[39;49m\u001b[43mlinear\u001b[49m\u001b[43m(\u001b[49m\u001b[38;5;28;43minput\u001b[39;49m\u001b[43m,\u001b[49m\u001b[43m \u001b[49m\u001b[38;5;28;43mself\u001b[39;49m\u001b[38;5;241;43m.\u001b[39;49m\u001b[43mweight\u001b[49m\u001b[43m,\u001b[49m\u001b[43m \u001b[49m\u001b[38;5;28;43mself\u001b[39;49m\u001b[38;5;241;43m.\u001b[39;49m\u001b[43mbias\u001b[49m\u001b[43m)\u001b[49m\n",
      "\u001b[0;31mOutOfMemoryError\u001b[0m: CUDA out of memory. Tried to allocate 20.00 MiB (GPU 0; 7.78 GiB total capacity; 538.50 KiB already allocated; 7.94 MiB free; 2.00 MiB reserved in total by PyTorch) If reserved memory is >> allocated memory try setting max_split_size_mb to avoid fragmentation.  See documentation for Memory Management and PYTORCH_CUDA_ALLOC_CONF"
     ]
    }
   ],
   "source": [
    "# 训练\n",
    "dataset = DatasetAC(domain)\n",
    "X_res, X_bcs = dataset.train_data(Nsd, n_bcs)\n",
    "\n",
    "\n",
    "mu = X_res.mean(dim=0)\n",
    "sigma = X_res.std(dim=0)  # 求样本标准差\n",
    "\n",
    "backbone = MLP(mlp_layers)\n",
    "# 使用第一种权重生成方法\n",
    "pinn = PINNAC(backbone, mu, sigma, points_weight_fn=points_weight_fn1).to(device)\n",
    "\n",
    "optimizer_adam = optim.Adam(pinn.parameters(), lr=lr)\n",
    "# lr_sche_step = int( adam_epoch / (np.log(1e-3) / np.log(lr_sche_gamma)) )\n",
    "# print(f\"ExponentialLR, gamma: {lr_sche_gamma}, step: {lr_sche_step}\")\n",
    "lr_sche = optim.lr_scheduler.ExponentialLR(optimizer_adam, gamma=gamma, verbose=True)\n",
    "\n",
    "loss_r_log_adam = []\n",
    "loss_b_log_adam = []\n",
    "best_loss = 1e9\n",
    "\n",
    "with open(train_info_path + 'train_info.txt', 'w') as f:\n",
    "    f.write('Training by Adam:\\n')\n",
    "start_time = time.time()\n",
    "\n",
    "for epoch in range(adam_epoch):\n",
    "    pinn.zero_grad()\n",
    "    \n",
    "    loss_res, loss_bcs = pinn(X_res, X_bcs)\n",
    "    loss = loss_res + 1000*loss_bcs\n",
    "    \n",
    "    loss.backward()\n",
    "    optimizer_adam.step()\n",
    "    \n",
    "    loss_r_log_adam.append(loss_res.item())\n",
    "    loss_b_log_adam.append(loss_bcs.item())\n",
    "    \n",
    "    if (epoch + 1) % 1000==0:\n",
    "#         pinn.eval()\n",
    "        # 重采样----------第一种方法----------\n",
    "        X_resam1 = prob_resample(X_res, pinn.net_f)\n",
    "#         X_resam2 = prob_resample(X_bcs, pinn.net_u)\n",
    "        # 拼接数据\n",
    "        print(X_resam1.shape)\n",
    "#         print(X_resam2.shape)\n",
    "        X_res = torch.cat([X_res, X_resam1], dim=0)\n",
    "#         X_bcs = torch.cat([X_bcs, X_resam2], dim=0)\n",
    "        print(X_res.shape)\n",
    "#         pinn.train()\n",
    "        \n",
    "    if (epoch + 1) % 100 == 0:\n",
    "        info = f'Epoch # {epoch+1:5d}/{adam_epoch}\\ttime:{time.time()-start_time:.1e}\\t' + \\\n",
    "            f'loss:{loss.item():.2e}, loss_r:{loss_res.item():.2e}, loss_b:{loss_bcs.item():.2e}'\n",
    "        with open(train_info_path + 'train_info.txt', 'a') as f:\n",
    "            f.write(info + '\\n')\n",
    "        print(info)\n",
    "        model_state = {'epoch': epoch+1, 'state_dict': pinn.backbone.state_dict()}\n",
    "#         backbone_path = os.path.join(model_path, f'backbone_{epoch+1}.pth')\n",
    "#         torch.save(model_state, backbone_path)\n",
    "        if loss.item() < best_loss:\n",
    "            # 保存训练loss最低的模型\n",
    "            torch.save(model_state, os.path.join(model_path, f'backbone_adam.pth'))\n",
    "            best_loss = loss.item()\n",
    "            \n",
    "    if ((epoch + 1)>5000) and ((epoch + 1)<=15000):\n",
    "        if (epoch + 1 -5000) % step_size == 0:\n",
    "            lr_sche.step()\n",
    "#     if (epoch+1) % 1000 ==0:\n",
    "#         X_res, X_bcs = dataset.train_data(Nsd, n_bcs)"
   ]
  },
  {
   "cell_type": "code",
   "execution_count": null,
   "metadata": {
    "scrolled": true
   },
   "outputs": [],
   "source": [
    "mu = X_res.mean(dim=0)\n",
    "sigma = X_res.std(dim=0)  # 求样本标准差\n",
    "\n",
    "backbone = MLP(mlp_layers)\n",
    "# 使用第一种权重生成方法\n",
    "pinn = PINNAC(backbone, mu, sigma).to(device)\n",
    "\n",
    "model_state = torch.load(os.path.join(model_path, 'backbone_adam.pth'))\n",
    "pinn.backbone.load_state_dict(model_state['state_dict'])\n",
    "\n",
    "optimizer_lbfgs = optim.LBFGS(pinn.backbone.parameters(), max_iter=newton_iter, line_search_fn=\"strong_wolfe\",tolerance_grad=1.e-5,lr=0.8, tolerance_change=1.e-9)\n",
    "\n",
    "loss_r_log_lbfgs = []\n",
    "loss_b_log_lbfgs = []\n",
    "it = 0\n",
    "with open(train_info_path + 'train_info.txt', 'a') as f:\n",
    "    f.write('Training by LBFGS:\\n')\n",
    "\n",
    "\n",
    "def closure():\n",
    "    global it\n",
    "    pinn.zero_grad()\n",
    "    loss_res, loss_bcs = pinn(X_res, X_bcs)\n",
    "    loss = loss_res + 1000*loss_bcs\n",
    "    loss.backward()\n",
    "    it = it + 1\n",
    "    loss_r_log_lbfgs.append(loss_res.item())\n",
    "    loss_b_log_lbfgs.append(loss_bcs.item())\n",
    "    if (it + 1) % 100 == 0:\n",
    "        info = f'Iter # {it + 1:4d}' +  f'loss:{loss.item():.2e}, loss_r:{loss_res.item():.2e}, loss_b:{loss_bcs.item():.2e}'\n",
    "        with open(train_info_path + 'train_info.txt', 'a') as f:\n",
    "            f.write(info + '\\n')\n",
    "        print(info)\n",
    "    \n",
    "        \n",
    "    return loss\n",
    "\n",
    "for epoch in range(lbfgs_epoch):\n",
    "    optimizer_lbfgs.step(closure)\n",
    "    if loss.item() < best_loss:\n",
    "        # 保存训练loss最低的模型\n",
    "        torch.save(model_state, os.path.join(model_path, f'backbone_lbfgs.pth'))\n",
    "        best_loss = loss.item()\n",
    "    if (epoch+1) % 1000 ==0:\n",
    "        X_res, X_bcs = dataset.train_data(Nsd, n_bcs)"
   ]
  },
  {
   "cell_type": "code",
   "execution_count": null,
   "metadata": {},
   "outputs": [],
   "source": [
    "# fixed_w1 = fixed_w1.cpu()\n",
    "# X_res = X_res.cpu()\n",
    "# plt.scatter(X_res[:, 0], X_res[:, 1], c=fixed_w1[:, 0], cmap='jet')\n",
    "# plt.colorbar()\n",
    "# plt.xlim([xmin, xmax])\n",
    "# plt.ylim([ymin, ymax])\n",
    "# plt.xlabel('$x$')\n",
    "# plt.ylabel('$y$')\n",
    "# plt.title('Fixed points weight 1')\n",
    "# plt.tight_layout()"
   ]
  },
  {
   "cell_type": "markdown",
   "metadata": {},
   "source": [
    "## 结果可视化"
   ]
  },
  {
   "cell_type": "code",
   "execution_count": null,
   "metadata": {},
   "outputs": [],
   "source": [
    "plt.rcParams.update({'font.size':18})"
   ]
  },
  {
   "cell_type": "code",
   "execution_count": null,
   "metadata": {
    "ExecuteTime": {
     "start_time": "2022-10-23T08:12:56.729Z"
    }
   },
   "outputs": [],
   "source": [
    "plt.figure(figsize=(8, 6))\n",
    "plt.subplot(111)\n",
    "plt.plot(loss_r_log_adam+loss_r_log_lbfgs, label='$loss$')\n",
    "plt.plot(loss_b_log_adam+loss_b_log_lbfgs, label='$loss$')\n",
    "plt.xlabel('epochs')\n",
    "plt.yscale('log')\n",
    "plt.legend()\n",
    "plt.grid()\n",
    "plt.savefig('loss_log.png', dpi=100)\n",
    "plt.show()\n",
    "plt.savefig('loss_possion_Lshape.png', dpi=400)"
   ]
  },
  {
   "cell_type": "code",
   "execution_count": null,
   "metadata": {
    "ExecuteTime": {
     "end_time": "2022-10-23T08:39:36.964074Z",
     "start_time": "2022-10-23T08:39:36.463962Z"
    }
   },
   "outputs": [],
   "source": [
    "# load the data\n",
    "data = scipy.io.loadmat('Lpoission_more.mat')\n",
    "\n",
    "x = data['x']\n",
    "y = data['y']\n",
    "u_star = data['z']\n",
    "\n",
    "ax = plt.axes()\n",
    "ax.spines['top'].set_visible(False)\n",
    "ax.spines['right'].set_visible(False)\n",
    "ax.spines['bottom'].set_visible(False)\n",
    "ax.spines['left'].set_visible(False)\n",
    "ax.spines['bottom'].set_position(('data', -1))\n",
    "ax.spines['left'].set_position(('data', -1))\n",
    "plt.scatter(x, y, c=u_star, s=1, marker='.', cmap='jet')\n",
    "plt.colorbar()\n",
    "plt.xlabel('$x$')\n",
    "plt.ylabel('$y$')\n",
    "plt.title(r'Reference $u(x,y)$')\n",
    "plt.tight_layout()\n",
    "\n",
    "# print(x.shape)\n",
    "# xx, yy = np.meshgrid(x, y)\n",
    "X = np.concatenate([x.reshape((-1, 1)), y.reshape((-1, 1))], axis=1)\n",
    "u_star = u_star.reshape((1, -1))\n",
    "X.shape\n",
    "u_star.shape"
   ]
  },
  {
   "cell_type": "code",
   "execution_count": null,
   "metadata": {
    "ExecuteTime": {
     "start_time": "2022-10-23T08:12:56.731Z"
    }
   },
   "outputs": [],
   "source": [
    "pinn.eval()\n",
    "# X = np.hstack((xx.reshape(-1,1), yy.reshape(-1,1)))\n",
    "X = torch.from_numpy(X).double()\n",
    "\n",
    "pinn.mu = pinn.mu.cpu().double()\n",
    "pinn.sigma = pinn.sigma.cpu().double()\n",
    "pinn = pinn.cpu().double()\n",
    "u_pred = pinn.net_u(X).detach().numpy()\n",
    "u_pred = u_pred.reshape(x.shape)\n",
    "\n",
    "error = np.linalg.norm(u_pred - u_star) / np.linalg.norm(u_star)\n",
    "print('Relative l2 error: {:.3e}'.format(error))\n",
    "u_pred.shape"
   ]
  },
  {
   "cell_type": "code",
   "execution_count": null,
   "metadata": {},
   "outputs": [],
   "source": [
    "ax = plt.axes()\n",
    "ax.spines['top'].set_visible(False)\n",
    "ax.spines['right'].set_visible(False)\n",
    "ax.spines['bottom'].set_visible(False)\n",
    "ax.spines['left'].set_visible(False)\n",
    "ax.spines['bottom'].set_position(('data', -1))\n",
    "ax.spines['left'].set_position(('data', -1))\n",
    "plt.scatter(x, y, c=u_pred, s=1, marker='.', cmap='jet')\n",
    "plt.colorbar()\n",
    "plt.xlabel('$x$')\n",
    "plt.ylabel('$y$')\n",
    "plt.title(r'Predicted $u(x,y)$')\n",
    "plt.tight_layout()"
   ]
  },
  {
   "cell_type": "code",
   "execution_count": null,
   "metadata": {},
   "outputs": [],
   "source": [
    "plt.rcParams.update({'font.size':18})\n",
    "\n",
    "fig, ax = plt.subplots(3, figsize=(24, 5))\n",
    "\n",
    "ax1 = plt.subplot(1, 3, 1)\n",
    "ax1.spines['top'].set_visible(False)\n",
    "ax1.spines['right'].set_visible(False)\n",
    "ax1.spines['bottom'].set_visible(False)\n",
    "ax1.spines['left'].set_visible(False)\n",
    "ax1.spines['bottom'].set_position(('data', -1))\n",
    "ax1.spines['left'].set_position(('data', -1))\n",
    "plt.scatter(x, y, c=u_star, s=1, marker='.', cmap='jet')\n",
    "plt.colorbar()\n",
    "plt.xlabel('$x$')\n",
    "plt.ylabel('$y$')\n",
    "plt.title(r'Reference $u(x,y)$')\n",
    "plt.tight_layout()\n",
    "ax1.set_aspect(1./ax1.get_data_ratio())\n",
    "\n",
    "ax2 = plt.subplot(1, 3, 2)\n",
    "ax2.spines['top'].set_visible(False)\n",
    "ax2.spines['right'].set_visible(False)\n",
    "ax2.spines['bottom'].set_visible(False)\n",
    "ax2.spines['left'].set_visible(False)\n",
    "ax2.spines['bottom'].set_position(('data', -1))\n",
    "ax2.spines['left'].set_position(('data', -1))\n",
    "plt.scatter(x, y, c=u_pred, s=1, marker='.', cmap='jet')\n",
    "plt.colorbar()\n",
    "plt.xlabel('$x$')\n",
    "plt.ylabel('$y$')\n",
    "plt.title(r'Predicted $u(x,y)$')\n",
    "plt.tight_layout()\n",
    "ax2.set_aspect(1./ax2.get_data_ratio())\n",
    "\n",
    "ax3 = plt.subplot(1, 3, 3)\n",
    "ax3.spines['top'].set_visible(False)\n",
    "ax3.spines['right'].set_visible(False)\n",
    "ax3.spines['bottom'].set_visible(False)\n",
    "ax3.spines['left'].set_visible(False)\n",
    "ax3.spines['bottom'].set_position(('data', -1))\n",
    "ax3.spines['left'].set_position(('data', -1))\n",
    "plt.scatter(x, y, c=np.abs(u_star-u_pred), s=1, marker='.', cmap='jet')\n",
    "cbar = plt.colorbar()\n",
    "cbar.formatter.set_powerlimits((0,0))\n",
    "plt.xlabel('$x$')\n",
    "plt.ylabel('$y$')\n",
    "plt.title(r'Absolute error')\n",
    "plt.tight_layout()\n",
    "ax3.set_aspect(1./ax3.get_data_ratio())\n",
    "plt.savefig('result_possion_Lshape.png', dpi=400)"
   ]
  },
  {
   "cell_type": "code",
   "execution_count": null,
   "metadata": {},
   "outputs": [],
   "source": []
  }
 ],
 "metadata": {
  "kernelspec": {
   "display_name": "torch39",
   "language": "python",
   "name": "torch39"
  },
  "language_info": {
   "codemirror_mode": {
    "name": "ipython",
    "version": 3
   },
   "file_extension": ".py",
   "mimetype": "text/x-python",
   "name": "python",
   "nbconvert_exporter": "python",
   "pygments_lexer": "ipython3",
   "version": "3.9.13"
  },
  "toc": {
   "base_numbering": 1,
   "nav_menu": {},
   "number_sections": true,
   "sideBar": true,
   "skip_h1_title": false,
   "title_cell": "Table of Contents",
   "title_sidebar": "Contents",
   "toc_cell": false,
   "toc_position": {},
   "toc_section_display": true,
   "toc_window_display": false
  },
  "varInspector": {
   "cols": {
    "lenName": 16,
    "lenType": 16,
    "lenVar": 40
   },
   "kernels_config": {
    "python": {
     "delete_cmd_postfix": "",
     "delete_cmd_prefix": "del ",
     "library": "var_list.py",
     "varRefreshCmd": "print(var_dic_list())"
    },
    "r": {
     "delete_cmd_postfix": ") ",
     "delete_cmd_prefix": "rm(",
     "library": "var_list.r",
     "varRefreshCmd": "cat(var_dic_list()) "
    }
   },
   "types_to_exclude": [
    "module",
    "function",
    "builtin_function_or_method",
    "instance",
    "_Feature"
   ],
   "window_display": false
  }
 },
 "nbformat": 4,
 "nbformat_minor": 4
}
